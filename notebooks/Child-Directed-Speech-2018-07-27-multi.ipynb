{
 "cells": [
  {
   "cell_type": "markdown",
   "metadata": {},
   "source": [
    "# Child Directed Speech consistency test `2018-07-27`\n",
    "New (2018-07-05) Grammar Tester, server `94.130.238.118`  \n",
    "Each line is calculated 5x, parsing metrics tested 1x for each calculation.  \n",
    "This notebook is shared as static html via  \n",
    "[http://langlearn.singularitynet.io/data/clustering_2018/html/Child-Directed-Speech-2018-07-27-multi.html](http://langlearn.singularitynet.io/data/clustering_2018/html/Child-Directed-Speech-2018-07-27-multi.html)  "
   ]
  },
  {
   "cell_type": "markdown",
   "metadata": {},
   "source": [
    "## Basic settings"
   ]
  },
  {
   "cell_type": "code",
   "execution_count": 1,
   "metadata": {},
   "outputs": [
    {
     "name": "stdout",
     "output_type": "stream",
     "text": [
      "2018-07-27 15:47:20 UTC :: module_path = /home/obaskov/language-learning\n"
     ]
    }
   ],
   "source": [
    "import os, sys, time\n",
    "from IPython.display import display\n",
    "module_path = os.path.abspath(os.path.join('..'))\n",
    "if module_path not in sys.path: \n",
    "    sys.path.append(module_path)\n",
    "grammar_learner_path = module_path + '/src/grammar_learner/'\n",
    "if os.path.exists(grammar_learner_path) and grammar_learner_path not in sys.path: \n",
    "    sys.path.append(grammar_learner_path)\n",
    "from utl import UTC\n",
    "from read_files import check_dir\n",
    "from widgets import html_table\n",
    "from pqa_table import table_cds\n",
    "table = []\n",
    "long_table = []\n",
    "header = ['Line','Corpus','Parsing','LW','\".\"','Generalization','Space','Rules','PA','PQ']\n",
    "start = time.time()\n",
    "print(UTC(), ':: module_path =', module_path)"
   ]
  },
  {
   "cell_type": "markdown",
   "metadata": {},
   "source": [
    "## Corpus test settings"
   ]
  },
  {
   "cell_type": "code",
   "execution_count": 2,
   "metadata": {},
   "outputs": [],
   "source": [
    "out_dir = module_path + '/output/Child-Directed-Speech-' + str(UTC())[:10]\n",
    "runs = (10,1)    # (attempts to learn grammar per line, grammar tests per attempt)\n",
    "if runs != (1,1): out_dir += '-multi'\n",
    "kwargs = {\n",
    "    'left_wall'     :   ''          ,\n",
    "    'period'        :   False       ,\n",
    "    'clustering'    :   'kmeans'    ,\n",
    "    'cluster_range' :   (30,100,2)  ,\n",
    "    'cluster_criteria': 'silhouette',\n",
    "    'cluster_level' :   1           ,\n",
    "    'tmpath'        :   module_path + '/tmp/' , \n",
    "    'verbose'       :   'min'       ,\n",
    "    'template_path' :   'poc-turtle',\n",
    "    'linkage_limit' :   1000         ,\n",
    "    'categories_generalization': 'off' }\n",
    "lines = [\n",
    "    [52, 'ChildDirectedSpeech' , 'LG-English'                     ,0,0, 'none'  ], \n",
    "    [53, 'ChildDirectedSpeech' , 'LG-English'                     ,0,0, 'rules' ], \n",
    "    [54, 'ChildDirectedSpeech' , 'R=6-Weight=6:R-mst-weight=+1:R' ,0,0, 'none'  ], \n",
    "    [55, 'ChildDirectedSpeech' , 'R=6-Weight=6:R-mst-weight=+1:R' ,0,0, 'rules' ]]\n",
    "rp = module_path + '/data/ChildDirectedSpeech/LG-English'\n",
    "cp = rp  # corpus path = reference_path :: use 'gold' parses as test corpus"
   ]
  },
  {
   "cell_type": "markdown",
   "metadata": {},
   "source": [
    "# ULL Project Plan ⇒ Parses ⇒ lines 52-55"
   ]
  },
  {
   "cell_type": "code",
   "execution_count": 3,
   "metadata": {},
   "outputs": [],
   "source": [
    "%%capture\n",
    "kwargs['context'] = 1\n",
    "kwargs['word_space'] = 'vectors'\n",
    "kwargs['clustering'] = 'kmeans'\n",
    "kwargs['grammar_rules'] = 1\n",
    "average21, long21 = table_cds(lines, out_dir, cp, rp, runs, **kwargs)\n",
    "table.extend(average21)\n",
    "long_table.extend(long21)\n",
    "kwargs['grammar_rules'] = 2\n",
    "average22, long22 = table_cds(lines, out_dir, cp, rp, runs, **kwargs)\n",
    "table.extend(average22)\n",
    "long_table.extend(long22)\n",
    "kwargs['context'] = 2\n",
    "average23, long23 = table_cds(lines, out_dir, cp, rp, runs, **kwargs)\n",
    "table.extend(average23)\n",
    "long_table.extend(long23)\n",
    "kwargs['word_space'] = 'discrete'\n",
    "kwargs['clustering'] = 'group'\n",
    "average24, long24 = table_cds(lines, out_dir, cp, rp, runs, **kwargs)\n",
    "table.extend(average24)\n",
    "long_table.extend(long24)"
   ]
  },
  {
   "cell_type": "code",
   "execution_count": 4,
   "metadata": {},
   "outputs": [
    {
     "data": {
      "text/html": [
       "<table><tr><td>Line</td><td>Corpus</td><td>Parsing</td><td>LW</td><td>\".\"</td><td>Generalization</td><td>Space</td><td>Rules</td><td>PA</td><td>PQ</td></tr><tr><td>52</td><td>ChildDirectedSpeech</td><td>LG-English</td><td> -- </td><td> -- </td><td>none</td><td>cDRKc</td><td>91</td><td>59%</td><td>48%</td></tr><tr><td>54</td><td>ChildDirectedSpeech</td><td>R=6-Weight=6:R-mst-weight=+1:R</td><td> -- </td><td> -- </td><td>none</td><td>cDRKc</td><td>68</td><td>57%</td><td>41%</td></tr><tr><td>52</td><td>ChildDirectedSpeech</td><td>LG-English</td><td> -- </td><td> -- </td><td>none</td><td>cDRKd</td><td>90</td><td>54%</td><td>47%</td></tr><tr><td>53</td><td>ChildDirectedSpeech</td><td>LG-English</td><td> -- </td><td> -- </td><td>rules</td><td>cDRKd</td><td>94</td><td>55%</td><td>47%</td></tr><tr><td>54</td><td>ChildDirectedSpeech</td><td>R=6-Weight=6:R-mst-weight=+1:R</td><td> -- </td><td> -- </td><td>none</td><td>cDRKd</td><td>72</td><td>55%</td><td>38%</td></tr><tr><td>55</td><td>ChildDirectedSpeech</td><td>R=6-Weight=6:R-mst-weight=+1:R</td><td> -- </td><td> -- </td><td>rules</td><td>cDRKd</td><td>68</td><td>55%</td><td>38%</td></tr><tr><td>52</td><td>ChildDirectedSpeech</td><td>LG-English</td><td> -- </td><td> -- </td><td>none</td><td>dDRKd</td><td>77</td><td>54%</td><td>46%</td></tr><tr><td>53</td><td>ChildDirectedSpeech</td><td>LG-English</td><td> -- </td><td> -- </td><td>rules</td><td>dDRKd</td><td>79</td><td>54%</td><td>46%</td></tr><tr><td>54</td><td>ChildDirectedSpeech</td><td>R=6-Weight=6:R-mst-weight=+1:R</td><td> -- </td><td> -- </td><td>none</td><td>dDRKd</td><td>95</td><td>50%</td><td>35%</td></tr><tr><td>55</td><td>ChildDirectedSpeech</td><td>R=6-Weight=6:R-mst-weight=+1:R</td><td> -- </td><td> -- </td><td>rules</td><td>dDRKd</td><td>94</td><td>51%</td><td>35%</td></tr><tr><td>52</td><td>ChildDirectedSpeech</td><td>LG-English</td><td> -- </td><td> -- </td><td>none</td><td>dILEd</td><td>2980</td><td>39%</td><td>37%</td></tr><tr><td>53</td><td>ChildDirectedSpeech</td><td>LG-English</td><td> -- </td><td> -- </td><td>rules</td><td>dILEd</td><td>2424</td><td>40%</td><td>37%</td></tr><tr><td>54</td><td>ChildDirectedSpeech</td><td>R=6-Weight=6:R-mst-weight=+1:R</td><td> -- </td><td> -- </td><td>none</td><td>dILEd</td><td>3558</td><td>0%</td><td>0%</td></tr><tr><td>55</td><td>ChildDirectedSpeech</td><td>R=6-Weight=6:R-mst-weight=+1:R</td><td> -- </td><td> -- </td><td>rules</td><td>dILEd</td><td>3415</td><td>38%</td><td>28%</td></tr></table>"
      ],
      "text/plain": [
       "<IPython.core.display.HTML object>"
      ]
     },
     "metadata": {},
     "output_type": "display_data"
    },
    {
     "name": "stdout",
     "output_type": "stream",
     "text": [
      "2018-07-27 22:20:53 UTC\n"
     ]
    }
   ],
   "source": [
    "display(html_table([header]+table))\n",
    "print(UTC())"
   ]
  },
  {
   "cell_type": "markdown",
   "metadata": {},
   "source": [
    "# Consistency check -- multiple test run results"
   ]
  },
  {
   "cell_type": "code",
   "execution_count": 5,
   "metadata": {},
   "outputs": [
    {
     "data": {
      "text/html": [
       "<table><tr><td>Line</td><td>Corpus</td><td>Parsing</td><td>LW</td><td>\".\"</td><td>Generalization</td><td>Space</td><td>Rules</td><td>PA</td><td>PQ</td></tr><tr><td>52</td><td>ChildDirectedSpeech</td><td>LG-English</td><td> -- </td><td> -- </td><td>none</td><td>cDRKc</td><td> 86 </td><td>60%</td><td>48%</td></tr><tr><td>52</td><td>ChildDirectedSpeech</td><td>LG-English</td><td> -- </td><td> -- </td><td>none</td><td>cDRKc</td><td> 96 </td><td>58%</td><td>48%</td></tr><tr><td>52</td><td>ChildDirectedSpeech</td><td>LG-English</td><td> -- </td><td> -- </td><td>none</td><td>cDRKc</td><td> 84 </td><td>60%</td><td>48%</td></tr><tr><td>52</td><td>ChildDirectedSpeech</td><td>LG-English</td><td> -- </td><td> -- </td><td>none</td><td>cDRKc</td><td> 98 </td><td>58%</td><td>48%</td></tr><tr><td>52</td><td>ChildDirectedSpeech</td><td>LG-English</td><td> -- </td><td> -- </td><td>none</td><td>cDRKc</td><td> 98 </td><td>59%</td><td>48%</td></tr><tr><td>52</td><td>ChildDirectedSpeech</td><td>LG-English</td><td> -- </td><td> -- </td><td>none</td><td>cDRKc</td><td> 96 </td><td>60%</td><td>48%</td></tr><tr><td>52</td><td>ChildDirectedSpeech</td><td>LG-English</td><td> -- </td><td> -- </td><td>none</td><td>cDRKc</td><td> 88 </td><td>60%</td><td>48%</td></tr><tr><td>52</td><td>ChildDirectedSpeech</td><td>LG-English</td><td> -- </td><td> -- </td><td>none</td><td>cDRKc</td><td> 88 </td><td>60%</td><td>48%</td></tr><tr><td>52</td><td>ChildDirectedSpeech</td><td>LG-English</td><td> -- </td><td> -- </td><td>none</td><td>cDRKc</td><td> 88 </td><td>59%</td><td>48%</td></tr><tr><td>52</td><td>ChildDirectedSpeech</td><td>LG-English</td><td> -- </td><td> -- </td><td>none</td><td>cDRKc</td><td> 86 </td><td>60%</td><td>48%</td></tr><tr><td>54</td><td>ChildDirectedSpeech</td><td>R=6-Weight=6:R-mst-weight=+1:R</td><td> -- </td><td> -- </td><td>none</td><td>cDRKc</td><td> 70 </td><td>57%</td><td>41%</td></tr><tr><td>54</td><td>ChildDirectedSpeech</td><td>R=6-Weight=6:R-mst-weight=+1:R</td><td> -- </td><td> -- </td><td>none</td><td>cDRKc</td><td> 54 </td><td>57%</td><td>41%</td></tr><tr><td>54</td><td>ChildDirectedSpeech</td><td>R=6-Weight=6:R-mst-weight=+1:R</td><td> -- </td><td> -- </td><td>none</td><td>cDRKc</td><td> 62 </td><td>57%</td><td>41%</td></tr><tr><td>54</td><td>ChildDirectedSpeech</td><td>R=6-Weight=6:R-mst-weight=+1:R</td><td> -- </td><td> -- </td><td>none</td><td>cDRKc</td><td> 62 </td><td>57%</td><td>41%</td></tr><tr><td>54</td><td>ChildDirectedSpeech</td><td>R=6-Weight=6:R-mst-weight=+1:R</td><td> -- </td><td> -- </td><td>none</td><td>cDRKc</td><td> 58 </td><td>57%</td><td>41%</td></tr><tr><td>54</td><td>ChildDirectedSpeech</td><td>R=6-Weight=6:R-mst-weight=+1:R</td><td> -- </td><td> -- </td><td>none</td><td>cDRKc</td><td> 72 </td><td>57%</td><td>41%</td></tr><tr><td>54</td><td>ChildDirectedSpeech</td><td>R=6-Weight=6:R-mst-weight=+1:R</td><td> -- </td><td> -- </td><td>none</td><td>cDRKc</td><td> 70 </td><td>57%</td><td>41%</td></tr><tr><td>54</td><td>ChildDirectedSpeech</td><td>R=6-Weight=6:R-mst-weight=+1:R</td><td> -- </td><td> -- </td><td>none</td><td>cDRKc</td><td> 68 </td><td>57%</td><td>41%</td></tr><tr><td>54</td><td>ChildDirectedSpeech</td><td>R=6-Weight=6:R-mst-weight=+1:R</td><td> -- </td><td> -- </td><td>none</td><td>cDRKc</td><td> 92 </td><td>57%</td><td>41%</td></tr><tr><td>54</td><td>ChildDirectedSpeech</td><td>R=6-Weight=6:R-mst-weight=+1:R</td><td> -- </td><td> -- </td><td>none</td><td>cDRKc</td><td> 74 </td><td>57%</td><td>41%</td></tr><tr><td>52</td><td>ChildDirectedSpeech</td><td>LG-English</td><td> -- </td><td> -- </td><td>none</td><td>cDRKd</td><td> 86 </td><td>55%</td><td>47%</td></tr><tr><td>52</td><td>ChildDirectedSpeech</td><td>LG-English</td><td> -- </td><td> -- </td><td>none</td><td>cDRKd</td><td> 94 </td><td>53%</td><td>46%</td></tr><tr><td>52</td><td>ChildDirectedSpeech</td><td>LG-English</td><td> -- </td><td> -- </td><td>none</td><td>cDRKd</td><td> 92 </td><td>55%</td><td>47%</td></tr><tr><td>52</td><td>ChildDirectedSpeech</td><td>LG-English</td><td> -- </td><td> -- </td><td>none</td><td>cDRKd</td><td> 96 </td><td>54%</td><td>47%</td></tr><tr><td>52</td><td>ChildDirectedSpeech</td><td>LG-English</td><td> -- </td><td> -- </td><td>none</td><td>cDRKd</td><td> 90 </td><td>54%</td><td>47%</td></tr><tr><td>52</td><td>ChildDirectedSpeech</td><td>LG-English</td><td> -- </td><td> -- </td><td>none</td><td>cDRKd</td><td> 98 </td><td>54%</td><td>46%</td></tr><tr><td>52</td><td>ChildDirectedSpeech</td><td>LG-English</td><td> -- </td><td> -- </td><td>none</td><td>cDRKd</td><td> 84 </td><td>55%</td><td>48%</td></tr><tr><td>52</td><td>ChildDirectedSpeech</td><td>LG-English</td><td> -- </td><td> -- </td><td>none</td><td>cDRKd</td><td> 84 </td><td>55%</td><td>47%</td></tr><tr><td>52</td><td>ChildDirectedSpeech</td><td>LG-English</td><td> -- </td><td> -- </td><td>none</td><td>cDRKd</td><td> 76 </td><td>57%</td><td>47%</td></tr><tr><td>52</td><td>ChildDirectedSpeech</td><td>LG-English</td><td> -- </td><td> -- </td><td>none</td><td>cDRKd</td><td> 98 </td><td>53%</td><td>46%</td></tr><tr><td>53</td><td>ChildDirectedSpeech</td><td>LG-English</td><td> -- </td><td> -- </td><td>rules</td><td>cDRKd</td><td> 96 </td><td>54%</td><td>47%</td></tr><tr><td>53</td><td>ChildDirectedSpeech</td><td>LG-English</td><td> -- </td><td> -- </td><td>rules</td><td>cDRKd</td><td> 88 </td><td>55%</td><td>47%</td></tr><tr><td>53</td><td>ChildDirectedSpeech</td><td>LG-English</td><td> -- </td><td> -- </td><td>rules</td><td>cDRKd</td><td> 94 </td><td>54%</td><td>47%</td></tr><tr><td>53</td><td>ChildDirectedSpeech</td><td>LG-English</td><td> -- </td><td> -- </td><td>rules</td><td>cDRKd</td><td> 86 </td><td>56%</td><td>47%</td></tr><tr><td>53</td><td>ChildDirectedSpeech</td><td>LG-English</td><td> -- </td><td> -- </td><td>rules</td><td>cDRKd</td><td> 98 </td><td>53%</td><td>46%</td></tr><tr><td>53</td><td>ChildDirectedSpeech</td><td>LG-English</td><td> -- </td><td> -- </td><td>rules</td><td>cDRKd</td><td> 96 </td><td>55%</td><td>48%</td></tr><tr><td>53</td><td>ChildDirectedSpeech</td><td>LG-English</td><td> -- </td><td> -- </td><td>rules</td><td>cDRKd</td><td> 98 </td><td>52%</td><td>46%</td></tr><tr><td>53</td><td>ChildDirectedSpeech</td><td>LG-English</td><td> -- </td><td> -- </td><td>rules</td><td>cDRKd</td><td> 98 </td><td>55%</td><td>47%</td></tr><tr><td>53</td><td>ChildDirectedSpeech</td><td>LG-English</td><td> -- </td><td> -- </td><td>rules</td><td>cDRKd</td><td> 86 </td><td>56%</td><td>48%</td></tr><tr><td>53</td><td>ChildDirectedSpeech</td><td>LG-English</td><td> -- </td><td> -- </td><td>rules</td><td>cDRKd</td><td> 96 </td><td>56%</td><td>47%</td></tr><tr><td>54</td><td>ChildDirectedSpeech</td><td>R=6-Weight=6:R-mst-weight=+1:R</td><td> -- </td><td> -- </td><td>none</td><td>cDRKd</td><td> 70 </td><td>55%</td><td>38%</td></tr><tr><td>54</td><td>ChildDirectedSpeech</td><td>R=6-Weight=6:R-mst-weight=+1:R</td><td> -- </td><td> -- </td><td>none</td><td>cDRKd</td><td> 88 </td><td>52%</td><td>36%</td></tr><tr><td>54</td><td>ChildDirectedSpeech</td><td>R=6-Weight=6:R-mst-weight=+1:R</td><td> -- </td><td> -- </td><td>none</td><td>cDRKd</td><td> 70 </td><td>55%</td><td>38%</td></tr><tr><td>54</td><td>ChildDirectedSpeech</td><td>R=6-Weight=6:R-mst-weight=+1:R</td><td> -- </td><td> -- </td><td>none</td><td>cDRKd</td><td> 78 </td><td>54%</td><td>38%</td></tr><tr><td>54</td><td>ChildDirectedSpeech</td><td>R=6-Weight=6:R-mst-weight=+1:R</td><td> -- </td><td> -- </td><td>none</td><td>cDRKd</td><td> 70 </td><td>54%</td><td>37%</td></tr><tr><td>54</td><td>ChildDirectedSpeech</td><td>R=6-Weight=6:R-mst-weight=+1:R</td><td> -- </td><td> -- </td><td>none</td><td>cDRKd</td><td> 72 </td><td>55%</td><td>38%</td></tr><tr><td>54</td><td>ChildDirectedSpeech</td><td>R=6-Weight=6:R-mst-weight=+1:R</td><td> -- </td><td> -- </td><td>none</td><td>cDRKd</td><td> 54 </td><td>56%</td><td>39%</td></tr><tr><td>54</td><td>ChildDirectedSpeech</td><td>R=6-Weight=6:R-mst-weight=+1:R</td><td> -- </td><td> -- </td><td>none</td><td>cDRKd</td><td> 70 </td><td>55%</td><td>38%</td></tr><tr><td>54</td><td>ChildDirectedSpeech</td><td>R=6-Weight=6:R-mst-weight=+1:R</td><td> -- </td><td> -- </td><td>none</td><td>cDRKd</td><td> 72 </td><td>54%</td><td>37%</td></tr><tr><td>54</td><td>ChildDirectedSpeech</td><td>R=6-Weight=6:R-mst-weight=+1:R</td><td> -- </td><td> -- </td><td>none</td><td>cDRKd</td><td> 76 </td><td>54%</td><td>37%</td></tr><tr><td>55</td><td>ChildDirectedSpeech</td><td>R=6-Weight=6:R-mst-weight=+1:R</td><td> -- </td><td> -- </td><td>rules</td><td>cDRKd</td><td> 78 </td><td>54%</td><td>37%</td></tr><tr><td>55</td><td>ChildDirectedSpeech</td><td>R=6-Weight=6:R-mst-weight=+1:R</td><td> -- </td><td> -- </td><td>rules</td><td>cDRKd</td><td> 70 </td><td>55%</td><td>38%</td></tr><tr><td>55</td><td>ChildDirectedSpeech</td><td>R=6-Weight=6:R-mst-weight=+1:R</td><td> -- </td><td> -- </td><td>rules</td><td>cDRKd</td><td> 66 </td><td>54%</td><td>38%</td></tr><tr><td>55</td><td>ChildDirectedSpeech</td><td>R=6-Weight=6:R-mst-weight=+1:R</td><td> -- </td><td> -- </td><td>rules</td><td>cDRKd</td><td> 60 </td><td>55%</td><td>38%</td></tr><tr><td>55</td><td>ChildDirectedSpeech</td><td>R=6-Weight=6:R-mst-weight=+1:R</td><td> -- </td><td> -- </td><td>rules</td><td>cDRKd</td><td> 76 </td><td>54%</td><td>37%</td></tr><tr><td>55</td><td>ChildDirectedSpeech</td><td>R=6-Weight=6:R-mst-weight=+1:R</td><td> -- </td><td> -- </td><td>rules</td><td>cDRKd</td><td> 62 </td><td>56%</td><td>39%</td></tr><tr><td>55</td><td>ChildDirectedSpeech</td><td>R=6-Weight=6:R-mst-weight=+1:R</td><td> -- </td><td> -- </td><td>rules</td><td>cDRKd</td><td> 58 </td><td>56%</td><td>39%</td></tr><tr><td>55</td><td>ChildDirectedSpeech</td><td>R=6-Weight=6:R-mst-weight=+1:R</td><td> -- </td><td> -- </td><td>rules</td><td>cDRKd</td><td> 72 </td><td>54%</td><td>37%</td></tr><tr><td>55</td><td>ChildDirectedSpeech</td><td>R=6-Weight=6:R-mst-weight=+1:R</td><td> -- </td><td> -- </td><td>rules</td><td>cDRKd</td><td> 70 </td><td>55%</td><td>38%</td></tr><tr><td>55</td><td>ChildDirectedSpeech</td><td>R=6-Weight=6:R-mst-weight=+1:R</td><td> -- </td><td> -- </td><td>rules</td><td>cDRKd</td><td> 64 </td><td>55%</td><td>38%</td></tr><tr><td>52</td><td>ChildDirectedSpeech</td><td>LG-English</td><td> -- </td><td> -- </td><td>none</td><td>dDRKd</td><td> 86 </td><td>52%</td><td>46%</td></tr><tr><td>52</td><td>ChildDirectedSpeech</td><td>LG-English</td><td> -- </td><td> -- </td><td>none</td><td>dDRKd</td><td> 78 </td><td>55%</td><td>46%</td></tr><tr><td>52</td><td>ChildDirectedSpeech</td><td>LG-English</td><td> -- </td><td> -- </td><td>none</td><td>dDRKd</td><td> 62 </td><td>56%</td><td>46%</td></tr><tr><td>52</td><td>ChildDirectedSpeech</td><td>LG-English</td><td> -- </td><td> -- </td><td>none</td><td>dDRKd</td><td> 82 </td><td>53%</td><td>45%</td></tr><tr><td>52</td><td>ChildDirectedSpeech</td><td>LG-English</td><td> -- </td><td> -- </td><td>none</td><td>dDRKd</td><td> 86 </td><td>53%</td><td>46%</td></tr><tr><td>52</td><td>ChildDirectedSpeech</td><td>LG-English</td><td> -- </td><td> -- </td><td>none</td><td>dDRKd</td><td> 78 </td><td>53%</td><td>46%</td></tr><tr><td>52</td><td>ChildDirectedSpeech</td><td>LG-English</td><td> -- </td><td> -- </td><td>none</td><td>dDRKd</td><td> 78 </td><td>53%</td><td>46%</td></tr><tr><td>52</td><td>ChildDirectedSpeech</td><td>LG-English</td><td> -- </td><td> -- </td><td>none</td><td>dDRKd</td><td> 98 </td><td>52%</td><td>45%</td></tr><tr><td>52</td><td>ChildDirectedSpeech</td><td>LG-English</td><td> -- </td><td> -- </td><td>none</td><td>dDRKd</td><td> 78 </td><td>54%</td><td>46%</td></tr><tr><td>52</td><td>ChildDirectedSpeech</td><td>LG-English</td><td> -- </td><td> -- </td><td>none</td><td>dDRKd</td><td> 46 </td><td>58%</td><td>46%</td></tr><tr><td>53</td><td>ChildDirectedSpeech</td><td>LG-English</td><td> -- </td><td> -- </td><td>rules</td><td>dDRKd</td><td> 82 </td><td>53%</td><td>45%</td></tr><tr><td>53</td><td>ChildDirectedSpeech</td><td>LG-English</td><td> -- </td><td> -- </td><td>rules</td><td>dDRKd</td><td> 72 </td><td>54%</td><td>46%</td></tr><tr><td>53</td><td>ChildDirectedSpeech</td><td>LG-English</td><td> -- </td><td> -- </td><td>rules</td><td>dDRKd</td><td> 96 </td><td>51%</td><td>45%</td></tr><tr><td>53</td><td>ChildDirectedSpeech</td><td>LG-English</td><td> -- </td><td> -- </td><td>rules</td><td>dDRKd</td><td> 73 </td><td>55%</td><td>46%</td></tr><tr><td>53</td><td>ChildDirectedSpeech</td><td>LG-English</td><td> -- </td><td> -- </td><td>rules</td><td>dDRKd</td><td> 56 </td><td>56%</td><td>46%</td></tr><tr><td>53</td><td>ChildDirectedSpeech</td><td>LG-English</td><td> -- </td><td> -- </td><td>rules</td><td>dDRKd</td><td> 94 </td><td>52%</td><td>45%</td></tr><tr><td>53</td><td>ChildDirectedSpeech</td><td>LG-English</td><td> -- </td><td> -- </td><td>rules</td><td>dDRKd</td><td> 98 </td><td>51%</td><td>45%</td></tr><tr><td>53</td><td>ChildDirectedSpeech</td><td>LG-English</td><td> -- </td><td> -- </td><td>rules</td><td>dDRKd</td><td> 62 </td><td>56%</td><td>46%</td></tr><tr><td>53</td><td>ChildDirectedSpeech</td><td>LG-English</td><td> -- </td><td> -- </td><td>rules</td><td>dDRKd</td><td> 78 </td><td>54%</td><td>46%</td></tr><tr><td>53</td><td>ChildDirectedSpeech</td><td>LG-English</td><td> -- </td><td> -- </td><td>rules</td><td>dDRKd</td><td> 78 </td><td>54%</td><td>46%</td></tr><tr><td>54</td><td>ChildDirectedSpeech</td><td>R=6-Weight=6:R-mst-weight=+1:R</td><td> -- </td><td> -- </td><td>none</td><td>dDRKd</td><td> 98 </td><td>51%</td><td>35%</td></tr><tr><td>54</td><td>ChildDirectedSpeech</td><td>R=6-Weight=6:R-mst-weight=+1:R</td><td> -- </td><td> -- </td><td>none</td><td>dDRKd</td><td> 98 </td><td>50%</td><td>34%</td></tr><tr><td>54</td><td>ChildDirectedSpeech</td><td>R=6-Weight=6:R-mst-weight=+1:R</td><td> -- </td><td> -- </td><td>none</td><td>dDRKd</td><td> 92 </td><td>50%</td><td>34%</td></tr><tr><td>54</td><td>ChildDirectedSpeech</td><td>R=6-Weight=6:R-mst-weight=+1:R</td><td> -- </td><td> -- </td><td>none</td><td>dDRKd</td><td> 92 </td><td>52%</td><td>36%</td></tr><tr><td>54</td><td>ChildDirectedSpeech</td><td>R=6-Weight=6:R-mst-weight=+1:R</td><td> -- </td><td> -- </td><td>none</td><td>dDRKd</td><td> 92 </td><td>51%</td><td>35%</td></tr><tr><td>54</td><td>ChildDirectedSpeech</td><td>R=6-Weight=6:R-mst-weight=+1:R</td><td> -- </td><td> -- </td><td>none</td><td>dDRKd</td><td> 92 </td><td>51%</td><td>35%</td></tr><tr><td>54</td><td>ChildDirectedSpeech</td><td>R=6-Weight=6:R-mst-weight=+1:R</td><td> -- </td><td> -- </td><td>none</td><td>dDRKd</td><td> 96 </td><td>49%</td><td>34%</td></tr><tr><td>54</td><td>ChildDirectedSpeech</td><td>R=6-Weight=6:R-mst-weight=+1:R</td><td> -- </td><td> -- </td><td>none</td><td>dDRKd</td><td> 98 </td><td>49%</td><td>34%</td></tr><tr><td>54</td><td>ChildDirectedSpeech</td><td>R=6-Weight=6:R-mst-weight=+1:R</td><td> -- </td><td> -- </td><td>none</td><td>dDRKd</td><td> 98 </td><td>50%</td><td>35%</td></tr><tr><td>54</td><td>ChildDirectedSpeech</td><td>R=6-Weight=6:R-mst-weight=+1:R</td><td> -- </td><td> -- </td><td>none</td><td>dDRKd</td><td> 94 </td><td>50%</td><td>35%</td></tr><tr><td>55</td><td>ChildDirectedSpeech</td><td>R=6-Weight=6:R-mst-weight=+1:R</td><td> -- </td><td> -- </td><td>rules</td><td>dDRKd</td><td> 92 </td><td>50%</td><td>34%</td></tr><tr><td>55</td><td>ChildDirectedSpeech</td><td>R=6-Weight=6:R-mst-weight=+1:R</td><td> -- </td><td> -- </td><td>rules</td><td>dDRKd</td><td> 92 </td><td>51%</td><td>35%</td></tr><tr><td>55</td><td>ChildDirectedSpeech</td><td>R=6-Weight=6:R-mst-weight=+1:R</td><td> -- </td><td> -- </td><td>rules</td><td>dDRKd</td><td> 98 </td><td>50%</td><td>34%</td></tr><tr><td>55</td><td>ChildDirectedSpeech</td><td>R=6-Weight=6:R-mst-weight=+1:R</td><td> -- </td><td> -- </td><td>rules</td><td>dDRKd</td><td> 92 </td><td>51%</td><td>36%</td></tr><tr><td>55</td><td>ChildDirectedSpeech</td><td>R=6-Weight=6:R-mst-weight=+1:R</td><td> -- </td><td> -- </td><td>rules</td><td>dDRKd</td><td> 92 </td><td>50%</td><td>34%</td></tr><tr><td>55</td><td>ChildDirectedSpeech</td><td>R=6-Weight=6:R-mst-weight=+1:R</td><td> -- </td><td> -- </td><td>rules</td><td>dDRKd</td><td> 90 </td><td>51%</td><td>35%</td></tr><tr><td>55</td><td>ChildDirectedSpeech</td><td>R=6-Weight=6:R-mst-weight=+1:R</td><td> -- </td><td> -- </td><td>rules</td><td>dDRKd</td><td> 98 </td><td>51%</td><td>35%</td></tr><tr><td>55</td><td>ChildDirectedSpeech</td><td>R=6-Weight=6:R-mst-weight=+1:R</td><td> -- </td><td> -- </td><td>rules</td><td>dDRKd</td><td> 94 </td><td>52%</td><td>36%</td></tr><tr><td>55</td><td>ChildDirectedSpeech</td><td>R=6-Weight=6:R-mst-weight=+1:R</td><td> -- </td><td> -- </td><td>rules</td><td>dDRKd</td><td> 96 </td><td>51%</td><td>35%</td></tr><tr><td>55</td><td>ChildDirectedSpeech</td><td>R=6-Weight=6:R-mst-weight=+1:R</td><td> -- </td><td> -- </td><td>rules</td><td>dDRKd</td><td> 98 </td><td>50%</td><td>34%</td></tr><tr><td>52</td><td>ChildDirectedSpeech</td><td>LG-English</td><td> -- </td><td> -- </td><td>none</td><td>dILEd</td><td> 2980 </td><td>39%</td><td>37%</td></tr><tr><td>52</td><td>ChildDirectedSpeech</td><td>LG-English</td><td> -- </td><td> -- </td><td>none</td><td>dILEd</td><td> 2980 </td><td>39%</td><td>37%</td></tr><tr><td>52</td><td>ChildDirectedSpeech</td><td>LG-English</td><td> -- </td><td> -- </td><td>none</td><td>dILEd</td><td> 2980 </td><td>39%</td><td>37%</td></tr><tr><td>52</td><td>ChildDirectedSpeech</td><td>LG-English</td><td> -- </td><td> -- </td><td>none</td><td>dILEd</td><td> 2980 </td><td>39%</td><td>37%</td></tr><tr><td>52</td><td>ChildDirectedSpeech</td><td>LG-English</td><td> -- </td><td> -- </td><td>none</td><td>dILEd</td><td> 2980 </td><td>39%</td><td>37%</td></tr><tr><td>52</td><td>ChildDirectedSpeech</td><td>LG-English</td><td> -- </td><td> -- </td><td>none</td><td>dILEd</td><td> 2980 </td><td>39%</td><td>37%</td></tr><tr><td>52</td><td>ChildDirectedSpeech</td><td>LG-English</td><td> -- </td><td> -- </td><td>none</td><td>dILEd</td><td> 2980 </td><td>39%</td><td>37%</td></tr><tr><td>52</td><td>ChildDirectedSpeech</td><td>LG-English</td><td> -- </td><td> -- </td><td>none</td><td>dILEd</td><td> 2980 </td><td>39%</td><td>37%</td></tr><tr><td>52</td><td>ChildDirectedSpeech</td><td>LG-English</td><td> -- </td><td> -- </td><td>none</td><td>dILEd</td><td> 2980 </td><td>39%</td><td>37%</td></tr><tr><td>52</td><td>ChildDirectedSpeech</td><td>LG-English</td><td> -- </td><td> -- </td><td>none</td><td>dILEd</td><td> 2980 </td><td>39%</td><td>37%</td></tr><tr><td>53</td><td>ChildDirectedSpeech</td><td>LG-English</td><td> -- </td><td> -- </td><td>rules</td><td>dILEd</td><td> 2424 </td><td>40%</td><td>37%</td></tr><tr><td>53</td><td>ChildDirectedSpeech</td><td>LG-English</td><td> -- </td><td> -- </td><td>rules</td><td>dILEd</td><td> 2424 </td><td>40%</td><td>37%</td></tr><tr><td>53</td><td>ChildDirectedSpeech</td><td>LG-English</td><td> -- </td><td> -- </td><td>rules</td><td>dILEd</td><td> 2424 </td><td>40%</td><td>37%</td></tr><tr><td>53</td><td>ChildDirectedSpeech</td><td>LG-English</td><td> -- </td><td> -- </td><td>rules</td><td>dILEd</td><td> 2424 </td><td>40%</td><td>37%</td></tr><tr><td>53</td><td>ChildDirectedSpeech</td><td>LG-English</td><td> -- </td><td> -- </td><td>rules</td><td>dILEd</td><td> 2424 </td><td>40%</td><td>37%</td></tr><tr><td>53</td><td>ChildDirectedSpeech</td><td>LG-English</td><td> -- </td><td> -- </td><td>rules</td><td>dILEd</td><td> 2424 </td><td>40%</td><td>37%</td></tr><tr><td>53</td><td>ChildDirectedSpeech</td><td>LG-English</td><td> -- </td><td> -- </td><td>rules</td><td>dILEd</td><td> 2424 </td><td>40%</td><td>37%</td></tr><tr><td>53</td><td>ChildDirectedSpeech</td><td>LG-English</td><td> -- </td><td> -- </td><td>rules</td><td>dILEd</td><td> 2424 </td><td>40%</td><td>37%</td></tr><tr><td>53</td><td>ChildDirectedSpeech</td><td>LG-English</td><td> -- </td><td> -- </td><td>rules</td><td>dILEd</td><td> 2424 </td><td>40%</td><td>37%</td></tr><tr><td>53</td><td>ChildDirectedSpeech</td><td>LG-English</td><td> -- </td><td> -- </td><td>rules</td><td>dILEd</td><td> 2424 </td><td>40%</td><td>37%</td></tr><tr><td>54</td><td>ChildDirectedSpeech</td><td>R=6-Weight=6:R-mst-weight=+1:R</td><td> -- </td><td> -- </td><td>none</td><td>dILEd</td><td> 3558 </td><td>0%</td><td>0%</td></tr><tr><td>54</td><td>ChildDirectedSpeech</td><td>R=6-Weight=6:R-mst-weight=+1:R</td><td> -- </td><td> -- </td><td>none</td><td>dILEd</td><td> 3558 </td><td>0%</td><td>0%</td></tr><tr><td>54</td><td>ChildDirectedSpeech</td><td>R=6-Weight=6:R-mst-weight=+1:R</td><td> -- </td><td> -- </td><td>none</td><td>dILEd</td><td> 3558 </td><td>0%</td><td>0%</td></tr><tr><td>54</td><td>ChildDirectedSpeech</td><td>R=6-Weight=6:R-mst-weight=+1:R</td><td> -- </td><td> -- </td><td>none</td><td>dILEd</td><td> 3558 </td><td>0%</td><td>0%</td></tr><tr><td>54</td><td>ChildDirectedSpeech</td><td>R=6-Weight=6:R-mst-weight=+1:R</td><td> -- </td><td> -- </td><td>none</td><td>dILEd</td><td> 3558 </td><td>0%</td><td>0%</td></tr><tr><td>54</td><td>ChildDirectedSpeech</td><td>R=6-Weight=6:R-mst-weight=+1:R</td><td> -- </td><td> -- </td><td>none</td><td>dILEd</td><td> 3558 </td><td>0%</td><td>0%</td></tr><tr><td>54</td><td>ChildDirectedSpeech</td><td>R=6-Weight=6:R-mst-weight=+1:R</td><td> -- </td><td> -- </td><td>none</td><td>dILEd</td><td> 3558 </td><td>0%</td><td>0%</td></tr><tr><td>54</td><td>ChildDirectedSpeech</td><td>R=6-Weight=6:R-mst-weight=+1:R</td><td> -- </td><td> -- </td><td>none</td><td>dILEd</td><td> 3558 </td><td>0%</td><td>0%</td></tr><tr><td>54</td><td>ChildDirectedSpeech</td><td>R=6-Weight=6:R-mst-weight=+1:R</td><td> -- </td><td> -- </td><td>none</td><td>dILEd</td><td> 3558 </td><td>0%</td><td>0%</td></tr><tr><td>54</td><td>ChildDirectedSpeech</td><td>R=6-Weight=6:R-mst-weight=+1:R</td><td> -- </td><td> -- </td><td>none</td><td>dILEd</td><td> 3558 </td><td>0%</td><td>0%</td></tr><tr><td>55</td><td>ChildDirectedSpeech</td><td>R=6-Weight=6:R-mst-weight=+1:R</td><td> -- </td><td> -- </td><td>rules</td><td>dILEd</td><td> 3415 </td><td>38%</td><td>28%</td></tr><tr><td>55</td><td>ChildDirectedSpeech</td><td>R=6-Weight=6:R-mst-weight=+1:R</td><td> -- </td><td> -- </td><td>rules</td><td>dILEd</td><td> 3415 </td><td>38%</td><td>28%</td></tr><tr><td>55</td><td>ChildDirectedSpeech</td><td>R=6-Weight=6:R-mst-weight=+1:R</td><td> -- </td><td> -- </td><td>rules</td><td>dILEd</td><td> 3415 </td><td>38%</td><td>28%</td></tr><tr><td>55</td><td>ChildDirectedSpeech</td><td>R=6-Weight=6:R-mst-weight=+1:R</td><td> -- </td><td> -- </td><td>rules</td><td>dILEd</td><td> 3415 </td><td>38%</td><td>28%</td></tr><tr><td>55</td><td>ChildDirectedSpeech</td><td>R=6-Weight=6:R-mst-weight=+1:R</td><td> -- </td><td> -- </td><td>rules</td><td>dILEd</td><td> 3415 </td><td>38%</td><td>28%</td></tr><tr><td>55</td><td>ChildDirectedSpeech</td><td>R=6-Weight=6:R-mst-weight=+1:R</td><td> -- </td><td> -- </td><td>rules</td><td>dILEd</td><td> 3415 </td><td>38%</td><td>28%</td></tr><tr><td>55</td><td>ChildDirectedSpeech</td><td>R=6-Weight=6:R-mst-weight=+1:R</td><td> -- </td><td> -- </td><td>rules</td><td>dILEd</td><td> 3415 </td><td>38%</td><td>28%</td></tr><tr><td>55</td><td>ChildDirectedSpeech</td><td>R=6-Weight=6:R-mst-weight=+1:R</td><td> -- </td><td> -- </td><td>rules</td><td>dILEd</td><td> 3415 </td><td>38%</td><td>28%</td></tr><tr><td>55</td><td>ChildDirectedSpeech</td><td>R=6-Weight=6:R-mst-weight=+1:R</td><td> -- </td><td> -- </td><td>rules</td><td>dILEd</td><td> 3415 </td><td>38%</td><td>28%</td></tr><tr><td>55</td><td>ChildDirectedSpeech</td><td>R=6-Weight=6:R-mst-weight=+1:R</td><td> -- </td><td> -- </td><td>rules</td><td>dILEd</td><td> 3415 </td><td>38%</td><td>28%</td></tr></table>"
      ],
      "text/plain": [
       "<IPython.core.display.HTML object>"
      ]
     },
     "metadata": {},
     "output_type": "display_data"
    }
   ],
   "source": [
    "display(html_table([header]+long_table))"
   ]
  },
  {
   "cell_type": "code",
   "execution_count": 6,
   "metadata": {},
   "outputs": [
    {
     "name": "stdout",
     "output_type": "stream",
     "text": [
      "2018-07-27 22:20:53 UTC :: finished, elapsed 393.5 min\n",
      "Average results saved to /home/obaskov/language-learning/output/Child-Directed-Speech-2018-07-27-multi/short_table.txt\n",
      "Detailed results for every run saved to /home/obaskov/language-learning/output/Child-Directed-Speech-2018-07-27-multi/long_table.txt\n"
     ]
    }
   ],
   "source": [
    "from write_files import list2file\n",
    "print(UTC(), ':: finished, elapsed', str(round((time.time()-start)/60.0, 1)), 'min')\n",
    "table_str = list2file(table, out_dir+'/short_table.txt')\n",
    "if runs == (1,1):\n",
    "    print('Results saved to', out_dir + '/short_table.txt')\n",
    "else:\n",
    "    long_table_str = list2file(long_table, out_dir+'/long_table.txt')\n",
    "    print('Average results saved to', out_dir + '/short_table.txt\\n'\n",
    "          'Detailed results for every run saved to', out_dir + '/long_table.txt')"
   ]
  },
  {
   "cell_type": "code",
   "execution_count": null,
   "metadata": {},
   "outputs": [],
   "source": []
  }
 ],
 "metadata": {
  "kernelspec": {
   "display_name": "Python [conda env:ull]",
   "language": "python",
   "name": "conda-env-ull-py"
  },
  "language_info": {
   "codemirror_mode": {
    "name": "ipython",
    "version": 3
   },
   "file_extension": ".py",
   "mimetype": "text/x-python",
   "name": "python",
   "nbconvert_exporter": "python",
   "pygments_lexer": "ipython3",
   "version": "3.6.6"
  },
  "toc": {
   "base_numbering": 1,
   "nav_menu": {},
   "number_sections": true,
   "sideBar": true,
   "skip_h1_title": false,
   "title_cell": "Table of Contents",
   "title_sidebar": "Contents",
   "toc_cell": false,
   "toc_position": {},
   "toc_section_display": true,
   "toc_window_display": false
  }
 },
 "nbformat": 4,
 "nbformat_minor": 2
}
