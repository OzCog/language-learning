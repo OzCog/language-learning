{
 "cells": [
  {
   "cell_type": "markdown",
   "metadata": {},
   "source": [
    "# POC-English-Amb+disAmb test `2018-08-05`\n",
    "\n",
    "Updated optimal clustering search (2018-08-05), server `88.99.210.144`      \n",
    "Each line is calculated 1x, parsing metrics tested 1x for each calculation.  \n",
    "The calculation table is shared as 'short_table.txt' in data folder  \n",
    "[http://langlearn.singularitynet.io/data/clustering_2018/POC-English-Amb-2018-08-05/](http://langlearn.singularitynet.io/data/clustering_2018/POC-English-Amb-2018-08-05/)  \n",
    "This notebook is shared as static html via  \n",
    "[http://langlearn.singularitynet.io/data/clustering_2018/html/POC-English-Amb-2018-08-05.html](http://langlearn.singularitynet.io/data/clustering_2018/html/POC-English-Amb-2018-08-05.html)  \n",
    "A multi-run version of this test is shared via  \n",
    "[http://langlearn.singularitynet.io/data/clustering_2018/html/POC-English-Amb-2018-08-05-multi.html](http://langlearn.singularitynet.io/data/clustering_2018/html/POC-English-Amb-2018-08-05-multi.html)  "
   ]
  },
  {
   "cell_type": "markdown",
   "metadata": {},
   "source": [
    "## Basic settings"
   ]
  },
  {
   "cell_type": "code",
   "execution_count": 1,
   "metadata": {},
   "outputs": [
    {
     "name": "stdout",
     "output_type": "stream",
     "text": [
      "2018-08-05 16:20:08 UTC :: module_path = /home/obaskov/language-learning\n"
     ]
    }
   ],
   "source": [
    "import os, sys, time\n",
    "from IPython.display import display\n",
    "module_path = os.path.abspath(os.path.join('..'))\n",
    "if module_path not in sys.path: sys.path.append(module_path)\n",
    "grammar_learner_path = module_path + '/src/grammar_learner/'\n",
    "if grammar_learner_path not in sys.path: sys.path.append(grammar_learner_path)\n",
    "from utl import UTC\n",
    "from read_files import check_dir\n",
    "from widgets import html_table\n",
    "from pqa_table import table_damb\n",
    "tmpath = module_path + '/tmp/'\n",
    "if check_dir(tmpath, True, 'none'):\n",
    "    table = []\n",
    "    long_table = []\n",
    "    header = ['Line','Corpus','Parsing','LW','\".\"','Generalization','Space','Rules','PA','PQ']\n",
    "    start = time.time()\n",
    "    print(UTC(), ':: module_path =', module_path)\n",
    "else: print(UTC(), ':: could not create temporary files directory', tmpath)"
   ]
  },
  {
   "cell_type": "markdown",
   "metadata": {},
   "source": [
    "## Grammar Learner corpus-specific parameters"
   ]
  },
  {
   "cell_type": "code",
   "execution_count": 2,
   "metadata": {},
   "outputs": [],
   "source": [
    "corpus = 'POC-English-Amb'\n",
    "out_dir = module_path + '/output/'+ corpus + '-' + str(UTC())[:10]\n",
    "runs = (1,1)    # (attempts to learn grammar per line, grammar tests per attempt)\n",
    "if runs != (1,1): out_dir += '-multi'\n",
    "kwargs = {\n",
    "    'left_wall'     :   ''          ,\n",
    "    'period'        :   False       ,\n",
    "    'word_space'    :   'vectors'   ,\n",
    "    'clustering'    :   ('kmeans', 'kmeans++', 10),\n",
    "    'cluster_range' :   (2,50,3)    ,\n",
    "    'tmpath'        :   tmpath      , \n",
    "    'verbose'       :   'min'       ,\n",
    "    'template_path' :   'poc-turtle',\n",
    "    'linkage_limit' :   1000        ,\n",
    "    'categories_generalization': 'off'}\n",
    "lines = [\n",
    "    [20, 'POC-English-Amb'    , 'MST-fixed-manually'             ,'LW','.', 'none'  ], \n",
    "    [21, 'POC-English-Amb'    , 'LG-English'                     ,'LW','.', 'none'  ], \n",
    "    [22, 'POC-English-Amb'    , 'R=6-Weight=6:R-mst-weight=+1:R' ,'LW','.', 'none'  ], \n",
    "    [23, 'POC-English-Amb'    , 'MST-fixed-manually'             , 0  , 0 , 'none'  ], \n",
    "    [24, 'POC-English-Amb'    , 'MST-fixed-manually'             , 0  , 0 , 'rules' ], \n",
    "    [25, 'POC-English-Amb'    , 'LG-English'                     , 0  , 0 , 'none'  ], \n",
    "    [26, 'POC-English-Amb'    , 'LG-English'                     , 0  , 0 , 'rules' ], \n",
    "    [27, 'POC-English-Amb'    , 'R=6-Weight=6:R-mst-weight=+1:R' , 0  , 0 , 'none'  ], \n",
    "    [28, 'POC-English-Amb'    , 'R=6-Weight=6:R-mst-weight=+1:R' , 0  , 0 , 'rules' ], \n",
    "    [29, 'POC-English-disAmb' , 'R=6-Weight=6:R-mst-weight=+1:R' , 0  , 0 , 'none'  ], \n",
    "    [30, 'POC-English-disAmb' , 'R=6-Weight=6:R-mst-weight=+1:R' , 0  , 0 , 'rules' ], \n",
    "    [31, 'POC-English-disAmb' , 'R=6-Weight=6:R-mst-weight=+1:R-adagram' , 0  , 0 , 'rules' ], \n",
    "    [32, 'POC-English-Amb'    , 'R=6-Weight=1-mst-weight=+1:R'   , 0  , 0 , 'none'  ], \n",
    "    [33, 'POC-English-disAmb' , 'R=6-Weight=1-mst-weight=+1:R'   , 0  , 0 , 'none'  ], \n",
    "    [34, 'POC-English-disAmb' , 'R=6-Weight=1-mst-weight=+1:R'   , 0  , 0 , 'rules' ], \n",
    "    [35, 'POC-English-disAmb' , 'R=6-Weight=1-mst-weight=+1:R-adagram'   , 0  , 0 , 'rules' ], \n",
    "    [36, 'POC-English-Amb'    , 'LG-ANY-all-parses'              , 0  , 0 , 'none'  ], \n",
    "    [37, 'POC-English-disAmb' , 'LG-ANY-all-parses'              , 0  , 0 , 'none'  ], \n",
    "    [38, 'POC-English-disAmb' , 'LG-ANY-all-parses'              , 0  , 0 , 'rules' ],\n",
    "    [39, 'POC-English-disAmb' , 'LG-ANY-all-parses-adagram'      , 0  , 0 , 'rules' ]]\n",
    "rp = module_path + '/data/POC-English-Amb/MST-fixed-manually/poc-english_ex-parses-gold.txt'\n",
    "cps = (rp,rp)   # (test) corpus_paths for Amb and disAmb corpora\n",
    "rps = (rp,rp)   # reference_paths for Amb and disAmb corpora"
   ]
  },
  {
   "cell_type": "markdown",
   "metadata": {},
   "source": [
    "# POC-English-Amb, 5 datasets; ...-disAmb, 6 datasets\n",
    "ULL Project Plan ⇒ Parses ⇒ lines 20-39"
   ]
  },
  {
   "cell_type": "markdown",
   "metadata": {},
   "source": [
    "## Connectors-DRK-Connectors"
   ]
  },
  {
   "cell_type": "code",
   "execution_count": 3,
   "metadata": {},
   "outputs": [],
   "source": [
    "%%capture\n",
    "kwargs['context'] = 1\n",
    "kwargs['grammar_rules'] = 1\n",
    "average21, long21 = table_damb(lines, out_dir, cps, rps, runs, **kwargs)\n",
    "table.extend(average21)\n",
    "long_table.extend(long21)"
   ]
  },
  {
   "cell_type": "code",
   "execution_count": 4,
   "metadata": {},
   "outputs": [
    {
     "data": {
      "text/html": [
       "<table><tr><td>Line</td><td>Corpus</td><td>Parsing</td><td>LW</td><td>\".\"</td><td>Generalization</td><td>Space</td><td>Rules</td><td>PA</td><td>PQ</td></tr><tr><td>20</td><td>POC-English-Amb</td><td>MST-fixed-manually</td><td>LW</td><td> + </td><td>none</td><td>cDRKc</td><td>36</td><td>70%</td><td>61%</td></tr><tr><td>21</td><td>POC-English-Amb</td><td>LG-English</td><td>LW</td><td> + </td><td>none</td><td>cDRKc</td><td>36</td><td>81%</td><td>62%</td></tr><tr><td>22</td><td>POC-English-Amb</td><td>R=6-Weight=6:R-mst-weight=+1:R</td><td>LW</td><td> + </td><td>none</td><td>cDRKc</td><td>32</td><td>90%</td><td>60%</td></tr><tr><td>23</td><td>POC-English-Amb</td><td>MST-fixed-manually</td><td> -- </td><td> -- </td><td>none</td><td>cDRKc</td><td>34</td><td>73%</td><td>65%</td></tr><tr><td>25</td><td>POC-English-Amb</td><td>LG-English</td><td> -- </td><td> -- </td><td>none</td><td>cDRKc</td><td>33</td><td>84%</td><td>67%</td></tr><tr><td>27</td><td>POC-English-Amb</td><td>R=6-Weight=6:R-mst-weight=+1:R</td><td> -- </td><td> -- </td><td>none</td><td>cDRKc</td><td>29</td><td>85%</td><td>54%</td></tr><tr><td>29</td><td>POC-English-disAmb</td><td>R=6-Weight=6:R-mst-weight=+1:R</td><td> -- </td><td> -- </td><td>none</td><td>cDRKc</td><td>31</td><td>83%</td><td>51%</td></tr><tr><td>32</td><td>POC-English-Amb</td><td>R=6-Weight=1-mst-weight=+1:R</td><td> -- </td><td> -- </td><td>none</td><td>cDRKc</td><td>20</td><td>87%</td><td>57%</td></tr><tr><td>33</td><td>POC-English-disAmb</td><td>R=6-Weight=1-mst-weight=+1:R</td><td> -- </td><td> -- </td><td>none</td><td>cDRKc</td><td>26</td><td>88%</td><td>57%</td></tr><tr><td>36</td><td>POC-English-Amb</td><td>LG-ANY-all-parses</td><td> -- </td><td> -- </td><td>none</td><td>cDRKc</td><td>23</td><td>89%</td><td>58%</td></tr><tr><td>37</td><td>POC-English-disAmb</td><td>LG-ANY-all-parses</td><td> -- </td><td> -- </td><td>none</td><td>cDRKc</td><td>33</td><td>86%</td><td>56%</td></tr></table>"
      ],
      "text/plain": [
       "<IPython.core.display.HTML object>"
      ]
     },
     "metadata": {},
     "output_type": "display_data"
    },
    {
     "name": "stdout",
     "output_type": "stream",
     "text": [
      "2018-08-05 16:20:29 UTC\n"
     ]
    }
   ],
   "source": [
    "display(html_table([header]+average21))\n",
    "print(UTC())"
   ]
  },
  {
   "cell_type": "markdown",
   "metadata": {},
   "source": [
    "## Connectors-DRK-Disjuncts"
   ]
  },
  {
   "cell_type": "code",
   "execution_count": 5,
   "metadata": {},
   "outputs": [],
   "source": [
    "%%capture\n",
    "kwargs['grammar_rules'] = 2\n",
    "average22, long22 = table_damb(lines, out_dir, cps, rps, runs, **kwargs)\n",
    "table.extend(average22)\n",
    "long_table.extend(long22)"
   ]
  },
  {
   "cell_type": "code",
   "execution_count": 6,
   "metadata": {
    "scrolled": true
   },
   "outputs": [
    {
     "data": {
      "text/html": [
       "<table><tr><td>Line</td><td>Corpus</td><td>Parsing</td><td>LW</td><td>\".\"</td><td>Generalization</td><td>Space</td><td>Rules</td><td>PA</td><td>PQ</td></tr><tr><td>20</td><td>POC-English-Amb</td><td>MST-fixed-manually</td><td>LW</td><td> + </td><td>none</td><td>cDRKd</td><td>36</td><td>0%</td><td>0%</td></tr><tr><td>21</td><td>POC-English-Amb</td><td>LG-English</td><td>LW</td><td> + </td><td>none</td><td>cDRKd</td><td>36</td><td>0%</td><td>0%</td></tr><tr><td>22</td><td>POC-English-Amb</td><td>R=6-Weight=6:R-mst-weight=+1:R</td><td>LW</td><td> + </td><td>none</td><td>cDRKd</td><td>34</td><td>73%</td><td>49%</td></tr><tr><td>23</td><td>POC-English-Amb</td><td>MST-fixed-manually</td><td> -- </td><td> -- </td><td>none</td><td>cDRKd</td><td>34</td><td>37%</td><td>33%</td></tr><tr><td>24</td><td>POC-English-Amb</td><td>MST-fixed-manually</td><td> -- </td><td> -- </td><td>rules</td><td>cDRKd</td><td>27</td><td>40%</td><td>34%</td></tr><tr><td>25</td><td>POC-English-Amb</td><td>LG-English</td><td> -- </td><td> -- </td><td>none</td><td>cDRKd</td><td>33</td><td>20%</td><td>16%</td></tr><tr><td>26</td><td>POC-English-Amb</td><td>LG-English</td><td> -- </td><td> -- </td><td>rules</td><td>cDRKd</td><td>30</td><td>20%</td><td>16%</td></tr><tr><td>27</td><td>POC-English-Amb</td><td>R=6-Weight=6:R-mst-weight=+1:R</td><td> -- </td><td> -- </td><td>none</td><td>cDRKd</td><td>30</td><td>68%</td><td>48%</td></tr><tr><td>28</td><td>POC-English-Amb</td><td>R=6-Weight=6:R-mst-weight=+1:R</td><td> -- </td><td> -- </td><td>rules</td><td>cDRKd</td><td>26</td><td>77%</td><td>54%</td></tr><tr><td>29</td><td>POC-English-disAmb</td><td>R=6-Weight=6:R-mst-weight=+1:R</td><td> -- </td><td> -- </td><td>none</td><td>cDRKd</td><td>30</td><td>70%</td><td>50%</td></tr><tr><td>30</td><td>POC-English-disAmb</td><td>R=6-Weight=6:R-mst-weight=+1:R</td><td> -- </td><td> -- </td><td>rules</td><td>cDRKd</td><td>30</td><td>68%</td><td>50%</td></tr><tr><td>31</td><td>POC-English-disAmb</td><td>R=6-Weight=6:R-mst-weight=+1:R-adagram</td><td> -- </td><td> -- </td><td>rules</td><td>cDRKd</td><td>30</td><td>74%</td><td>54%</td></tr><tr><td>32</td><td>POC-English-Amb</td><td>R=6-Weight=1-mst-weight=+1:R</td><td> -- </td><td> -- </td><td>none</td><td>cDRKd</td><td>21</td><td>78%</td><td>55%</td></tr><tr><td>33</td><td>POC-English-disAmb</td><td>R=6-Weight=1-mst-weight=+1:R</td><td> -- </td><td> -- </td><td>none</td><td>cDRKd</td><td>21</td><td>74%</td><td>52%</td></tr><tr><td>34</td><td>POC-English-disAmb</td><td>R=6-Weight=1-mst-weight=+1:R</td><td> -- </td><td> -- </td><td>rules</td><td>cDRKd</td><td>25</td><td>70%</td><td>51%</td></tr><tr><td>35</td><td>POC-English-disAmb</td><td>R=6-Weight=1-mst-weight=+1:R-adagram</td><td> -- </td><td> -- </td><td>rules</td><td>cDRKd</td><td>26</td><td>78%</td><td>52%</td></tr><tr><td>36</td><td>POC-English-Amb</td><td>LG-ANY-all-parses</td><td> -- </td><td> -- </td><td>none</td><td>cDRKd</td><td>23</td><td>87%</td><td>59%</td></tr><tr><td>37</td><td>POC-English-disAmb</td><td>LG-ANY-all-parses</td><td> -- </td><td> -- </td><td>none</td><td>cDRKd</td><td>33</td><td>91%</td><td>63%</td></tr><tr><td>38</td><td>POC-English-disAmb</td><td>LG-ANY-all-parses</td><td> -- </td><td> -- </td><td>rules</td><td>cDRKd</td><td>27</td><td>95%</td><td>67%</td></tr><tr><td>39</td><td>POC-English-disAmb</td><td>LG-ANY-all-parses-adagram</td><td> -- </td><td> -- </td><td>rules</td><td>cDRKd</td><td>26</td><td>80%</td><td>60%</td></tr></table>"
      ],
      "text/plain": [
       "<IPython.core.display.HTML object>"
      ]
     },
     "metadata": {},
     "output_type": "display_data"
    },
    {
     "name": "stdout",
     "output_type": "stream",
     "text": [
      "2018-08-05 16:33:39 UTC\n"
     ]
    }
   ],
   "source": [
    "display(html_table([header]+average22))\n",
    "print(UTC())"
   ]
  },
  {
   "cell_type": "markdown",
   "metadata": {},
   "source": [
    "## Disjuncts-DRK-Disjuncts"
   ]
  },
  {
   "cell_type": "code",
   "execution_count": 7,
   "metadata": {},
   "outputs": [],
   "source": [
    "%%capture\n",
    "kwargs['grammar_rules'] = 2\n",
    "average23, long23 = table_damb(lines, out_dir, cps, rps, runs, **kwargs)\n",
    "table.extend(average23)\n",
    "long_table.extend(long23)"
   ]
  },
  {
   "cell_type": "code",
   "execution_count": 8,
   "metadata": {},
   "outputs": [
    {
     "data": {
      "text/html": [
       "<table><tr><td>Line</td><td>Corpus</td><td>Parsing</td><td>LW</td><td>\".\"</td><td>Generalization</td><td>Space</td><td>Rules</td><td>PA</td><td>PQ</td></tr><tr><td>20</td><td>POC-English-Amb</td><td>MST-fixed-manually</td><td>LW</td><td> + </td><td>none</td><td>cDRKd</td><td>36</td><td>0%</td><td>0%</td></tr><tr><td>21</td><td>POC-English-Amb</td><td>LG-English</td><td>LW</td><td> + </td><td>none</td><td>cDRKd</td><td>36</td><td>0%</td><td>0%</td></tr><tr><td>22</td><td>POC-English-Amb</td><td>R=6-Weight=6:R-mst-weight=+1:R</td><td>LW</td><td> + </td><td>none</td><td>cDRKd</td><td>32</td><td>73%</td><td>49%</td></tr><tr><td>23</td><td>POC-English-Amb</td><td>MST-fixed-manually</td><td> -- </td><td> -- </td><td>none</td><td>cDRKd</td><td>34</td><td>37%</td><td>33%</td></tr><tr><td>24</td><td>POC-English-Amb</td><td>MST-fixed-manually</td><td> -- </td><td> -- </td><td>rules</td><td>cDRKd</td><td>27</td><td>40%</td><td>34%</td></tr><tr><td>25</td><td>POC-English-Amb</td><td>LG-English</td><td> -- </td><td> -- </td><td>none</td><td>cDRKd</td><td>33</td><td>20%</td><td>16%</td></tr><tr><td>26</td><td>POC-English-Amb</td><td>LG-English</td><td> -- </td><td> -- </td><td>rules</td><td>cDRKd</td><td>30</td><td>20%</td><td>16%</td></tr><tr><td>27</td><td>POC-English-Amb</td><td>R=6-Weight=6:R-mst-weight=+1:R</td><td> -- </td><td> -- </td><td>none</td><td>cDRKd</td><td>29</td><td>68%</td><td>48%</td></tr><tr><td>28</td><td>POC-English-Amb</td><td>R=6-Weight=6:R-mst-weight=+1:R</td><td> -- </td><td> -- </td><td>rules</td><td>cDRKd</td><td>28</td><td>75%</td><td>53%</td></tr><tr><td>29</td><td>POC-English-disAmb</td><td>R=6-Weight=6:R-mst-weight=+1:R</td><td> -- </td><td> -- </td><td>none</td><td>cDRKd</td><td>31</td><td>70%</td><td>50%</td></tr><tr><td>30</td><td>POC-English-disAmb</td><td>R=6-Weight=6:R-mst-weight=+1:R</td><td> -- </td><td> -- </td><td>rules</td><td>cDRKd</td><td>29</td><td>75%</td><td>53%</td></tr><tr><td>31</td><td>POC-English-disAmb</td><td>R=6-Weight=6:R-mst-weight=+1:R-adagram</td><td> -- </td><td> -- </td><td>rules</td><td>cDRKd</td><td>28</td><td>81%</td><td>55%</td></tr><tr><td>32</td><td>POC-English-Amb</td><td>R=6-Weight=1-mst-weight=+1:R</td><td> -- </td><td> -- </td><td>none</td><td>cDRKd</td><td>20</td><td>79%</td><td>56%</td></tr><tr><td>33</td><td>POC-English-disAmb</td><td>R=6-Weight=1-mst-weight=+1:R</td><td> -- </td><td> -- </td><td>none</td><td>cDRKd</td><td>21</td><td>72%</td><td>49%</td></tr><tr><td>34</td><td>POC-English-disAmb</td><td>R=6-Weight=1-mst-weight=+1:R</td><td> -- </td><td> -- </td><td>rules</td><td>cDRKd</td><td>25</td><td>67%</td><td>50%</td></tr><tr><td>35</td><td>POC-English-disAmb</td><td>R=6-Weight=1-mst-weight=+1:R-adagram</td><td> -- </td><td> -- </td><td>rules</td><td>cDRKd</td><td>22</td><td>79%</td><td>53%</td></tr><tr><td>36</td><td>POC-English-Amb</td><td>LG-ANY-all-parses</td><td> -- </td><td> -- </td><td>none</td><td>cDRKd</td><td>24</td><td>87%</td><td>59%</td></tr><tr><td>37</td><td>POC-English-disAmb</td><td>LG-ANY-all-parses</td><td> -- </td><td> -- </td><td>none</td><td>cDRKd</td><td>31</td><td>93%</td><td>64%</td></tr><tr><td>38</td><td>POC-English-disAmb</td><td>LG-ANY-all-parses</td><td> -- </td><td> -- </td><td>rules</td><td>cDRKd</td><td>28</td><td>95%</td><td>67%</td></tr><tr><td>39</td><td>POC-English-disAmb</td><td>LG-ANY-all-parses-adagram</td><td> -- </td><td> -- </td><td>rules</td><td>cDRKd</td><td>24</td><td>89%</td><td>64%</td></tr></table>"
      ],
      "text/plain": [
       "<IPython.core.display.HTML object>"
      ]
     },
     "metadata": {},
     "output_type": "display_data"
    },
    {
     "name": "stdout",
     "output_type": "stream",
     "text": [
      "2018-08-05 16:41:02 UTC\n"
     ]
    }
   ],
   "source": [
    "display(html_table([header]+average23))\n",
    "print(UTC())"
   ]
  },
  {
   "cell_type": "markdown",
   "metadata": {},
   "source": [
    "## Disjuncts-ILE-Disjuncts"
   ]
  },
  {
   "cell_type": "code",
   "execution_count": 9,
   "metadata": {},
   "outputs": [],
   "source": [
    "%%capture\n",
    "kwargs['word_space'] = 'discrete'\n",
    "kwargs['clustering'] = 'group'\n",
    "average24, long24 = table_damb(lines, out_dir, cps, rps, runs, **kwargs)\n",
    "table.extend(average24)\n",
    "long_table.extend(long24)"
   ]
  },
  {
   "cell_type": "code",
   "execution_count": 10,
   "metadata": {},
   "outputs": [
    {
     "data": {
      "text/html": [
       "<table><tr><td>Line</td><td>Corpus</td><td>Parsing</td><td>LW</td><td>\".\"</td><td>Generalization</td><td>Space</td><td>Rules</td><td>PA</td><td>PQ</td></tr><tr><td>20</td><td>POC-English-Amb</td><td>MST-fixed-manually</td><td>LW</td><td> + </td><td>none</td><td>cILEd</td><td>38</td><td>20%</td><td>0%</td></tr><tr><td>21</td><td>POC-English-Amb</td><td>LG-English</td><td>LW</td><td> + </td><td>none</td><td>cILEd</td><td>38</td><td>20%</td><td>0%</td></tr><tr><td>22</td><td>POC-English-Amb</td><td>R=6-Weight=6:R-mst-weight=+1:R</td><td>LW</td><td> + </td><td>none</td><td>cILEd</td><td>40</td><td>20%</td><td>0%</td></tr><tr><td>23</td><td>POC-English-Amb</td><td>MST-fixed-manually</td><td> -- </td><td> -- </td><td>none</td><td>cILEd</td><td>36</td><td>39%</td><td>25%</td></tr><tr><td>24</td><td>POC-English-Amb</td><td>MST-fixed-manually</td><td> -- </td><td> -- </td><td>rules</td><td>cILEd</td><td>21</td><td>39%</td><td>25%</td></tr><tr><td>25</td><td>POC-English-Amb</td><td>LG-English</td><td> -- </td><td> -- </td><td>none</td><td>cILEd</td><td>36</td><td>39%</td><td>25%</td></tr><tr><td>26</td><td>POC-English-Amb</td><td>LG-English</td><td> -- </td><td> -- </td><td>rules</td><td>cILEd</td><td>19</td><td>39%</td><td>25%</td></tr><tr><td>27</td><td>POC-English-Amb</td><td>R=6-Weight=6:R-mst-weight=+1:R</td><td> -- </td><td> -- </td><td>none</td><td>cILEd</td><td>38</td><td>38%</td><td>20%</td></tr><tr><td>28</td><td>POC-English-Amb</td><td>R=6-Weight=6:R-mst-weight=+1:R</td><td> -- </td><td> -- </td><td>rules</td><td>cILEd</td><td>21</td><td>39%</td><td>23%</td></tr><tr><td>29</td><td>POC-English-disAmb</td><td>R=6-Weight=6:R-mst-weight=+1:R</td><td> -- </td><td> -- </td><td>none</td><td>cILEd</td><td>39</td><td>38%</td><td>21%</td></tr><tr><td>30</td><td>POC-English-disAmb</td><td>R=6-Weight=6:R-mst-weight=+1:R</td><td> -- </td><td> -- </td><td>rules</td><td>cILEd</td><td>23</td><td>39%</td><td>23%</td></tr><tr><td>31</td><td>POC-English-disAmb</td><td>R=6-Weight=6:R-mst-weight=+1:R-adagram</td><td> -- </td><td> -- </td><td>rules</td><td>cILEd</td><td>24</td><td>39%</td><td>24%</td></tr><tr><td>32</td><td>POC-English-Amb</td><td>R=6-Weight=1-mst-weight=+1:R</td><td> -- </td><td> -- </td><td>none</td><td>cILEd</td><td>39</td><td>39%</td><td>23%</td></tr><tr><td>33</td><td>POC-English-disAmb</td><td>R=6-Weight=1-mst-weight=+1:R</td><td> -- </td><td> -- </td><td>none</td><td>cILEd</td><td>41</td><td>38%</td><td>22%</td></tr><tr><td>34</td><td>POC-English-disAmb</td><td>R=6-Weight=1-mst-weight=+1:R</td><td> -- </td><td> -- </td><td>rules</td><td>cILEd</td><td>20</td><td>39%</td><td>25%</td></tr><tr><td>35</td><td>POC-English-disAmb</td><td>R=6-Weight=1-mst-weight=+1:R-adagram</td><td> -- </td><td> -- </td><td>rules</td><td>cILEd</td><td>18</td><td>39%</td><td>25%</td></tr><tr><td>36</td><td>POC-English-Amb</td><td>LG-ANY-all-parses</td><td> -- </td><td> -- </td><td>none</td><td>cILEd</td><td>38</td><td>37%</td><td>22%</td></tr><tr><td>37</td><td>POC-English-disAmb</td><td>LG-ANY-all-parses</td><td> -- </td><td> -- </td><td>none</td><td>cILEd</td><td>39</td><td>37%</td><td>22%</td></tr><tr><td>38</td><td>POC-English-disAmb</td><td>LG-ANY-all-parses</td><td> -- </td><td> -- </td><td>rules</td><td>cILEd</td><td>17</td><td>39%</td><td>25%</td></tr><tr><td>39</td><td>POC-English-disAmb</td><td>LG-ANY-all-parses-adagram</td><td> -- </td><td> -- </td><td>rules</td><td>cILEd</td><td>23</td><td>38%</td><td>24%</td></tr></table>"
      ],
      "text/plain": [
       "<IPython.core.display.HTML object>"
      ]
     },
     "metadata": {},
     "output_type": "display_data"
    },
    {
     "name": "stdout",
     "output_type": "stream",
     "text": [
      "2018-08-05 16:41:04 UTC\n"
     ]
    }
   ],
   "source": [
    "display(html_table([header]+average24))\n",
    "print(UTC())"
   ]
  },
  {
   "cell_type": "markdown",
   "metadata": {},
   "source": [
    "# All tests (all entries for multi-test `runs > (1.1)`)"
   ]
  },
  {
   "cell_type": "code",
   "execution_count": 11,
   "metadata": {},
   "outputs": [
    {
     "data": {
      "text/html": [
       "<table><tr><td>Line</td><td>Corpus</td><td>Parsing</td><td>LW</td><td>\".\"</td><td>Generalization</td><td>Space</td><td>Rules</td><td>PA</td><td>PQ</td></tr><tr><td>20</td><td>POC-English-Amb</td><td>MST-fixed-manually</td><td>LW</td><td> + </td><td>none</td><td>cDRKc</td><td> 36 </td><td>70%</td><td>61%</td></tr><tr><td>21</td><td>POC-English-Amb</td><td>LG-English</td><td>LW</td><td> + </td><td>none</td><td>cDRKc</td><td> 36 </td><td>81%</td><td>62%</td></tr><tr><td>22</td><td>POC-English-Amb</td><td>R=6-Weight=6:R-mst-weight=+1:R</td><td>LW</td><td> + </td><td>none</td><td>cDRKc</td><td> 32 </td><td>90%</td><td>60%</td></tr><tr><td>23</td><td>POC-English-Amb</td><td>MST-fixed-manually</td><td> -- </td><td> -- </td><td>none</td><td>cDRKc</td><td> 34 </td><td>73%</td><td>65%</td></tr><tr><td>25</td><td>POC-English-Amb</td><td>LG-English</td><td> -- </td><td> -- </td><td>none</td><td>cDRKc</td><td> 33 </td><td>84%</td><td>67%</td></tr><tr><td>27</td><td>POC-English-Amb</td><td>R=6-Weight=6:R-mst-weight=+1:R</td><td> -- </td><td> -- </td><td>none</td><td>cDRKc</td><td> 29 </td><td>85%</td><td>54%</td></tr><tr><td>29</td><td>POC-English-disAmb</td><td>R=6-Weight=6:R-mst-weight=+1:R</td><td> -- </td><td> -- </td><td>none</td><td>cDRKc</td><td> 31 </td><td>83%</td><td>51%</td></tr><tr><td>32</td><td>POC-English-Amb</td><td>R=6-Weight=1-mst-weight=+1:R</td><td> -- </td><td> -- </td><td>none</td><td>cDRKc</td><td> 20 </td><td>87%</td><td>57%</td></tr><tr><td>33</td><td>POC-English-disAmb</td><td>R=6-Weight=1-mst-weight=+1:R</td><td> -- </td><td> -- </td><td>none</td><td>cDRKc</td><td> 26 </td><td>88%</td><td>57%</td></tr><tr><td>36</td><td>POC-English-Amb</td><td>LG-ANY-all-parses</td><td> -- </td><td> -- </td><td>none</td><td>cDRKc</td><td> 23 </td><td>89%</td><td>58%</td></tr><tr><td>37</td><td>POC-English-disAmb</td><td>LG-ANY-all-parses</td><td> -- </td><td> -- </td><td>none</td><td>cDRKc</td><td> 33 </td><td>86%</td><td>56%</td></tr><tr><td>20</td><td>POC-English-Amb</td><td>MST-fixed-manually</td><td>LW</td><td> + </td><td>none</td><td>cDRKd</td><td> 36 </td><td>0%</td><td>0%</td></tr><tr><td>21</td><td>POC-English-Amb</td><td>LG-English</td><td>LW</td><td> + </td><td>none</td><td>cDRKd</td><td> 36 </td><td>0%</td><td>0%</td></tr><tr><td>22</td><td>POC-English-Amb</td><td>R=6-Weight=6:R-mst-weight=+1:R</td><td>LW</td><td> + </td><td>none</td><td>cDRKd</td><td> 34 </td><td>73%</td><td>49%</td></tr><tr><td>23</td><td>POC-English-Amb</td><td>MST-fixed-manually</td><td> -- </td><td> -- </td><td>none</td><td>cDRKd</td><td> 34 </td><td>37%</td><td>33%</td></tr><tr><td>24</td><td>POC-English-Amb</td><td>MST-fixed-manually</td><td> -- </td><td> -- </td><td>rules</td><td>cDRKd</td><td> 27 </td><td>40%</td><td>34%</td></tr><tr><td>25</td><td>POC-English-Amb</td><td>LG-English</td><td> -- </td><td> -- </td><td>none</td><td>cDRKd</td><td> 33 </td><td>20%</td><td>16%</td></tr><tr><td>26</td><td>POC-English-Amb</td><td>LG-English</td><td> -- </td><td> -- </td><td>rules</td><td>cDRKd</td><td> 30 </td><td>20%</td><td>16%</td></tr><tr><td>27</td><td>POC-English-Amb</td><td>R=6-Weight=6:R-mst-weight=+1:R</td><td> -- </td><td> -- </td><td>none</td><td>cDRKd</td><td> 30 </td><td>68%</td><td>48%</td></tr><tr><td>28</td><td>POC-English-Amb</td><td>R=6-Weight=6:R-mst-weight=+1:R</td><td> -- </td><td> -- </td><td>rules</td><td>cDRKd</td><td> 26 </td><td>77%</td><td>54%</td></tr><tr><td>29</td><td>POC-English-disAmb</td><td>R=6-Weight=6:R-mst-weight=+1:R</td><td> -- </td><td> -- </td><td>none</td><td>cDRKd</td><td> 30 </td><td>70%</td><td>50%</td></tr><tr><td>30</td><td>POC-English-disAmb</td><td>R=6-Weight=6:R-mst-weight=+1:R</td><td> -- </td><td> -- </td><td>rules</td><td>cDRKd</td><td> 30 </td><td>68%</td><td>50%</td></tr><tr><td>31</td><td>POC-English-disAmb</td><td>R=6-Weight=6:R-mst-weight=+1:R-adagram</td><td> -- </td><td> -- </td><td>rules</td><td>cDRKd</td><td> 30 </td><td>74%</td><td>54%</td></tr><tr><td>32</td><td>POC-English-Amb</td><td>R=6-Weight=1-mst-weight=+1:R</td><td> -- </td><td> -- </td><td>none</td><td>cDRKd</td><td> 21 </td><td>78%</td><td>55%</td></tr><tr><td>33</td><td>POC-English-disAmb</td><td>R=6-Weight=1-mst-weight=+1:R</td><td> -- </td><td> -- </td><td>none</td><td>cDRKd</td><td> 21 </td><td>74%</td><td>52%</td></tr><tr><td>34</td><td>POC-English-disAmb</td><td>R=6-Weight=1-mst-weight=+1:R</td><td> -- </td><td> -- </td><td>rules</td><td>cDRKd</td><td> 25 </td><td>70%</td><td>51%</td></tr><tr><td>35</td><td>POC-English-disAmb</td><td>R=6-Weight=1-mst-weight=+1:R-adagram</td><td> -- </td><td> -- </td><td>rules</td><td>cDRKd</td><td> 26 </td><td>78%</td><td>52%</td></tr><tr><td>36</td><td>POC-English-Amb</td><td>LG-ANY-all-parses</td><td> -- </td><td> -- </td><td>none</td><td>cDRKd</td><td> 23 </td><td>87%</td><td>59%</td></tr><tr><td>37</td><td>POC-English-disAmb</td><td>LG-ANY-all-parses</td><td> -- </td><td> -- </td><td>none</td><td>cDRKd</td><td> 33 </td><td>91%</td><td>63%</td></tr><tr><td>38</td><td>POC-English-disAmb</td><td>LG-ANY-all-parses</td><td> -- </td><td> -- </td><td>rules</td><td>cDRKd</td><td> 27 </td><td>95%</td><td>67%</td></tr><tr><td>39</td><td>POC-English-disAmb</td><td>LG-ANY-all-parses-adagram</td><td> -- </td><td> -- </td><td>rules</td><td>cDRKd</td><td> 26 </td><td>80%</td><td>60%</td></tr><tr><td>20</td><td>POC-English-Amb</td><td>MST-fixed-manually</td><td>LW</td><td> + </td><td>none</td><td>cDRKd</td><td> 36 </td><td>0%</td><td>0%</td></tr><tr><td>21</td><td>POC-English-Amb</td><td>LG-English</td><td>LW</td><td> + </td><td>none</td><td>cDRKd</td><td> 36 </td><td>0%</td><td>0%</td></tr><tr><td>22</td><td>POC-English-Amb</td><td>R=6-Weight=6:R-mst-weight=+1:R</td><td>LW</td><td> + </td><td>none</td><td>cDRKd</td><td> 32 </td><td>73%</td><td>49%</td></tr><tr><td>23</td><td>POC-English-Amb</td><td>MST-fixed-manually</td><td> -- </td><td> -- </td><td>none</td><td>cDRKd</td><td> 34 </td><td>37%</td><td>33%</td></tr><tr><td>24</td><td>POC-English-Amb</td><td>MST-fixed-manually</td><td> -- </td><td> -- </td><td>rules</td><td>cDRKd</td><td> 27 </td><td>40%</td><td>34%</td></tr><tr><td>25</td><td>POC-English-Amb</td><td>LG-English</td><td> -- </td><td> -- </td><td>none</td><td>cDRKd</td><td> 33 </td><td>20%</td><td>16%</td></tr><tr><td>26</td><td>POC-English-Amb</td><td>LG-English</td><td> -- </td><td> -- </td><td>rules</td><td>cDRKd</td><td> 30 </td><td>20%</td><td>16%</td></tr><tr><td>27</td><td>POC-English-Amb</td><td>R=6-Weight=6:R-mst-weight=+1:R</td><td> -- </td><td> -- </td><td>none</td><td>cDRKd</td><td> 29 </td><td>68%</td><td>48%</td></tr><tr><td>28</td><td>POC-English-Amb</td><td>R=6-Weight=6:R-mst-weight=+1:R</td><td> -- </td><td> -- </td><td>rules</td><td>cDRKd</td><td> 28 </td><td>75%</td><td>53%</td></tr><tr><td>29</td><td>POC-English-disAmb</td><td>R=6-Weight=6:R-mst-weight=+1:R</td><td> -- </td><td> -- </td><td>none</td><td>cDRKd</td><td> 31 </td><td>70%</td><td>50%</td></tr><tr><td>30</td><td>POC-English-disAmb</td><td>R=6-Weight=6:R-mst-weight=+1:R</td><td> -- </td><td> -- </td><td>rules</td><td>cDRKd</td><td> 29 </td><td>75%</td><td>53%</td></tr><tr><td>31</td><td>POC-English-disAmb</td><td>R=6-Weight=6:R-mst-weight=+1:R-adagram</td><td> -- </td><td> -- </td><td>rules</td><td>cDRKd</td><td> 28 </td><td>81%</td><td>55%</td></tr><tr><td>32</td><td>POC-English-Amb</td><td>R=6-Weight=1-mst-weight=+1:R</td><td> -- </td><td> -- </td><td>none</td><td>cDRKd</td><td> 20 </td><td>79%</td><td>56%</td></tr><tr><td>33</td><td>POC-English-disAmb</td><td>R=6-Weight=1-mst-weight=+1:R</td><td> -- </td><td> -- </td><td>none</td><td>cDRKd</td><td> 21 </td><td>72%</td><td>49%</td></tr><tr><td>34</td><td>POC-English-disAmb</td><td>R=6-Weight=1-mst-weight=+1:R</td><td> -- </td><td> -- </td><td>rules</td><td>cDRKd</td><td> 25 </td><td>67%</td><td>50%</td></tr><tr><td>35</td><td>POC-English-disAmb</td><td>R=6-Weight=1-mst-weight=+1:R-adagram</td><td> -- </td><td> -- </td><td>rules</td><td>cDRKd</td><td> 22 </td><td>79%</td><td>53%</td></tr><tr><td>36</td><td>POC-English-Amb</td><td>LG-ANY-all-parses</td><td> -- </td><td> -- </td><td>none</td><td>cDRKd</td><td> 24 </td><td>87%</td><td>59%</td></tr><tr><td>37</td><td>POC-English-disAmb</td><td>LG-ANY-all-parses</td><td> -- </td><td> -- </td><td>none</td><td>cDRKd</td><td> 31 </td><td>93%</td><td>64%</td></tr><tr><td>38</td><td>POC-English-disAmb</td><td>LG-ANY-all-parses</td><td> -- </td><td> -- </td><td>rules</td><td>cDRKd</td><td> 28 </td><td>95%</td><td>67%</td></tr><tr><td>39</td><td>POC-English-disAmb</td><td>LG-ANY-all-parses-adagram</td><td> -- </td><td> -- </td><td>rules</td><td>cDRKd</td><td> 24 </td><td>89%</td><td>64%</td></tr><tr><td>20</td><td>POC-English-Amb</td><td>MST-fixed-manually</td><td>LW</td><td> + </td><td>none</td><td>cILEd</td><td> 38 </td><td>20%</td><td>0%</td></tr><tr><td>21</td><td>POC-English-Amb</td><td>LG-English</td><td>LW</td><td> + </td><td>none</td><td>cILEd</td><td> 38 </td><td>20%</td><td>0%</td></tr><tr><td>22</td><td>POC-English-Amb</td><td>R=6-Weight=6:R-mst-weight=+1:R</td><td>LW</td><td> + </td><td>none</td><td>cILEd</td><td> 40 </td><td>20%</td><td>0%</td></tr><tr><td>23</td><td>POC-English-Amb</td><td>MST-fixed-manually</td><td> -- </td><td> -- </td><td>none</td><td>cILEd</td><td> 36 </td><td>39%</td><td>25%</td></tr><tr><td>24</td><td>POC-English-Amb</td><td>MST-fixed-manually</td><td> -- </td><td> -- </td><td>rules</td><td>cILEd</td><td> 21 </td><td>39%</td><td>25%</td></tr><tr><td>25</td><td>POC-English-Amb</td><td>LG-English</td><td> -- </td><td> -- </td><td>none</td><td>cILEd</td><td> 36 </td><td>39%</td><td>25%</td></tr><tr><td>26</td><td>POC-English-Amb</td><td>LG-English</td><td> -- </td><td> -- </td><td>rules</td><td>cILEd</td><td> 19 </td><td>39%</td><td>25%</td></tr><tr><td>27</td><td>POC-English-Amb</td><td>R=6-Weight=6:R-mst-weight=+1:R</td><td> -- </td><td> -- </td><td>none</td><td>cILEd</td><td> 38 </td><td>38%</td><td>20%</td></tr><tr><td>28</td><td>POC-English-Amb</td><td>R=6-Weight=6:R-mst-weight=+1:R</td><td> -- </td><td> -- </td><td>rules</td><td>cILEd</td><td> 21 </td><td>39%</td><td>23%</td></tr><tr><td>29</td><td>POC-English-disAmb</td><td>R=6-Weight=6:R-mst-weight=+1:R</td><td> -- </td><td> -- </td><td>none</td><td>cILEd</td><td> 39 </td><td>38%</td><td>21%</td></tr><tr><td>30</td><td>POC-English-disAmb</td><td>R=6-Weight=6:R-mst-weight=+1:R</td><td> -- </td><td> -- </td><td>rules</td><td>cILEd</td><td> 23 </td><td>39%</td><td>23%</td></tr><tr><td>31</td><td>POC-English-disAmb</td><td>R=6-Weight=6:R-mst-weight=+1:R-adagram</td><td> -- </td><td> -- </td><td>rules</td><td>cILEd</td><td> 24 </td><td>39%</td><td>24%</td></tr><tr><td>32</td><td>POC-English-Amb</td><td>R=6-Weight=1-mst-weight=+1:R</td><td> -- </td><td> -- </td><td>none</td><td>cILEd</td><td> 39 </td><td>39%</td><td>23%</td></tr><tr><td>33</td><td>POC-English-disAmb</td><td>R=6-Weight=1-mst-weight=+1:R</td><td> -- </td><td> -- </td><td>none</td><td>cILEd</td><td> 41 </td><td>38%</td><td>22%</td></tr><tr><td>34</td><td>POC-English-disAmb</td><td>R=6-Weight=1-mst-weight=+1:R</td><td> -- </td><td> -- </td><td>rules</td><td>cILEd</td><td> 20 </td><td>39%</td><td>25%</td></tr><tr><td>35</td><td>POC-English-disAmb</td><td>R=6-Weight=1-mst-weight=+1:R-adagram</td><td> -- </td><td> -- </td><td>rules</td><td>cILEd</td><td> 18 </td><td>39%</td><td>25%</td></tr><tr><td>36</td><td>POC-English-Amb</td><td>LG-ANY-all-parses</td><td> -- </td><td> -- </td><td>none</td><td>cILEd</td><td> 38 </td><td>37%</td><td>22%</td></tr><tr><td>37</td><td>POC-English-disAmb</td><td>LG-ANY-all-parses</td><td> -- </td><td> -- </td><td>none</td><td>cILEd</td><td> 39 </td><td>37%</td><td>22%</td></tr><tr><td>38</td><td>POC-English-disAmb</td><td>LG-ANY-all-parses</td><td> -- </td><td> -- </td><td>rules</td><td>cILEd</td><td> 17 </td><td>39%</td><td>25%</td></tr><tr><td>39</td><td>POC-English-disAmb</td><td>LG-ANY-all-parses-adagram</td><td> -- </td><td> -- </td><td>rules</td><td>cILEd</td><td> 23 </td><td>38%</td><td>24%</td></tr></table>"
      ],
      "text/plain": [
       "<IPython.core.display.HTML object>"
      ]
     },
     "metadata": {},
     "output_type": "display_data"
    }
   ],
   "source": [
    "display(html_table([header]+long_table))"
   ]
  },
  {
   "cell_type": "code",
   "execution_count": 12,
   "metadata": {},
   "outputs": [
    {
     "name": "stdout",
     "output_type": "stream",
     "text": [
      "2018-08-05 16:41:04 UTC :: finished, elapsed 20.9 min\n",
      "Results saved to /home/obaskov/language-learning/output/POC-English-Amb-2018-08-05/short_table.txt\n"
     ]
    }
   ],
   "source": [
    "from write_files import list2file\n",
    "print(UTC(), ':: finished, elapsed', str(round((time.time()-start)/60, 1)), 'min')\n",
    "table_str = list2file(table, out_dir+'/short_table.txt')\n",
    "if runs == (1,1):\n",
    "    print('Results saved to', out_dir + '/short_table.txt')\n",
    "else:\n",
    "    long_table_str = list2file(long_table, out_dir+'/long_table.txt')\n",
    "    print('Average results saved to', out_dir + '/short_table.txt\\n'\n",
    "          'Detailed results for every run saved to', out_dir + '/long_table.txt')"
   ]
  },
  {
   "cell_type": "code",
   "execution_count": null,
   "metadata": {},
   "outputs": [],
   "source": []
  }
 ],
 "metadata": {
  "kernelspec": {
   "display_name": "Python [conda env:ull]",
   "language": "python",
   "name": "conda-env-ull-py"
  },
  "language_info": {
   "codemirror_mode": {
    "name": "ipython",
    "version": 3
   },
   "file_extension": ".py",
   "mimetype": "text/x-python",
   "name": "python",
   "nbconvert_exporter": "python",
   "pygments_lexer": "ipython3",
   "version": "3.6.6"
  },
  "toc": {
   "base_numbering": 1,
   "nav_menu": {},
   "number_sections": true,
   "sideBar": true,
   "skip_h1_title": false,
   "title_cell": "Table of Contents",
   "title_sidebar": "Contents",
   "toc_cell": false,
   "toc_position": {},
   "toc_section_display": true,
   "toc_window_display": false
  }
 },
 "nbformat": 4,
 "nbformat_minor": 2
}
