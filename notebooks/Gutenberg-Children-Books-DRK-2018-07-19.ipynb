{
 "cells": [
  {
   "cell_type": "markdown",
   "metadata": {},
   "source": [
    "# Gutenberg Children books test `2018-07-19`\n",
    "\n",
    "New (2018-07-05) Grammar Tester, server `94.130.238.118`  \n",
    "Link Grammar dictionary words `word@a, word@b` renamed ⇒ `word.a, word.b`\n",
    "    \n",
    "Each line is calculated 1x, parsing metrics tested 1x for each calculation.  \n",
    "The calculation table is shared as 'short_table.txt' in data folder  \n",
    "[http://langlearn.singularitynet.io/data/clustering_2018/Gutenberg-Children-Books-2018-07-19/](http://langlearn.singularitynet.io/data/clustering_2018/Gutenberg-Children-Books-2018-07-19/)  \n",
    "This notebook is ***NOT*** shared as static html via  \n",
    "[http://langlearn.singularitynet.io/data/clustering_2018/html/Gutenberg-Children-Books-2018-07-19.html](http://langlearn.singularitynet.io/data/clustering_2018/html/Gutenberg-Children-Books-2018-07-19.html)  "
   ]
  },
  {
   "cell_type": "markdown",
   "metadata": {},
   "source": [
    "## Basic settings"
   ]
  },
  {
   "cell_type": "code",
   "execution_count": 1,
   "metadata": {},
   "outputs": [
    {
     "name": "stdout",
     "output_type": "stream",
     "text": [
      "2018-07-19 10:44:38 UTC :: module_path = /home/obaskov/language-learning\n"
     ]
    }
   ],
   "source": [
    "import os, sys, time\n",
    "from IPython.display import display\n",
    "module_path = os.path.abspath(os.path.join('..'))\n",
    "if module_path not in sys.path: sys.path.append(module_path)\n",
    "src_path = module_path + '/src'\n",
    "if os.path.exists(src_path) and src_path not in sys.path: sys.path.append(src_path)\n",
    "from src.utl.utl import UTC\n",
    "from src.utl.widgets import html_table\n",
    "from src.utl.read_files import check_dir\n",
    "from src.utl.grammar_testing import table_cds\n",
    "prefix = ''\n",
    "tmpath = module_path + '/tmp/'\n",
    "check_dir(tmpath, True, 'none')\n",
    "print(UTC(), ':: module_path =', module_path)\n",
    "start = time.time()"
   ]
  },
  {
   "cell_type": "markdown",
   "metadata": {},
   "source": [
    "## Grammar Learner parameters"
   ]
  },
  {
   "cell_type": "code",
   "execution_count": 2,
   "metadata": {},
   "outputs": [],
   "source": [
    "out_dir = module_path + '/output/Gutenberg-Children-Books-' + str(UTC())[:10]\n",
    "kwargs = {\n",
    "    'left_wall'     :   ''          ,\n",
    "    'period'        :   False       ,\n",
    "    'clustering'    :   'kmeans'    ,\n",
    "    'cluster_range' :   (20,100,5)  ,\n",
    "    'cluster_criteria': 'silhouette',\n",
    "    'cluster_level' :   0.9         ,\n",
    "    'tmpath'        :   tmpath      , \n",
    "    'verbose'       :   'min'       ,\n",
    "    'template_path' :   'poc-turtle',\n",
    "    'categories_generalization': 'off',\n",
    "    'test_corpus'   :   module_path + '/data/ChildDirectedSpeech/LG_English',  # no tests\n",
    "    'reference_path':   module_path + '/data/ChildDirectedSpeech/LG_English',  # no tests\n",
    "    'linkage_limit' :   100\n",
    "}"
   ]
  },
  {
   "cell_type": "markdown",
   "metadata": {},
   "source": [
    "# Gutenberg Children\n",
    "ULL Project Plan ⇒ Parses ⇒ lines 66-69"
   ]
  },
  {
   "cell_type": "code",
   "execution_count": 3,
   "metadata": {},
   "outputs": [],
   "source": [
    "lines = [\n",
    "    [66, 'Gutenberg-Children-Books'  , 'LG-English'      , 'none'  ], \n",
    "    [67, 'Gutenberg-Children-Books'  , 'LG-English'      , 'rules' ], \n",
    "    [68, 'Gutenberg-Children-Books'  , 'R=6-Weight=6:R-mst-weight=+1:R', 'none'  ], \n",
    "    [69, 'Gutenberg-Children-Books'  , 'R=6-Weight=6:R-mst-weight=+1:R', 'rules' ]\n",
    "]\n",
    "header = ['Line','Corpus','Parsing','LW','\".\"','Generalization','Space','Rules','PA','PQ']\n",
    "table = []\n",
    "long_table = []\n",
    "runs = (1,1)    # attempts to learn grammar per line, grammar tests oer attempt"
   ]
  },
  {
   "cell_type": "markdown",
   "metadata": {},
   "source": [
    "## Connectors-DRK-Connectors"
   ]
  },
  {
   "cell_type": "code",
   "execution_count": 4,
   "metadata": {},
   "outputs": [
    {
     "name": "stdout",
     "output_type": "stream",
     "text": [
      "CPU times: user 1h 50min 56s, sys: 7min 13s, total: 1h 58min 10s\n",
      "Wall time: 1h 1min 56s\n"
     ]
    }
   ],
   "source": [
    "%%time\n",
    "#%%capture\n",
    "kwargs['context'] = 1\n",
    "kwargs['word_space'] = 'vectors'\n",
    "kwargs['clustering'] = 'kmeans'\n",
    "kwargs['grammar_rules'] = 1\n",
    "average21, long21 = table_cds(lines, module_path, out_dir, runs, **kwargs)\n",
    "table.extend(average21)\n",
    "long_table.extend(long21)"
   ]
  },
  {
   "cell_type": "code",
   "execution_count": 5,
   "metadata": {},
   "outputs": [
    {
     "data": {
      "text/html": [
       "<table><tr><td>Line</td><td>Corpus</td><td>Parsing</td><td>LW</td><td>\".\"</td><td>Generalization</td><td>Space</td><td>Rules</td><td>PA</td><td>PQ</td></tr><tr><td>66</td><td>Gutenberg-Children-Books</td><td>LG-English</td><td> -- </td><td> -- </td><td>none</td><td>cDRKc</td><td>40</td><td>0%</td><td>0%</td></tr><tr><td>68</td><td>Gutenberg-Children-Books</td><td>R=6-Weight=6:R-mst-weight=+1:R</td><td> -- </td><td> -- </td><td>none</td><td>cDRKc</td><td>20</td><td>0%</td><td>0%</td></tr></table>"
      ],
      "text/plain": [
       "<IPython.core.display.HTML object>"
      ]
     },
     "metadata": {},
     "output_type": "display_data"
    },
    {
     "name": "stdout",
     "output_type": "stream",
     "text": [
      "2018-07-19 11:46:35 UTC\n"
     ]
    }
   ],
   "source": [
    "display(html_table([header]+average21))\n",
    "print(UTC())"
   ]
  },
  {
   "cell_type": "markdown",
   "metadata": {},
   "source": [
    "## Connectors-DRK-Disjuncts"
   ]
  },
  {
   "cell_type": "code",
   "execution_count": 6,
   "metadata": {},
   "outputs": [
    {
     "name": "stdout",
     "output_type": "stream",
     "text": [
      "CPU times: user 3h 46min 59s, sys: 14min 22s, total: 4h 1min 21s\n",
      "Wall time: 2h 8min 42s\n"
     ]
    }
   ],
   "source": [
    "%%time\n",
    "#%%capture\n",
    "kwargs['context'] = 1\n",
    "kwargs['word_space'] = 'vectors'\n",
    "kwargs['clustering'] = 'kmeans'\n",
    "kwargs['grammar_rules'] = 2\n",
    "average22, long22 = table_cds(lines, module_path, out_dir, runs, **kwargs)\n",
    "table.extend(average22)\n",
    "long_table.extend(long22)"
   ]
  },
  {
   "cell_type": "code",
   "execution_count": 7,
   "metadata": {
    "scrolled": true
   },
   "outputs": [
    {
     "data": {
      "text/html": [
       "<table><tr><td>Line</td><td>Corpus</td><td>Parsing</td><td>LW</td><td>\".\"</td><td>Generalization</td><td>Space</td><td>Rules</td><td>PA</td><td>PQ</td></tr><tr><td>66</td><td>Gutenberg-Children-Books</td><td>LG-English</td><td> -- </td><td> -- </td><td>none</td><td>cDRKd</td><td>40</td><td>0%</td><td>0%</td></tr><tr><td>67</td><td>Gutenberg-Children-Books</td><td>LG-English</td><td> -- </td><td> -- </td><td>rules</td><td>cDRKd</td><td>40</td><td>0%</td><td>0%</td></tr><tr><td>68</td><td>Gutenberg-Children-Books</td><td>R=6-Weight=6:R-mst-weight=+1:R</td><td> -- </td><td> -- </td><td>none</td><td>cDRKd</td><td>25</td><td>0%</td><td>0%</td></tr><tr><td>69</td><td>Gutenberg-Children-Books</td><td>R=6-Weight=6:R-mst-weight=+1:R</td><td> -- </td><td> -- </td><td>rules</td><td>cDRKd</td><td>20</td><td>0%</td><td>0%</td></tr></table>"
      ],
      "text/plain": [
       "<IPython.core.display.HTML object>"
      ]
     },
     "metadata": {},
     "output_type": "display_data"
    },
    {
     "name": "stdout",
     "output_type": "stream",
     "text": [
      "2018-07-19 13:55:17 UTC\n"
     ]
    }
   ],
   "source": [
    "display(html_table([header]+average22))\n",
    "print(UTC())"
   ]
  },
  {
   "cell_type": "markdown",
   "metadata": {},
   "source": [
    "## Disjuncts-DRK-Disjuncts"
   ]
  },
  {
   "cell_type": "code",
   "execution_count": 8,
   "metadata": {},
   "outputs": [
    {
     "name": "stdout",
     "output_type": "stream",
     "text": [
      "CPU times: user 3h 29min 13s, sys: 12min 52s, total: 3h 42min 6s\n",
      "Wall time: 2h 11min 43s\n"
     ]
    }
   ],
   "source": [
    "%%time\n",
    "#%%capture\n",
    "kwargs['context'] = 2\n",
    "kwargs['word_space'] = 'vectors'\n",
    "kwargs['clustering'] = 'kmeans'\n",
    "kwargs['grammar_rules'] = 2\n",
    "average23, long23 = table_cds(lines, module_path, out_dir, runs, **kwargs)\n",
    "table.extend(average23)\n",
    "long_table.extend(long23)"
   ]
  },
  {
   "cell_type": "code",
   "execution_count": 9,
   "metadata": {},
   "outputs": [
    {
     "data": {
      "text/html": [
       "<table><tr><td>Line</td><td>Corpus</td><td>Parsing</td><td>LW</td><td>\".\"</td><td>Generalization</td><td>Space</td><td>Rules</td><td>PA</td><td>PQ</td></tr><tr><td>66</td><td>Gutenberg-Children-Books</td><td>LG-English</td><td> -- </td><td> -- </td><td>none</td><td>dDRKd</td><td>20</td><td>0%</td><td>0%</td></tr><tr><td>67</td><td>Gutenberg-Children-Books</td><td>LG-English</td><td> -- </td><td> -- </td><td>rules</td><td>dDRKd</td><td>20</td><td>0%</td><td>0%</td></tr><tr><td>68</td><td>Gutenberg-Children-Books</td><td>R=6-Weight=6:R-mst-weight=+1:R</td><td> -- </td><td> -- </td><td>none</td><td>dDRKd</td><td>40</td><td>0%</td><td>0%</td></tr><tr><td>69</td><td>Gutenberg-Children-Books</td><td>R=6-Weight=6:R-mst-weight=+1:R</td><td> -- </td><td> -- </td><td>rules</td><td>dDRKd</td><td>40</td><td>0%</td><td>0%</td></tr></table>"
      ],
      "text/plain": [
       "<IPython.core.display.HTML object>"
      ]
     },
     "metadata": {},
     "output_type": "display_data"
    },
    {
     "name": "stdout",
     "output_type": "stream",
     "text": [
      "2018-07-19 16:07:00 UTC\n"
     ]
    }
   ],
   "source": [
    "display(html_table([header]+average23))\n",
    "print(UTC())"
   ]
  },
  {
   "cell_type": "markdown",
   "metadata": {},
   "source": [
    "## Disjuncts-ILE-Disjuncts -- moved to separate notebooks for each case"
   ]
  },
  {
   "cell_type": "code",
   "execution_count": 10,
   "metadata": {},
   "outputs": [],
   "source": [
    "%%capture\n",
    "kwargs['context'] = 2\n",
    "kwargs['word_space'] = 'discrete'\n",
    "kwargs['clustering'] = 'group'\n",
    "kwargs['grammar_rules'] = 2\n",
    "#average24, long24 = table_cds(lines, module_path, out_dir, runs, **kwargs)\n",
    "#table.extend(average24)\n",
    "#long_table.extend(long24)"
   ]
  },
  {
   "cell_type": "code",
   "execution_count": 11,
   "metadata": {},
   "outputs": [],
   "source": [
    "#display(html_table([header]+average24))"
   ]
  },
  {
   "cell_type": "markdown",
   "metadata": {},
   "source": [
    "# All tests"
   ]
  },
  {
   "cell_type": "code",
   "execution_count": 12,
   "metadata": {},
   "outputs": [
    {
     "data": {
      "text/html": [
       "<table><tr><td>Line</td><td>Corpus</td><td>Parsing</td><td>LW</td><td>\".\"</td><td>Generalization</td><td>Space</td><td>Rules</td><td>PA</td><td>PQ</td></tr><tr><td>66</td><td>Gutenberg-Children-Books</td><td>LG-English</td><td> -- </td><td> -- </td><td>none</td><td>cDRKc</td><td> 40 </td><td>0%</td><td>0%</td></tr><tr><td>68</td><td>Gutenberg-Children-Books</td><td>R=6-Weight=6:R-mst-weight=+1:R</td><td> -- </td><td> -- </td><td>none</td><td>cDRKc</td><td> 20 </td><td>0%</td><td>0%</td></tr><tr><td>66</td><td>Gutenberg-Children-Books</td><td>LG-English</td><td> -- </td><td> -- </td><td>none</td><td>cDRKd</td><td> 40 </td><td>0%</td><td>0%</td></tr><tr><td>67</td><td>Gutenberg-Children-Books</td><td>LG-English</td><td> -- </td><td> -- </td><td>rules</td><td>cDRKd</td><td> 40 </td><td>0%</td><td>0%</td></tr><tr><td>68</td><td>Gutenberg-Children-Books</td><td>R=6-Weight=6:R-mst-weight=+1:R</td><td> -- </td><td> -- </td><td>none</td><td>cDRKd</td><td> 25 </td><td>0%</td><td>0%</td></tr><tr><td>69</td><td>Gutenberg-Children-Books</td><td>R=6-Weight=6:R-mst-weight=+1:R</td><td> -- </td><td> -- </td><td>rules</td><td>cDRKd</td><td> 20 </td><td>0%</td><td>0%</td></tr><tr><td>66</td><td>Gutenberg-Children-Books</td><td>LG-English</td><td> -- </td><td> -- </td><td>none</td><td>dDRKd</td><td> 20 </td><td>0%</td><td>0%</td></tr><tr><td>67</td><td>Gutenberg-Children-Books</td><td>LG-English</td><td> -- </td><td> -- </td><td>rules</td><td>dDRKd</td><td> 20 </td><td>0%</td><td>0%</td></tr><tr><td>68</td><td>Gutenberg-Children-Books</td><td>R=6-Weight=6:R-mst-weight=+1:R</td><td> -- </td><td> -- </td><td>none</td><td>dDRKd</td><td> 40 </td><td>0%</td><td>0%</td></tr><tr><td>69</td><td>Gutenberg-Children-Books</td><td>R=6-Weight=6:R-mst-weight=+1:R</td><td> -- </td><td> -- </td><td>rules</td><td>dDRKd</td><td> 40 </td><td>0%</td><td>0%</td></tr></table>"
      ],
      "text/plain": [
       "<IPython.core.display.HTML object>"
      ]
     },
     "metadata": {},
     "output_type": "display_data"
    }
   ],
   "source": [
    "display(html_table([header]+long_table))"
   ]
  },
  {
   "cell_type": "code",
   "execution_count": null,
   "metadata": {},
   "outputs": [],
   "source": [
    "from src.utl.write_files import list2file\n",
    "print(UTC(), ':: finished, elapsed', str(round((time.time()-start)/60.0, 1)), 'hours')\n",
    "table_str = list2file(table, out_dir+'/short_table.txt')\n",
    "if runs == (1,1):\n",
    "    print('Results saved to', out_dir + '/short_table.txt')\n",
    "else:\n",
    "    long_table_str = list2file(long_table, out_dir+'/long_table.txt')\n",
    "    print('Average results saved to', out_dir + '/short_table.txt\\n'\n",
    "          'Detailed results for every run saved to', out_dir + '/long_table.txt')"
   ]
  },
  {
   "cell_type": "code",
   "execution_count": null,
   "metadata": {},
   "outputs": [],
   "source": []
  }
 ],
 "metadata": {
  "kernelspec": {
   "display_name": "Python [conda env:ull]",
   "language": "python",
   "name": "conda-env-ull-py"
  },
  "language_info": {
   "codemirror_mode": {
    "name": "ipython",
    "version": 3
   },
   "file_extension": ".py",
   "mimetype": "text/x-python",
   "name": "python",
   "nbconvert_exporter": "python",
   "pygments_lexer": "ipython3",
   "version": "3.6.6"
  },
  "toc": {
   "base_numbering": 1,
   "nav_menu": {},
   "number_sections": true,
   "sideBar": true,
   "skip_h1_title": false,
   "title_cell": "Table of Contents",
   "title_sidebar": "Contents",
   "toc_cell": false,
   "toc_position": {},
   "toc_section_display": true,
   "toc_window_display": false
  }
 },
 "nbformat": 4,
 "nbformat_minor": 2
}
