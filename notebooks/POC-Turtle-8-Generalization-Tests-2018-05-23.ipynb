{
 "cells": [
  {
   "cell_type": "markdown",
   "metadata": {},
   "source": [
    "# POC-Turtle-8: Generalization tests `2016-05-23`\n",
    "static html: [http://88.99.210.144/data/clustering_2018/html/POC-Turtle-8-Generalization.html](http://88.99.210.144/data/clustering_2018/html/POC-Turtle-8-Generalization.html)  \n",
    "data: [http://88.99.210.144/data/clustering_2018/Generalization/POC-Turtle/](http://88.99.210.144/data/clustering_2018/Generalization/POC-Turtle/)"
   ]
  },
  {
   "cell_type": "markdown",
   "metadata": {},
   "source": [
    "## Basic settings"
   ]
  },
  {
   "cell_type": "code",
   "execution_count": 1,
   "metadata": {},
   "outputs": [
    {
     "name": "stdout",
     "output_type": "stream",
     "text": [
      "2018-05-23 13:01:55 UTC\n"
     ]
    }
   ],
   "source": [
    "import os, sys, time\n",
    "import numpy as np\n",
    "import pandas as pd\n",
    "import matplotlib.pyplot as plt\n",
    "%matplotlib inline\n",
    "from IPython.display import display\n",
    "module_path = os.path.abspath(os.path.join('..'))\n",
    "if module_path not in sys.path: sys.path.append(module_path)\n",
    "src_path = module_path + '/src'\n",
    "if os.path.exists(src_path) and src_path not in sys.path: \n",
    "    sys.path.append(src_path)\n",
    "lg_path = '/home/oleg/miniconda3/envs/ull4/lib/python3.6/site-packages/linkgrammar'\n",
    "if os.path.exists(lg_path) and lg_path not in sys.path: \n",
    "    sys.path.append(lg_path)\n",
    "from src.utl.utl import UTC\n",
    "from src.utl.read_files import check_dir\n",
    "from src.utl.turtle import html_table\n",
    "from src.grammar_learner.poc04 import learn_grammar, params, run_learn_grammar\n",
    "prefix = ''\n",
    "tmpath = module_path + '/tmp/'\n",
    "check_dir(tmpath, True, 'none')\n",
    "print(UTC())"
   ]
  },
  {
   "cell_type": "markdown",
   "metadata": {},
   "source": [
    "## Grammar Learner parameters"
   ]
  },
  {
   "cell_type": "code",
   "execution_count": 2,
   "metadata": {},
   "outputs": [],
   "source": [
    "kwargs = {\n",
    "    'left_wall'     :   'LEFT-WALL' ,\n",
    "    'period'        :   True        ,\n",
    "    'context'       :   2           ,\n",
    "    'word_space'    :   'discrete'  ,\n",
    "    'clustering'    :   'group'     ,\n",
    "    'grammar_rules' :   2           ,\n",
    "    'verbose'       :   'min'       ,\n",
    "    'tmpath'        :   tmpath      , \n",
    "    'categories_generalization': 'off',\n",
    "    'rules_generalization': 'off'   ,\n",
    "    'test_corpus'   :   module_path + '/data/POC-Turtle/poc-turtle-corpus.txt',\n",
    "    'reference_path':   module_path + '/data/POC-Turtle/poc-turtle-parses-expected.txt',\n",
    "    'template_path' :   'poc-turtle',\n",
    "    'linkage_limit' :   1\n",
    "}"
   ]
  },
  {
   "cell_type": "markdown",
   "metadata": {},
   "source": [
    "# Integration test: POC-Turtle 'MST_fixed_manually' "
   ]
  },
  {
   "cell_type": "code",
   "execution_count": 3,
   "metadata": {},
   "outputs": [],
   "source": [
    "corpus = 'POC-Turtle'\n",
    "dataset = 'MST_fixed_manually'\n",
    "out_dir = module_path + '/output/Generalization-Tests-' + str(UTC())[:10]\n",
    "kwargs['categories_generalization'] = ''\n",
    "#kwargs['categories_generalization'] = 'jaccard'\n",
    "kwargs['rules_generalization'] = ''\n",
    "kwargs['rules_generalization'] = 'jaccard'\n",
    "input_parses, output_categories, output_grammar = \\\n",
    "    params(corpus, dataset, module_path, out_dir, **kwargs)"
   ]
  },
  {
   "cell_type": "code",
   "execution_count": 4,
   "metadata": {},
   "outputs": [],
   "source": [
    "%%capture\n",
    "r21 = run_learn_grammar(corpus, dataset, module_path, out_dir, **kwargs)"
   ]
  },
  {
   "cell_type": "code",
   "execution_count": 5,
   "metadata": {},
   "outputs": [
    {
     "name": "stdout",
     "output_type": "stream",
     "text": [
      "\n",
      "Parse-ability / parse-quality =  100% / 100%;  6 Link Grammar rules\n",
      "\n",
      "Category tree \"cat_tree.txt\" file:\n"
     ]
    },
    {
     "data": {
      "text/html": [
       "<table><tr><td>C01</td><td>0</td><td>1</td><td>0.0</td><td>.</td><td>0</td></tr><tr><td>C02</td><td>0</td><td>2</td><td>0.0</td><td>LEFT-WALL</td><td>0</td></tr><tr><td>C03</td><td>0</td><td>3</td><td>0.0</td><td>bird extremity fish</td><td>0 0 0</td></tr><tr><td>C04</td><td>0</td><td>9</td><td>0.0</td><td>eagle herring parrot tuna feather scale fin wing</td><td>0 0 0 0 0 0 0 0</td></tr><tr><td></td><td>9</td><td>4</td><td>0.0</td><td>eagle herring parrot tuna</td><td>0 0 0 0</td></tr><tr><td></td><td>9</td><td>5</td><td>0.0</td><td>feather scale</td><td>0 0</td></tr><tr><td></td><td>9</td><td>6</td><td>0.0</td><td>fin wing</td><td>0 0</td></tr><tr><td>C05</td><td>0</td><td>7</td><td>0.0</td><td>has</td><td>0</td></tr><tr><td>C06</td><td>0</td><td>8</td><td>0.0</td><td>isa</td><td>0</td></tr></table>"
      ],
      "text/plain": [
       "<IPython.core.display.HTML object>"
      ]
     },
     "metadata": {},
     "output_type": "display_data"
    },
    {
     "name": "stdout",
     "output_type": "stream",
     "text": [
      "tuna isa fish.\n",
      "\n",
      "    +-C02C04+C04C06+C06C03+C03C01+\n",
      "    |       |      |      |      |\n",
      "LEFT-WALL tuna    isa   fish     .\n",
      "\n",
      "herring isa fish.\n",
      "\n",
      "    +-C02C04-+C04C06+C06C03+C03C01+\n",
      "    |        |      |      |      |\n",
      "LEFT-WALL herring  isa   fish     .\n",
      "\n",
      "tuna has fin.\n",
      "\n",
      "    +-C02C04+C04C05+C05C04+C04C01+\n",
      "    |       |      |      |      |\n",
      "LEFT-WALL tuna    has    fin     .\n",
      "\n",
      "herring has fin.\n",
      "\n",
      "    +-C02C04-+C04C05+C05C04+C04C01+\n",
      "    |        |      |      |      |\n",
      "LEFT-WALL herring  has    fin     .\n",
      "\n",
      "parrot isa bird.\n",
      "\n",
      "    +-C02C04-+C04C06+C06C03+C03C01+\n",
      "    |        |      |      |      |\n",
      "LEFT-WALL parrot   isa   bird     .\n",
      "\n",
      "eagle isa bird.\n",
      "\n",
      "    +-C02C04+C04C06+C06C03+C03C01+\n",
      "    |       |      |      |      |\n",
      "LEFT-WALL eagle   isa   bird     .\n",
      "\n",
      "parrot has wing.\n",
      "\n",
      "    +-C02C04-+C04C05+C05C04+C04C01+\n",
      "    |        |      |      |      |\n",
      "LEFT-WALL parrot   has   wing     .\n",
      "\n",
      "eagle has wing.\n",
      "\n",
      "    +-C02C04+C04C05+C05C04+C04C01+\n",
      "    |       |      |      |      |\n",
      "LEFT-WALL eagle   has   wing     .\n",
      "\n",
      "fin isa extremity.\n",
      "\n",
      "    +C02C04+C04C06+C06C03+C03C01+\n",
      "    |      |      |      |      |\n",
      "LEFT-WALL fin    isa extremity  .\n",
      "\n",
      "wing isa extremity.\n",
      "\n",
      "    +-C02C04+C04C06+C06C03+C03C01+\n",
      "    |       |      |      |      |\n",
      "LEFT-WALL wing    isa extremity  .\n",
      "\n",
      "fin has scale.\n",
      "\n",
      "    +C02C04+C04C05+C05C04+C04C01+\n",
      "    |      |      |      |      |\n",
      "LEFT-WALL fin    has   scale    .\n",
      "\n",
      "wing has feather.\n",
      "\n",
      "    +-C02C04+C04C05+C05C04+C04C01+\n",
      "    |       |      |      |      |\n",
      "LEFT-WALL wing    has  feather   .\n",
      "\n"
     ]
    }
   ],
   "source": [
    "print('\\nParse-ability / parse-quality = ', str(r21['parse_ability']) + '% / ' \\\n",
    "    + str(r21['parse_quality'])+'%; ', r21['grammar_rules'], 'Link Grammar rules\\n')\n",
    "#from src.utl.widgets import category_tree\n",
    "#tree = category_tree(r21['categories_file'], 'max')\n",
    "def display_tree(response):\n",
    "    print('Category tree \"cat_tree.txt\" file:')\n",
    "    with open(response['tree_file'],'r') as f: x = f.read().splitlines()\n",
    "    display(html_table([y.split('\\t') for y in x]))\n",
    "display_tree(r21)\n",
    "#-with open(r21['grammar_file'], 'r') as f: lines = f.read().splitlines()\n",
    "with open(r21['lg_parse_file'], 'r') as f: lines = f.read().splitlines()\n",
    "for line in lines[3:-2]: print(line)"
   ]
  },
  {
   "cell_type": "markdown",
   "metadata": {},
   "source": [
    "# Generalization tests: Disjuncts-ILE-Disjuncts"
   ]
  },
  {
   "cell_type": "code",
   "execution_count": 6,
   "metadata": {},
   "outputs": [],
   "source": [
    "corpus = 'POC-Turtle'\n",
    "out_dir = module_path + '/output/Generalization-Tests-' + str(UTC())[:10]\n",
    "kwargs['verbose'] = 'min'\n",
    "spaces = 'dILEd'  # Disjuncts-ILE-Disjuncts"
   ]
  },
  {
   "cell_type": "markdown",
   "metadata": {},
   "source": [
    "## 'MST_fixed_manually' and 'R=6_Weight=6:R' datasets"
   ]
  },
  {
   "cell_type": "code",
   "execution_count": 7,
   "metadata": {},
   "outputs": [],
   "source": [
    "%%capture\n",
    "lst = []\n",
    "for dataset in ['MST_fixed_manually', 'R=6_Weight=6:R']:\n",
    "    for kwargs['left_wall'] in ['LEFT-WALL', '']:\n",
    "        if kwargs['left_wall'] == 'LEFT-WALL': \n",
    "            lw = 'LW'\n",
    "        else: lw = ' - '\n",
    "        for kwargs['period'] in [True, False]:\n",
    "            if kwargs['period']: \n",
    "                dot = ' + '\n",
    "            else: dot = ' - '\n",
    "            for g in [('',''), ('jaccard',''), ('','jaccard'), ('jaccard','jaccard')]:\n",
    "                kwargs['rules_generalization'] = g[0]\n",
    "                kwargs['categories_generalization'] = g[1]\n",
    "                if g[0] == '' and g[1] == '': gen = 'none'\n",
    "                elif g[0] == 'jaccard' and g[1] == '': gen = 'rules'\n",
    "                elif g[0] == '' and g[1] == 'jaccard': gen = 'categories'\n",
    "                else: gen = 'both'\n",
    "                r = run_learn_grammar(corpus, dataset, module_path, out_dir, **kwargs)\n",
    "                line = [corpus, dataset, lw, dot, gen, spaces, r['grammar_rules'], \\\n",
    "                        str(r['parse_ability'])+'%', str(r['parse_quality'])+'%']\n",
    "                lst.append(line)"
   ]
  },
  {
   "cell_type": "code",
   "execution_count": 8,
   "metadata": {},
   "outputs": [
    {
     "data": {
      "text/html": [
       "<table><tr><td>Corpus</td><td>Parsing</td><td>LW</td><td>\".\"</td><td>Generalization</td><td>Spaces</td><td>Rules</td><td>PA</td><td>PQ</td></tr><tr><td>POC-Turtle</td><td>MST_fixed_manually</td><td>LW</td><td> + </td><td>none</td><td>dILEd</td><td>8</td><td>100%</td><td>100%</td></tr><tr><td>POC-Turtle</td><td>MST_fixed_manually</td><td>LW</td><td> + </td><td>rules</td><td>dILEd</td><td>6</td><td>100%</td><td>100%</td></tr><tr><td>POC-Turtle</td><td>MST_fixed_manually</td><td>LW</td><td> + </td><td>categories</td><td>dILEd</td><td>6</td><td>100%</td><td>100%</td></tr><tr><td>POC-Turtle</td><td>MST_fixed_manually</td><td>LW</td><td> + </td><td>both</td><td>dILEd</td><td>6</td><td>100%</td><td>100%</td></tr><tr><td>POC-Turtle</td><td>MST_fixed_manually</td><td>LW</td><td> - </td><td>none</td><td>dILEd</td><td>7</td><td>100%</td><td>100%</td></tr><tr><td>POC-Turtle</td><td>MST_fixed_manually</td><td>LW</td><td> - </td><td>rules</td><td>dILEd</td><td>5</td><td>100%</td><td>100%</td></tr><tr><td>POC-Turtle</td><td>MST_fixed_manually</td><td>LW</td><td> - </td><td>categories</td><td>dILEd</td><td>5</td><td>100%</td><td>100%</td></tr><tr><td>POC-Turtle</td><td>MST_fixed_manually</td><td>LW</td><td> - </td><td>both</td><td>dILEd</td><td>5</td><td>100%</td><td>100%</td></tr><tr><td>POC-Turtle</td><td>MST_fixed_manually</td><td> - </td><td> + </td><td>none</td><td>dILEd</td><td>7</td><td>100%</td><td>100%</td></tr><tr><td>POC-Turtle</td><td>MST_fixed_manually</td><td> - </td><td> + </td><td>rules</td><td>dILEd</td><td>5</td><td>100%</td><td>100%</td></tr><tr><td>POC-Turtle</td><td>MST_fixed_manually</td><td> - </td><td> + </td><td>categories</td><td>dILEd</td><td>5</td><td>100%</td><td>100%</td></tr><tr><td>POC-Turtle</td><td>MST_fixed_manually</td><td> - </td><td> + </td><td>both</td><td>dILEd</td><td>5</td><td>100%</td><td>100%</td></tr><tr><td>POC-Turtle</td><td>MST_fixed_manually</td><td> - </td><td> - </td><td>none</td><td>dILEd</td><td>6</td><td>100%</td><td>100%</td></tr><tr><td>POC-Turtle</td><td>MST_fixed_manually</td><td> - </td><td> - </td><td>rules</td><td>dILEd</td><td>4</td><td>100%</td><td>100%</td></tr><tr><td>POC-Turtle</td><td>MST_fixed_manually</td><td> - </td><td> - </td><td>categories</td><td>dILEd</td><td>4</td><td>100%</td><td>100%</td></tr><tr><td>POC-Turtle</td><td>MST_fixed_manually</td><td> - </td><td> - </td><td>both</td><td>dILEd</td><td>4</td><td>100%</td><td>100%</td></tr><tr><td>POC-Turtle</td><td>R=6_Weight=6:R</td><td>LW</td><td> + </td><td>none</td><td>dILEd</td><td>10</td><td>92%</td><td>88%</td></tr><tr><td>POC-Turtle</td><td>R=6_Weight=6:R</td><td>LW</td><td> + </td><td>rules</td><td>dILEd</td><td>8</td><td>92%</td><td>88%</td></tr><tr><td>POC-Turtle</td><td>R=6_Weight=6:R</td><td>LW</td><td> + </td><td>categories</td><td>dILEd</td><td>8</td><td>92%</td><td>88%</td></tr><tr><td>POC-Turtle</td><td>R=6_Weight=6:R</td><td>LW</td><td> + </td><td>both</td><td>dILEd</td><td>8</td><td>92%</td><td>88%</td></tr><tr><td>POC-Turtle</td><td>R=6_Weight=6:R</td><td>LW</td><td> - </td><td>none</td><td>dILEd</td><td>9</td><td>92%</td><td>88%</td></tr><tr><td>POC-Turtle</td><td>R=6_Weight=6:R</td><td>LW</td><td> - </td><td>rules</td><td>dILEd</td><td>7</td><td>92%</td><td>88%</td></tr><tr><td>POC-Turtle</td><td>R=6_Weight=6:R</td><td>LW</td><td> - </td><td>categories</td><td>dILEd</td><td>7</td><td>92%</td><td>88%</td></tr><tr><td>POC-Turtle</td><td>R=6_Weight=6:R</td><td>LW</td><td> - </td><td>both</td><td>dILEd</td><td>7</td><td>92%</td><td>88%</td></tr><tr><td>POC-Turtle</td><td>R=6_Weight=6:R</td><td> - </td><td> + </td><td>none</td><td>dILEd</td><td>9</td><td>92%</td><td>88%</td></tr><tr><td>POC-Turtle</td><td>R=6_Weight=6:R</td><td> - </td><td> + </td><td>rules</td><td>dILEd</td><td>7</td><td>92%</td><td>88%</td></tr><tr><td>POC-Turtle</td><td>R=6_Weight=6:R</td><td> - </td><td> + </td><td>categories</td><td>dILEd</td><td>7</td><td>92%</td><td>88%</td></tr><tr><td>POC-Turtle</td><td>R=6_Weight=6:R</td><td> - </td><td> + </td><td>both</td><td>dILEd</td><td>6</td><td>100%</td><td>92%</td></tr><tr><td>POC-Turtle</td><td>R=6_Weight=6:R</td><td> - </td><td> - </td><td>none</td><td>dILEd</td><td>8</td><td>92%</td><td>88%</td></tr><tr><td>POC-Turtle</td><td>R=6_Weight=6:R</td><td> - </td><td> - </td><td>rules</td><td>dILEd</td><td>6</td><td>92%</td><td>88%</td></tr><tr><td>POC-Turtle</td><td>R=6_Weight=6:R</td><td> - </td><td> - </td><td>categories</td><td>dILEd</td><td>6</td><td>92%</td><td>88%</td></tr><tr><td>POC-Turtle</td><td>R=6_Weight=6:R</td><td> - </td><td> - </td><td>both</td><td>dILEd</td><td>5</td><td>100%</td><td>92%</td></tr></table>"
      ],
      "text/plain": [
       "<IPython.core.display.HTML object>"
      ]
     },
     "metadata": {},
     "output_type": "display_data"
    }
   ],
   "source": [
    "header = ['Corpus','Parsing','LW','\".\"','Generalization', 'Spaces','Rules','PA','PQ']\n",
    "display(html_table([header]+lst))"
   ]
  },
  {
   "cell_type": "markdown",
   "metadata": {},
   "source": [
    "## 'R=6_Weight=1' and 'LG_ANY_all_parses' datasets"
   ]
  },
  {
   "cell_type": "code",
   "execution_count": 9,
   "metadata": {},
   "outputs": [],
   "source": [
    "%%capture\n",
    "lst2 = []\n",
    "for dataset in ['R=6_Weight=1', 'LG_ANY_all_parses']:\n",
    "    for kwargs['left_wall'] in ['LEFT-WALL', '']:\n",
    "        if kwargs['left_wall'] == 'LEFT-WALL': \n",
    "            lw = 'LW'\n",
    "        else: lw = ' - '\n",
    "        for kwargs['period'] in [True, False]:\n",
    "            if kwargs['period']: \n",
    "                dot = ' + '\n",
    "            else: dot = ' - '\n",
    "            for g in [('',''), ('jaccard',''), ('','jaccard'), ('jaccard','jaccard')]:\n",
    "                kwargs['rules_generalization'] = g[0]\n",
    "                kwargs['categories_generalization'] = g[1]\n",
    "                if g[0] == '' and g[1] == '': gen = 'none'\n",
    "                elif g[0] == 'jaccard' and g[1] == '': gen = 'rules'\n",
    "                elif g[0] == '' and g[1] == 'jaccard': gen = 'categories'\n",
    "                else: gen = 'both'\n",
    "                r = run_learn_grammar(corpus, dataset, module_path, out_dir, **kwargs)\n",
    "                line = [corpus, dataset, lw, dot, gen, spaces, r['grammar_rules'], \\\n",
    "                        str(r['parse_ability'])+'%', str(r['parse_quality'])+'%']\n",
    "                lst2.append(line)"
   ]
  },
  {
   "cell_type": "code",
   "execution_count": 10,
   "metadata": {},
   "outputs": [
    {
     "data": {
      "text/html": [
       "<table><tr><td>Corpus</td><td>Parsing</td><td>LW</td><td>\".\"</td><td>Generalization</td><td>Spaces</td><td>Rules</td><td>PA</td><td>PQ</td></tr><tr><td>POC-Turtle</td><td>R=6_Weight=1</td><td>LW</td><td> + </td><td>none</td><td>dILEd</td><td>13</td><td>67%</td><td>33%</td></tr><tr><td>POC-Turtle</td><td>R=6_Weight=1</td><td>LW</td><td> + </td><td>rules</td><td>dILEd</td><td>12</td><td>67%</td><td>33%</td></tr><tr><td>POC-Turtle</td><td>R=6_Weight=1</td><td>LW</td><td> + </td><td>categories</td><td>dILEd</td><td>12</td><td>67%</td><td>33%</td></tr><tr><td>POC-Turtle</td><td>R=6_Weight=1</td><td>LW</td><td> + </td><td>both</td><td>dILEd</td><td>12</td><td>67%</td><td>33%</td></tr><tr><td>POC-Turtle</td><td>R=6_Weight=1</td><td>LW</td><td> - </td><td>none</td><td>dILEd</td><td>12</td><td>67%</td><td>33%</td></tr><tr><td>POC-Turtle</td><td>R=6_Weight=1</td><td>LW</td><td> - </td><td>rules</td><td>dILEd</td><td>11</td><td>67%</td><td>33%</td></tr><tr><td>POC-Turtle</td><td>R=6_Weight=1</td><td>LW</td><td> - </td><td>categories</td><td>dILEd</td><td>11</td><td>67%</td><td>33%</td></tr><tr><td>POC-Turtle</td><td>R=6_Weight=1</td><td>LW</td><td> - </td><td>both</td><td>dILEd</td><td>11</td><td>67%</td><td>33%</td></tr><tr><td>POC-Turtle</td><td>R=6_Weight=1</td><td> - </td><td> + </td><td>none</td><td>dILEd</td><td>12</td><td>67%</td><td>33%</td></tr><tr><td>POC-Turtle</td><td>R=6_Weight=1</td><td> - </td><td> + </td><td>rules</td><td>dILEd</td><td>10</td><td>83%</td><td>42%</td></tr><tr><td>POC-Turtle</td><td>R=6_Weight=1</td><td> - </td><td> + </td><td>categories</td><td>dILEd</td><td>10</td><td>83%</td><td>42%</td></tr><tr><td>POC-Turtle</td><td>R=6_Weight=1</td><td> - </td><td> + </td><td>both</td><td>dILEd</td><td>7</td><td>92%</td><td>46%</td></tr><tr><td>POC-Turtle</td><td>R=6_Weight=1</td><td> - </td><td> - </td><td>none</td><td>dILEd</td><td>11</td><td>67%</td><td>33%</td></tr><tr><td>POC-Turtle</td><td>R=6_Weight=1</td><td> - </td><td> - </td><td>rules</td><td>dILEd</td><td>9</td><td>83%</td><td>42%</td></tr><tr><td>POC-Turtle</td><td>R=6_Weight=1</td><td> - </td><td> - </td><td>categories</td><td>dILEd</td><td>9</td><td>83%</td><td>42%</td></tr><tr><td>POC-Turtle</td><td>R=6_Weight=1</td><td> - </td><td> - </td><td>both</td><td>dILEd</td><td>6</td><td>92%</td><td>46%</td></tr><tr><td>POC-Turtle</td><td>LG_ANY_all_parses</td><td>LW</td><td> + </td><td>none</td><td>dILEd</td><td>10</td><td>92%</td><td>88%</td></tr><tr><td>POC-Turtle</td><td>LG_ANY_all_parses</td><td>LW</td><td> + </td><td>rules</td><td>dILEd</td><td>8</td><td>92%</td><td>88%</td></tr><tr><td>POC-Turtle</td><td>LG_ANY_all_parses</td><td>LW</td><td> + </td><td>categories</td><td>dILEd</td><td>8</td><td>92%</td><td>88%</td></tr><tr><td>POC-Turtle</td><td>LG_ANY_all_parses</td><td>LW</td><td> + </td><td>both</td><td>dILEd</td><td>8</td><td>92%</td><td>88%</td></tr><tr><td>POC-Turtle</td><td>LG_ANY_all_parses</td><td>LW</td><td> - </td><td>none</td><td>dILEd</td><td>9</td><td>92%</td><td>88%</td></tr><tr><td>POC-Turtle</td><td>LG_ANY_all_parses</td><td>LW</td><td> - </td><td>rules</td><td>dILEd</td><td>7</td><td>92%</td><td>88%</td></tr><tr><td>POC-Turtle</td><td>LG_ANY_all_parses</td><td>LW</td><td> - </td><td>categories</td><td>dILEd</td><td>7</td><td>92%</td><td>88%</td></tr><tr><td>POC-Turtle</td><td>LG_ANY_all_parses</td><td>LW</td><td> - </td><td>both</td><td>dILEd</td><td>7</td><td>92%</td><td>88%</td></tr><tr><td>POC-Turtle</td><td>LG_ANY_all_parses</td><td> - </td><td> + </td><td>none</td><td>dILEd</td><td>9</td><td>92%</td><td>88%</td></tr><tr><td>POC-Turtle</td><td>LG_ANY_all_parses</td><td> - </td><td> + </td><td>rules</td><td>dILEd</td><td>7</td><td>92%</td><td>88%</td></tr><tr><td>POC-Turtle</td><td>LG_ANY_all_parses</td><td> - </td><td> + </td><td>categories</td><td>dILEd</td><td>7</td><td>92%</td><td>88%</td></tr><tr><td>POC-Turtle</td><td>LG_ANY_all_parses</td><td> - </td><td> + </td><td>both</td><td>dILEd</td><td>6</td><td>100%</td><td>92%</td></tr><tr><td>POC-Turtle</td><td>LG_ANY_all_parses</td><td> - </td><td> - </td><td>none</td><td>dILEd</td><td>8</td><td>92%</td><td>88%</td></tr><tr><td>POC-Turtle</td><td>LG_ANY_all_parses</td><td> - </td><td> - </td><td>rules</td><td>dILEd</td><td>6</td><td>92%</td><td>88%</td></tr><tr><td>POC-Turtle</td><td>LG_ANY_all_parses</td><td> - </td><td> - </td><td>categories</td><td>dILEd</td><td>6</td><td>92%</td><td>88%</td></tr><tr><td>POC-Turtle</td><td>LG_ANY_all_parses</td><td> - </td><td> - </td><td>both</td><td>dILEd</td><td>5</td><td>100%</td><td>92%</td></tr></table>"
      ],
      "text/plain": [
       "<IPython.core.display.HTML object>"
      ]
     },
     "metadata": {},
     "output_type": "display_data"
    }
   ],
   "source": [
    "display(html_table([header]+lst2))"
   ]
  },
  {
   "cell_type": "markdown",
   "metadata": {},
   "source": [
    "# Generalization tests: \"Connectors-DRK-Disjuncts\""
   ]
  },
  {
   "cell_type": "markdown",
   "metadata": {},
   "source": [
    "## Test all parses, with/without LEFT-WALL, period, rules generalization"
   ]
  },
  {
   "cell_type": "code",
   "execution_count": 11,
   "metadata": {},
   "outputs": [],
   "source": [
    "%%capture\n",
    "spaces = 'cDRKd'  # \"Connectors-DRK-Disjuncts\"\n",
    "kwargs['context'] = 1\n",
    "kwargs['word_space'] = 'vectors'\n",
    "kwargs['clustering'] = 'kmeans'\n",
    "kwargs['categories_generalization'] = 'off'\n",
    "kwargs['grammar_rules'] = 2 \n",
    "lst3 = []\n",
    "for dataset in ['MST_fixed_manually', 'R=6_Weight=6:R', 'R=6_Weight=1', 'LG_ANY_all_parses']:\n",
    "    for kwargs['left_wall'] in ['LEFT-WALL', '']:\n",
    "        if kwargs['left_wall'] == 'LEFT-WALL': \n",
    "            lw = 'LW'\n",
    "        else: lw = ' - '\n",
    "        for kwargs['period'] in [True, False]:\n",
    "            if kwargs['period']: \n",
    "                dot = ' + '\n",
    "            else: dot = ' - '\n",
    "            for g in [('',''), ('jaccard', '')]:\n",
    "                kwargs['rules_generalization'] = g[0]\n",
    "                kwargs['categories_generalization'] = g[1]\n",
    "                if g[0] == '' and g[1] == '': gen = 'none'\n",
    "                elif g[0] == 'jaccard' and g[1] == '': gen = 'rules'\n",
    "                elif g[0] == '' and g[1] == 'jaccard': gen = 'categories'\n",
    "                else: gen = 'both'\n",
    "                r = run_learn_grammar(corpus, dataset, module_path, out_dir, **kwargs)\n",
    "                line = [corpus, dataset, lw, dot, gen, spaces, r['grammar_rules'], \\\n",
    "                        str(r['parse_ability'])+'%', str(r['parse_quality'])+'%']\n",
    "                lst3.append(line)"
   ]
  },
  {
   "cell_type": "code",
   "execution_count": 12,
   "metadata": {},
   "outputs": [
    {
     "data": {
      "text/html": [
       "<table><tr><td>Corpus</td><td>Parsing</td><td>LW</td><td>\".\"</td><td>Generalization</td><td>Spaces</td><td>Rules</td><td>PA</td><td>PQ</td></tr><tr><td>POC-Turtle</td><td>MST_fixed_manually</td><td>LW</td><td> + </td><td>none</td><td>cDRKd</td><td>4</td><td>100%</td><td>100%</td></tr><tr><td>POC-Turtle</td><td>MST_fixed_manually</td><td>LW</td><td> + </td><td>rules</td><td>cDRKd</td><td>2</td><td>100%</td><td>100%</td></tr><tr><td>POC-Turtle</td><td>MST_fixed_manually</td><td>LW</td><td> - </td><td>none</td><td>cDRKd</td><td>4</td><td>100%</td><td>100%</td></tr><tr><td>POC-Turtle</td><td>MST_fixed_manually</td><td>LW</td><td> - </td><td>rules</td><td>cDRKd</td><td>2</td><td>100%</td><td>100%</td></tr><tr><td>POC-Turtle</td><td>MST_fixed_manually</td><td> - </td><td> + </td><td>none</td><td>cDRKd</td><td>4</td><td>100%</td><td>100%</td></tr><tr><td>POC-Turtle</td><td>MST_fixed_manually</td><td> - </td><td> + </td><td>rules</td><td>cDRKd</td><td>2</td><td>100%</td><td>100%</td></tr><tr><td>POC-Turtle</td><td>MST_fixed_manually</td><td> - </td><td> - </td><td>none</td><td>cDRKd</td><td>4</td><td>100%</td><td>100%</td></tr><tr><td>POC-Turtle</td><td>MST_fixed_manually</td><td> - </td><td> - </td><td>rules</td><td>cDRKd</td><td>2</td><td>100%</td><td>100%</td></tr><tr><td>POC-Turtle</td><td>R=6_Weight=6:R</td><td>LW</td><td> + </td><td>none</td><td>cDRKd</td><td>3</td><td>100%</td><td>92%</td></tr><tr><td>POC-Turtle</td><td>R=6_Weight=6:R</td><td>LW</td><td> + </td><td>rules</td><td>cDRKd</td><td>2</td><td>100%</td><td>100%</td></tr><tr><td>POC-Turtle</td><td>R=6_Weight=6:R</td><td>LW</td><td> - </td><td>none</td><td>cDRKd</td><td>3</td><td>100%</td><td>100%</td></tr><tr><td>POC-Turtle</td><td>R=6_Weight=6:R</td><td>LW</td><td> - </td><td>rules</td><td>cDRKd</td><td>3</td><td>100%</td><td>100%</td></tr><tr><td>POC-Turtle</td><td>R=6_Weight=6:R</td><td> - </td><td> + </td><td>none</td><td>cDRKd</td><td>3</td><td>100%</td><td>100%</td></tr><tr><td>POC-Turtle</td><td>R=6_Weight=6:R</td><td> - </td><td> + </td><td>rules</td><td>cDRKd</td><td>3</td><td>100%</td><td>100%</td></tr><tr><td>POC-Turtle</td><td>R=6_Weight=6:R</td><td> - </td><td> - </td><td>none</td><td>cDRKd</td><td>3</td><td>100%</td><td>92%</td></tr><tr><td>POC-Turtle</td><td>R=6_Weight=6:R</td><td> - </td><td> - </td><td>rules</td><td>cDRKd</td><td>3</td><td>100%</td><td>92%</td></tr><tr><td>POC-Turtle</td><td>R=6_Weight=1</td><td>LW</td><td> + </td><td>none</td><td>cDRKd</td><td>7</td><td>83%</td><td>42%</td></tr><tr><td>POC-Turtle</td><td>R=6_Weight=1</td><td>LW</td><td> + </td><td>rules</td><td>cDRKd</td><td>6</td><td>94%</td><td>50%</td></tr><tr><td>POC-Turtle</td><td>R=6_Weight=1</td><td>LW</td><td> - </td><td>none</td><td>cDRKd</td><td>7</td><td>67%</td><td>33%</td></tr><tr><td>POC-Turtle</td><td>R=6_Weight=1</td><td>LW</td><td> - </td><td>rules</td><td>cDRKd</td><td>5</td><td>83%</td><td>42%</td></tr><tr><td>POC-Turtle</td><td>R=6_Weight=1</td><td> - </td><td> + </td><td>none</td><td>cDRKd</td><td>7</td><td>78%</td><td>33%</td></tr><tr><td>POC-Turtle</td><td>R=6_Weight=1</td><td> - </td><td> + </td><td>rules</td><td>cDRKd</td><td>5</td><td>83%</td><td>42%</td></tr><tr><td>POC-Turtle</td><td>R=6_Weight=1</td><td> - </td><td> - </td><td>none</td><td>cDRKd</td><td>7</td><td>67%</td><td>33%</td></tr><tr><td>POC-Turtle</td><td>R=6_Weight=1</td><td> - </td><td> - </td><td>rules</td><td>cDRKd</td><td>4</td><td>83%</td><td>42%</td></tr><tr><td>POC-Turtle</td><td>LG_ANY_all_parses</td><td>LW</td><td> + </td><td>none</td><td>cDRKd</td><td>3</td><td>100%</td><td>100%</td></tr><tr><td>POC-Turtle</td><td>LG_ANY_all_parses</td><td>LW</td><td> + </td><td>rules</td><td>cDRKd</td><td>2</td><td>100%</td><td>100%</td></tr><tr><td>POC-Turtle</td><td>LG_ANY_all_parses</td><td>LW</td><td> - </td><td>none</td><td>cDRKd</td><td>3</td><td>100%</td><td>100%</td></tr><tr><td>POC-Turtle</td><td>LG_ANY_all_parses</td><td>LW</td><td> - </td><td>rules</td><td>cDRKd</td><td>3</td><td>100%</td><td>100%</td></tr><tr><td>POC-Turtle</td><td>LG_ANY_all_parses</td><td> - </td><td> + </td><td>none</td><td>cDRKd</td><td>3</td><td>100%</td><td>100%</td></tr><tr><td>POC-Turtle</td><td>LG_ANY_all_parses</td><td> - </td><td> + </td><td>rules</td><td>cDRKd</td><td>3</td><td>100%</td><td>100%</td></tr><tr><td>POC-Turtle</td><td>LG_ANY_all_parses</td><td> - </td><td> - </td><td>none</td><td>cDRKd</td><td>3</td><td>100%</td><td>92%</td></tr><tr><td>POC-Turtle</td><td>LG_ANY_all_parses</td><td> - </td><td> - </td><td>rules</td><td>cDRKd</td><td>3</td><td>100%</td><td>92%</td></tr></table>"
      ],
      "text/plain": [
       "<IPython.core.display.HTML object>"
      ]
     },
     "metadata": {},
     "output_type": "display_data"
    }
   ],
   "source": [
    "display(html_table([header]+lst3))"
   ]
  },
  {
   "cell_type": "markdown",
   "metadata": {},
   "source": [
    "## MST_fixed manually, no LEFT-WALL, no '.' -- 2 rules!\n",
    "**2 word categories: verbs and nouns, 2 rules form the grammar with 100% parse-ability and quality**"
   ]
  },
  {
   "cell_type": "code",
   "execution_count": 13,
   "metadata": {},
   "outputs": [],
   "source": [
    "%%capture\n",
    "kwargs['rules_generalization'] = 'jaccard'\n",
    "kwargs['left_wall'] = ''\n",
    "kwargs['period'] = False\n",
    "dataset = 'MST_fixed_manually'\n",
    "r32 = run_learn_grammar(corpus, dataset, module_path, out_dir, **kwargs)"
   ]
  },
  {
   "cell_type": "code",
   "execution_count": 14,
   "metadata": {},
   "outputs": [
    {
     "name": "stdout",
     "output_type": "stream",
     "text": [
      "Parse-ability / parse-quality =  100% / 100%;  2 Link Grammar rules\n",
      "\n",
      "tuna isa fish.\n",
      "\n",
      "  +C02C01+C01C02+\n",
      "  |      |      |\n",
      "tuna    isa   fish [.]\n",
      "\n",
      "herring isa fish.\n",
      "\n",
      "   +C02C01+C01C02+\n",
      "   |      |      |\n",
      "herring  isa   fish [.]\n",
      "\n",
      "tuna has fin.\n",
      "\n",
      "  +C02C01+C01C02+\n",
      "  |      |      |\n",
      "tuna    has    fin [.]\n",
      "\n",
      "herring has fin.\n",
      "\n",
      "   +C02C01+C01C02+\n",
      "   |      |      |\n",
      "herring  has    fin [.]\n",
      "\n",
      "parrot isa bird.\n",
      "\n",
      "   +C02C01+C01C02+\n",
      "   |      |      |\n",
      "parrot   isa   bird [.]\n",
      "\n",
      "eagle isa bird.\n",
      "\n",
      "  +C02C01+C01C02+\n",
      "  |      |      |\n",
      "eagle   isa   bird [.]\n",
      "\n",
      "parrot has wing.\n",
      "\n",
      "   +C02C01+C01C02+\n",
      "   |      |      |\n",
      "parrot   has   wing [.]\n",
      "\n",
      "eagle has wing.\n",
      "\n",
      "  +C02C01+C01C02+\n",
      "  |      |      |\n",
      "eagle   has   wing [.]\n",
      "\n",
      "fin isa extremity.\n",
      "\n",
      " +C02C01+C01C02+\n",
      " |      |      |\n",
      "fin    isa extremity [.]\n",
      "\n",
      "wing isa extremity.\n",
      "\n",
      "  +C02C01+C01C02+\n",
      "  |      |      |\n",
      "wing    isa extremity [.]\n",
      "\n",
      "fin has scale.\n",
      "\n",
      " +C02C01+C01C02+\n",
      " |      |      |\n",
      "fin    has   scale [.]\n",
      "\n",
      "wing has feather.\n",
      "\n",
      "  +C02C01+C01C02+\n",
      "  |      |      |\n",
      "wing    has  feather [.]\n",
      "\n"
     ]
    }
   ],
   "source": [
    "print('Parse-ability / parse-quality = ', str(r32['parse_ability']) + '% / ' \\\n",
    "    + str(r32['parse_quality'])+'%; ', r32['grammar_rules'], 'Link Grammar rules\\n')\n",
    "#tree = category_tree(r32['categories_file'], 'max')\n",
    "with open(r32['lg_parse_file'], 'r') as f: lines = f.read().splitlines()\n",
    "for line in lines[3:-2]: print(line)"
   ]
  },
  {
   "cell_type": "markdown",
   "metadata": {},
   "source": [
    "## 'R=6_Weight=6:R', 2 generalized rules: \n",
    "**LEFT-WALL and period added to the verbs cluster -- over-generalization?**"
   ]
  },
  {
   "cell_type": "code",
   "execution_count": 15,
   "metadata": {},
   "outputs": [],
   "source": [
    "%%capture\n",
    "dataset = 'R=6_Weight=6:R'\n",
    "kwargs['rules_generalization'] = 'jaccard'\n",
    "kwargs['left_wall'] = 'LEFT-WALL'\n",
    "kwargs['period'] = True\n",
    "r33 = run_learn_grammar(corpus, dataset, module_path, out_dir, **kwargs)"
   ]
  },
  {
   "cell_type": "code",
   "execution_count": 16,
   "metadata": {},
   "outputs": [
    {
     "name": "stdout",
     "output_type": "stream",
     "text": [
      "Parse-ability / parse-quality =  100% / 100%;  2 Link Grammar rules\n",
      "\n",
      "tuna isa fish.\n",
      "\n",
      "    +-C02C01+C01C02+C02C01+C01C02+\n",
      "    |       |      |      |      |\n",
      "LEFT-WALL tuna    isa   fish     .\n",
      "\n",
      "herring isa fish.\n",
      "\n",
      "    +-C02C01-+C01C02+C02C01+C01C02+\n",
      "    |        |      |      |      |\n",
      "LEFT-WALL herring  isa   fish     .\n",
      "\n",
      "tuna has fin.\n",
      "\n",
      "    +-C02C01+C01C02+C02C02+C02C02+\n",
      "    |       |      |      |      |\n",
      "LEFT-WALL tuna    has    fin     .\n",
      "\n",
      "herring has fin.\n",
      "\n",
      "    +-C02C01-+C01C02+C02C02+C02C02+\n",
      "    |        |      |      |      |\n",
      "LEFT-WALL herring  has    fin     .\n",
      "\n",
      "parrot isa bird.\n",
      "\n",
      "    +-C02C01-+C01C02+C02C01+C01C02+\n",
      "    |        |      |      |      |\n",
      "LEFT-WALL parrot   isa   bird     .\n",
      "\n",
      "eagle isa bird.\n",
      "\n",
      "    +-C02C01+C01C02+C02C01+C01C02+\n",
      "    |       |      |      |      |\n",
      "LEFT-WALL eagle   isa   bird     .\n",
      "\n",
      "parrot has wing.\n",
      "\n",
      "    +-C02C01-+C01C02+C02C02+C02C02+\n",
      "    |        |      |      |      |\n",
      "LEFT-WALL parrot   has   wing     .\n",
      "\n",
      "eagle has wing.\n",
      "\n",
      "    +-C02C01+C01C02+C02C02+C02C02+\n",
      "    |       |      |      |      |\n",
      "LEFT-WALL eagle   has   wing     .\n",
      "\n",
      "fin isa extremity.\n",
      "\n",
      "    +C02C02+C02C02+C02C01+C01C02+\n",
      "    |      |      |      |      |\n",
      "LEFT-WALL fin    isa extremity  .\n",
      "\n",
      "wing isa extremity.\n",
      "\n",
      "    +-C02C02+C02C02+C02C01+C01C02+\n",
      "    |       |      |      |      |\n",
      "LEFT-WALL wing    isa extremity  .\n",
      "\n",
      "fin has scale.\n",
      "\n",
      "    +C02C02+C02C02+C02C02+C02C02+\n",
      "    |      |      |      |      |\n",
      "LEFT-WALL fin    has   scale    .\n",
      "\n",
      "wing has feather.\n",
      "\n",
      "    +-C02C02+C02C02+C02C02+C02C02+\n",
      "    |       |      |      |      |\n",
      "LEFT-WALL wing    has  feather   .\n",
      "\n"
     ]
    }
   ],
   "source": [
    "print('Parse-ability / parse-quality = ', str(r33['parse_ability']) + '% / ' \\\n",
    "    + str(r33['parse_quality'])+'%; ', r33['grammar_rules'], 'Link Grammar rules\\n')\n",
    "#tree = category_tree(r32['categories_file'], 'max')\n",
    "with open(r33['lg_parse_file'], 'r') as f: lines = f.read().splitlines()\n",
    "for line in lines[3:-2]: print(line)"
   ]
  },
  {
   "cell_type": "code",
   "execution_count": null,
   "metadata": {},
   "outputs": [],
   "source": []
  }
 ],
 "metadata": {
  "kernelspec": {
   "display_name": "Python [conda env:ull4]",
   "language": "python",
   "name": "conda-env-ull4-py"
  },
  "language_info": {
   "codemirror_mode": {
    "name": "ipython",
    "version": 3
   },
   "file_extension": ".py",
   "mimetype": "text/x-python",
   "name": "python",
   "nbconvert_exporter": "python",
   "pygments_lexer": "ipython3",
   "version": "3.6.4"
  },
  "toc": {
   "base_numbering": 1,
   "nav_menu": {},
   "number_sections": true,
   "sideBar": true,
   "skip_h1_title": false,
   "title_cell": "Table of Contents",
   "title_sidebar": "Contents",
   "toc_cell": false,
   "toc_position": {},
   "toc_section_display": true,
   "toc_window_display": false
  }
 },
 "nbformat": 4,
 "nbformat_minor": 2
}
