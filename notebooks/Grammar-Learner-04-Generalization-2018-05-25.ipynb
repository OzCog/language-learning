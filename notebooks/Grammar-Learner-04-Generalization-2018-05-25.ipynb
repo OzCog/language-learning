{
 "cells": [
  {
   "cell_type": "markdown",
   "metadata": {},
   "source": [
    "# Grammar Learner 0.4: generalization `2018-05-25`\n",
    "\n",
    "**New features**: \n",
    "- categories generalization for disjunct-based sparse word space using Jaccard index as similarity measure,  \n",
    "- link grammar rules generalizations for disjunct-based rules using Jaccard index as  similarity measure,\n",
    "- updated Grammar Learner parameters with ```**kwargs```  \n",
    "- categories saved as cat_tree.txt\n",
    "- parse_ability and parse_quality metrics\n",
    "\n",
    "Static html of this notebook is shared via  \n",
    "[http://88.99.210.144/data/clustering_2018/html/Grammar-Learner-04-Generalization.html](http://88.99.210.144/data/clustering_2018/html/Grammar-Learner-04-Generalization.html)  \n",
    "Data: [http://88.99.210.144/data/clustering_2018/Grammar-Learner-04-Generalization/](http://88.99.210.144/data/clustering_2018/Grammar-Learner-04-Generalization/)"
   ]
  },
  {
   "cell_type": "markdown",
   "metadata": {},
   "source": [
    "## Basic settings"
   ]
  },
  {
   "cell_type": "code",
   "execution_count": 1,
   "metadata": {},
   "outputs": [
    {
     "name": "stdout",
     "output_type": "stream",
     "text": [
      "2018-05-25 18:30:19 UTC :: module_path = /home/oleg/language-learning\n"
     ]
    }
   ],
   "source": [
    "import os, sys, time\n",
    "import numpy as np\n",
    "import pandas as pd\n",
    "import matplotlib.pyplot as plt\n",
    "%matplotlib inline\n",
    "from IPython.display import display\n",
    "module_path = os.path.abspath(os.path.join('..'))\n",
    "if module_path not in sys.path: sys.path.append(module_path)\n",
    "src_path = module_path + '/src'\n",
    "if os.path.exists(src_path) and src_path not in sys.path: sys.path.append(src_path)\n",
    "lg_path = '/home/oleg/miniconda3/envs/ull4/lib/python3.6/site-packages/linkgrammar'\n",
    "if os.path.exists(lg_path) and lg_path not in sys.path: sys.path.append(lg_path)\n",
    "from src.utl.utl import UTC\n",
    "from src.utl.read_files import check_dir\n",
    "from src.utl.turtle import html_table\n",
    "from src.grammar_learner.poc04 import learn_grammar, params, parse_metrics, run_learn_grammar\n",
    "prefix = '' # unused option\n",
    "tmpath = module_path + '/tmp/'\n",
    "check_dir(tmpath, True, 'none')\n",
    "print(UTC(), ':: module_path =', module_path)"
   ]
  },
  {
   "cell_type": "markdown",
   "metadata": {},
   "source": [
    "## Grammar Learner parameters"
   ]
  },
  {
   "cell_type": "code",
   "execution_count": 2,
   "metadata": {},
   "outputs": [],
   "source": [
    "# New Grammar Learner parameters: input_parses, output_categories, output_grammar, **kwargs\n",
    "kwargs = {\n",
    "    'parse_mode'    :   'given'     ,   # 'given' (default) / 'explosive' (next)\n",
    "    'left_wall'     :   'LEFT-WALL' ,   # '','none' - don't use / 'LEFT-WALL' - replace ###LEFT-WALL###\n",
    "    'period'        :   True        ,   # use period in links learning: True/False\n",
    "    'context'       :   2           ,   # 1: connectors / 2,3...: disjuncts\n",
    "    'window'        :   'mst'       ,   # 'mst' / reserved options for «explosive» parsing\n",
    "    'weighting'     :   'ppmi'      ,   # 'ppmi' / future options\n",
    "    'group'         :   True        ,   # group items after link parsing\n",
    "    'distance'      :   False       ,   # reserved options for «explosive» parsing\n",
    "    'word_space'    :   'discrete'  ,   # 'vectors' / 'discrete' - no dimensionality reduction\n",
    "    'dim_max'       :   100         ,   # max vector space dimensionality\n",
    "    'sv_min'        :   0.1         ,   # minimal singular value (fraction of the max value)\n",
    "    'dim_reduction' :   'none'      ,   # 'svm' / 'none' (discrete word_space, group)\n",
    "    'clustering'    :   'group'     ,   # 'kmeans' / 'group'~'identical_entries' / future options\n",
    "    'cluster_range' :   (2,48,1)    ,   # min, max, step\n",
    "    'cluster_criteria': 'silhouette',   #\n",
    "    'cluster_level' :   0.9         ,   # level = 0, 1, 0.-0.99..: 0 - max number of clusters\n",
    "    'categories_generalization': 'off', # 'off' / 'cosine' - cosine similarity, 'jaccard'\n",
    "    'categories_merge': 0.8         ,   # merge categories with similarity > this 'merge' criteria\n",
    "    'categories_aggregation': 0.3   ,   # aggregate categories with similarity > this criteria\n",
    "    'grammar_rules' :   2           ,   # 1: 'connectors' / 2 - 'disjuncts' / 0 - 'words' (TODO?)\n",
    "    'rules_generalization': 'off'   ,   # 'off' / 'cosine' - cosine similarity, 'jaccard'\n",
    "    'rules_merge'   :   0.8         ,   # merge rules with similarity > this 'merge' criteria\n",
    "    'rules_aggregation':   0.3      ,   # aggregate rules similarity > this criteria\n",
    "    'tmpath'        :   module_path + '/tmp/',\n",
    "    'verbose': 'min', # display intermediate results: 'none', 'min', 'mid', 'max'\n",
    "    # Additional (optional) parameters for parse_metrics (_abiity & _quality):\n",
    "    'test_corpus'   :   module_path + '/data/POC-Turtle/poc-turtle-corpus.txt',\n",
    "    'reference_path':   module_path + '/data/POC-Turtle/poc-turtle-parses-expected.txt',\n",
    "    'template_path' : 'poc-turtle',\n",
    "    'linkage_limit' : 1\n",
    "}"
   ]
  },
  {
   "cell_type": "markdown",
   "metadata": {},
   "source": [
    "# Integration test: POC-Turtle "
   ]
  },
  {
   "cell_type": "markdown",
   "metadata": {},
   "source": [
    "## Baseline: MST_fixed disjuncts-ILE-disjuncts, no generalization"
   ]
  },
  {
   "cell_type": "code",
   "execution_count": 3,
   "metadata": {},
   "outputs": [],
   "source": [
    "%%capture\n",
    "corpus = 'POC-Turtle'\n",
    "dataset = 'MST_fixed_manually'\n",
    "out_dir = module_path + '/output/Grammar-Learner-04-' + str(UTC())[:10]\n",
    "kwargs['categories_generalization'] = ''\n",
    "kwargs['rules_generalization'] = ''\n",
    "input_parses, output_categories, output_grammar = \\\n",
    "    params(corpus, dataset, module_path, out_dir, **kwargs)\n",
    "response = learn_grammar(input_parses, output_categories, output_grammar, **kwargs)\n",
    "pa, pq, lg_parse_path = parse_metrics(response['grammar_file'], **kwargs)"
   ]
  },
  {
   "cell_type": "code",
   "execution_count": 4,
   "metadata": {},
   "outputs": [
    {
     "name": "stdout",
     "output_type": "stream",
     "text": [
      "Parse ability (PA), parse quality(PQ), PA*PQ: 100%, 100%, 100%;\n",
      "Category tree \"cat_tree.txt\" file:\n"
     ]
    },
    {
     "data": {
      "text/html": [
       "<table><tr><td>C01</td><td>0</td><td>1</td><td>0.0</td><td>.</td><td>0</td></tr><tr><td>C02</td><td>0</td><td>2</td><td>0.0</td><td>LEFT-WALL</td><td>0</td></tr><tr><td>C03</td><td>0</td><td>3</td><td>0.0</td><td>bird extremity fish</td><td>0 0 0</td></tr><tr><td>C04</td><td>0</td><td>4</td><td>0.0</td><td>eagle herring parrot tuna</td><td>0 0 0 0</td></tr><tr><td>C05</td><td>0</td><td>5</td><td>0.0</td><td>feather scale</td><td>0 0</td></tr><tr><td>C06</td><td>0</td><td>6</td><td>0.0</td><td>fin wing</td><td>0 0</td></tr><tr><td>C07</td><td>0</td><td>7</td><td>0.0</td><td>has</td><td>0</td></tr><tr><td>C08</td><td>0</td><td>8</td><td>0.0</td><td>isa</td><td>0</td></tr></table>"
      ],
      "text/plain": [
       "<IPython.core.display.HTML object>"
      ]
     },
     "metadata": {},
     "output_type": "display_data"
    }
   ],
   "source": [
    "print('Parse ability (PA), parse quality(PQ), PA*PQ:', \\\n",
    "      str(pa)+'%, '+str(pq)+'%, '+str(int(round(pa*pq/100,0)))+'%;')\n",
    "print('Category tree \"cat_tree.txt\" file:')\n",
    "with open(response['tree_file'],'r') as f: x = f.read().splitlines()\n",
    "display(html_table([y.split('\\t') for y in x]))"
   ]
  },
  {
   "cell_type": "code",
   "execution_count": 5,
   "metadata": {},
   "outputs": [
    {
     "data": {
      "text/html": [
       "<table><tr><td>datime</td><td>2018-05-25 18:30:19 UTC</td></tr><tr><td>learn_grammar</td><td>80511</td></tr><tr><td>input files</td><td>['/home/oleg/language-learning/data/POC-Turtle/MST_fixed_manually/poc-turtle-parses-expected.txt']</td></tr><tr><td>parsed_links</td><td>60</td></tr><tr><td>unique_links</td><td>29</td></tr><tr><td>unique_words</td><td>15</td></tr><tr><td>word-link_pairs</td><td>44</td></tr><tr><td>category_learner</td><td>80525</td></tr><tr><td>categories_file</td><td>/home/oleg/language-learning/output/Grammar-Learner-04-2018-05-25/POC-Turtle/MST_fixed_manually/disjuncts-ILE-disjuncts/LEFT-WALL_period/no_generalization/8_categories.txt</td></tr><tr><td>rule_list</td><td>8</td></tr><tr><td>tree_file</td><td>/home/oleg/language-learning/output/Grammar-Learner-04-2018-05-25/POC-Turtle/MST_fixed_manually/disjuncts-ILE-disjuncts/LEFT-WALL_period/no_generalization/cat_tree.txt</td></tr><tr><td>grammar_file</td><td>/home/oleg/language-learning/output/Grammar-Learner-04-2018-05-25/POC-Turtle/MST_fixed_manually/disjuncts-ILE-disjuncts/LEFT-WALL_period/no_generalization/poc-turtle_8C_2018-05-25_0004.4.0.dict</td></tr><tr><td>grammar_clusters</td><td>8</td></tr><tr><td>grammar_rules</td><td>8</td></tr></table>"
      ],
      "text/plain": [
       "<IPython.core.display.HTML object>"
      ]
     },
     "metadata": {},
     "output_type": "display_data"
    }
   ],
   "source": [
    "display(html_table([[k,v] for k,v in response.items()]))"
   ]
  },
  {
   "cell_type": "markdown",
   "metadata": {},
   "source": [
    "## Generalization of word categories"
   ]
  },
  {
   "cell_type": "code",
   "execution_count": 6,
   "metadata": {},
   "outputs": [],
   "source": [
    "%%capture\n",
    "kwargs['categories_generalization'] = 'jaccard'\n",
    "kwargs['rules_generalization'] = ''\n",
    "# All-in-one test function - /src/grammar_learner/poc04.py:\n",
    "re22 = run_learn_grammar(corpus, dataset, module_path, out_dir, **kwargs)"
   ]
  },
  {
   "cell_type": "code",
   "execution_count": 7,
   "metadata": {},
   "outputs": [
    {
     "name": "stdout",
     "output_type": "stream",
     "text": [
      "Parse ability (PA), parse quality(PQ), PA*PQ: 100%, 100%, 100%;\n",
      "Category tree \"cat_tree.txt\" file:\n"
     ]
    },
    {
     "data": {
      "text/html": [
       "<table><tr><td>C01</td><td>0</td><td>1</td><td>0.0</td><td>.</td><td>0</td></tr><tr><td>C02</td><td>0</td><td>2</td><td>0.0</td><td>LEFT-WALL</td><td>0</td></tr><tr><td>C03</td><td>0</td><td>3</td><td>0.0</td><td>bird extremity fish</td><td>0 0 0</td></tr><tr><td>C04</td><td>0</td><td>9</td><td>0.0</td><td>eagle herring parrot tuna feather scale fin wing</td><td>0 0 0 0 0 0 0 0</td></tr><tr><td></td><td>9</td><td>4</td><td>0.0</td><td>eagle herring parrot tuna</td><td>0 0 0 0</td></tr><tr><td></td><td>9</td><td>5</td><td>0.0</td><td>feather scale</td><td>0 0</td></tr><tr><td></td><td>9</td><td>6</td><td>0.0</td><td>fin wing</td><td>0 0</td></tr><tr><td>C05</td><td>0</td><td>7</td><td>0.0</td><td>has</td><td>0</td></tr><tr><td>C06</td><td>0</td><td>8</td><td>0.0</td><td>isa</td><td>0</td></tr></table>"
      ],
      "text/plain": [
       "<IPython.core.display.HTML object>"
      ]
     },
     "metadata": {},
     "output_type": "display_data"
    }
   ],
   "source": [
    "def display_tree(response):\n",
    "    print('Parse ability (PA), parse quality(PQ), PA*PQ:', \\\n",
    "          str(response['parse_ability']) + '%, ' + \\\n",
    "          str(response['parse_quality']) + '%, ' + \\\n",
    "          str(response['parse_quability']) + '%;')\n",
    "    print('Category tree \"cat_tree.txt\" file:')\n",
    "    with open(response['tree_file'],'r') as f: x = f.read().splitlines()\n",
    "    display(html_table([y.split('\\t') for y in x]))\n",
    "display_tree(re22)"
   ]
  },
  {
   "cell_type": "markdown",
   "metadata": {},
   "source": [
    "_Primary clusters 4,5,6 aggregated to a new cluster 9 (C04)_"
   ]
  },
  {
   "cell_type": "markdown",
   "metadata": {},
   "source": [
    "## 2-step generalization"
   ]
  },
  {
   "cell_type": "code",
   "execution_count": 8,
   "metadata": {},
   "outputs": [],
   "source": [
    "%%capture\n",
    "kwargs['categories_generalization'] = 'jaccard'\n",
    "kwargs['categories_aggregation'] = 0.6\n",
    "kwargs['rules_generalization'] = 'jaccard'\n",
    "kwargs['rules_aggregation'] = 0.3\n",
    "re23 = run_learn_grammar(corpus, dataset, module_path, out_dir, **kwargs)"
   ]
  },
  {
   "cell_type": "code",
   "execution_count": 9,
   "metadata": {},
   "outputs": [
    {
     "name": "stdout",
     "output_type": "stream",
     "text": [
      "Parse ability (PA), parse quality(PQ), PA*PQ: 100%, 100%, 100%;\n",
      "Category tree \"cat_tree.txt\" file:\n"
     ]
    },
    {
     "data": {
      "text/html": [
       "<table><tr><td>C01</td><td>0</td><td>1</td><td>0.0</td><td>.</td><td>0</td></tr><tr><td>C02</td><td>0</td><td>2</td><td>0.0</td><td>LEFT-WALL</td><td>0</td></tr><tr><td>C03</td><td>0</td><td>3</td><td>0.0</td><td>bird extremity fish</td><td>0 0 0</td></tr><tr><td>C04</td><td>0</td><td>8</td><td>0.0</td><td>eagle fin herring parrot tuna wing feather scale</td><td>0 0 0 0 0 0 0 0</td></tr><tr><td></td><td>8</td><td>4</td><td>0.0</td><td>eagle fin herring parrot tuna wing</td><td>0 0 0 0 0 0</td></tr><tr><td></td><td>8</td><td>5</td><td>0.0</td><td>feather scale</td><td>0 0</td></tr><tr><td>C05</td><td>0</td><td>6</td><td>0.0</td><td>has</td><td>0</td></tr><tr><td>C06</td><td>0</td><td>7</td><td>0.0</td><td>isa</td><td>0</td></tr></table>"
      ],
      "text/plain": [
       "<IPython.core.display.HTML object>"
      ]
     },
     "metadata": {},
     "output_type": "display_data"
    }
   ],
   "source": [
    "display_tree(re23)"
   ]
  },
  {
   "cell_type": "markdown",
   "metadata": {},
   "source": [
    "_Secondary clusters 4,5 aggregated to a new cluster 8 (C04) during rule generalization.  \n",
    "Secondary cluster 4 was formed from 2 category clusters during category generalization.  \n",
    "Cluster hierarchy not preserved :(_"
   ]
  },
  {
   "cell_type": "markdown",
   "metadata": {},
   "source": [
    "## Connectors-DRK-disjuncts, Generalize rules"
   ]
  },
  {
   "cell_type": "code",
   "execution_count": 10,
   "metadata": {},
   "outputs": [],
   "source": [
    "%%capture\n",
    "kwargs['left_wall'] = ''\n",
    "kwargs['period'] = False\n",
    "kwargs['context'] = 1\n",
    "kwargs['word_space'] = 'vectors'\n",
    "kwargs['dim_reduction'] = 'svm'\n",
    "kwargs['clustering'] = 'kmeans'\n",
    "kwargs['categories_generalization'] = 'off'\n",
    "kwargs['rules_generalization'] = 'jaccard'\n",
    "kwargs['rules_aggregation'] = 0.3\n",
    "kwargs['verbose'] = 'mid'\n",
    "re24 = run_learn_grammar(corpus, dataset, module_path, out_dir, **kwargs)"
   ]
  },
  {
   "cell_type": "code",
   "execution_count": 11,
   "metadata": {},
   "outputs": [
    {
     "name": "stdout",
     "output_type": "stream",
     "text": [
      "Parse ability (PA), parse quality(PQ), PA*PQ: 100%, 100%, 100%;\n",
      "Category tree \"cat_tree.txt\" file:\n"
     ]
    },
    {
     "data": {
      "text/html": [
       "<table><tr><td>C01</td><td>0</td><td>1</td><td>0.0</td><td>has isa</td><td>0 0</td></tr><tr><td>C02</td><td>0</td><td>5</td><td>0.0</td><td>bird extremity fish feather fin scale wing eagle herring parrot tuna</td><td>0 0 0 0 0 0 0 0 0 0 0</td></tr><tr><td></td><td>5</td><td>2</td><td>0.0</td><td>bird extremity fish</td><td>0 0 0</td></tr><tr><td></td><td>5</td><td>3</td><td>0.0</td><td>feather fin scale wing</td><td>0 0 0 0</td></tr><tr><td></td><td>5</td><td>4</td><td>0.0</td><td>eagle herring parrot tuna</td><td>0 0 0 0</td></tr></table>"
      ],
      "text/plain": [
       "<IPython.core.display.HTML object>"
      ]
     },
     "metadata": {},
     "output_type": "display_data"
    }
   ],
   "source": [
    "display_tree(re24)"
   ]
  },
  {
   "cell_type": "markdown",
   "metadata": {},
   "source": [
    "# POC-English-NoAmb"
   ]
  },
  {
   "cell_type": "code",
   "execution_count": 12,
   "metadata": {},
   "outputs": [],
   "source": [
    "%%capture\n",
    "corpus = 'POC-English-NoAmb'\n",
    "kwargs['test_corpus'] = module_path + '/data/POC-English-NoAmb/poc_english_noamb_corpus.txt'\n",
    "kwargs['reference_path'] = module_path + '/data/POC-English-NoAmb/poc-english_noAmb-parses-gold.txt'\n",
    "re31 = run_learn_grammar(corpus, dataset, module_path, out_dir, **kwargs)"
   ]
  },
  {
   "cell_type": "code",
   "execution_count": 13,
   "metadata": {},
   "outputs": [
    {
     "name": "stdout",
     "output_type": "stream",
     "text": [
      "Parse ability (PA), parse quality(PQ), PA*PQ: 98%, 97%, 95%;\n",
      "Category tree \"cat_tree.txt\" file:\n"
     ]
    },
    {
     "data": {
      "text/html": [
       "<table><tr><td>C01</td><td>0</td><td>1</td><td>0.0</td><td>a is liked likes was</td><td>0 0 0 0 0</td></tr><tr><td>C02</td><td>0</td><td>7</td><td>0.0</td><td>child food human parent dad daughter mom son</td><td>0 0 0 0 0 0 0 0</td></tr><tr><td></td><td>7</td><td>2</td><td>0.0</td><td>child food human parent</td><td>0 0 0 0</td></tr><tr><td></td><td>7</td><td>5</td><td>0.0</td><td>dad daughter mom son</td><td>0 0 0 0</td></tr><tr><td>C03</td><td>0</td><td>7</td><td>0.0</td><td>now before not cake sausage</td><td>0 0 0 0 0</td></tr><tr><td></td><td>7</td><td>3</td><td>0.0</td><td>now</td><td>0</td></tr><tr><td></td><td>7</td><td>4</td><td>0.0</td><td>before not</td><td>0 0</td></tr><tr><td></td><td>7</td><td>6</td><td>0.0</td><td>cake sausage</td><td>0 0</td></tr></table>"
      ],
      "text/plain": [
       "<IPython.core.display.HTML object>"
      ]
     },
     "metadata": {},
     "output_type": "display_data"
    }
   ],
   "source": [
    "display_tree(re31)"
   ]
  },
  {
   "cell_type": "markdown",
   "metadata": {},
   "source": [
    "# POC-English-Amb"
   ]
  },
  {
   "cell_type": "code",
   "execution_count": 14,
   "metadata": {},
   "outputs": [],
   "source": [
    "%%capture\n",
    "corpus = 'POC-English-Amb'\n",
    "kwargs['test_corpus'] = module_path + '/data/POC-English-Amb/poc_english.txt'\n",
    "kwargs['reference_path'] = module_path + '/data/POC-English-Amb/poc-english_ex-parses-gold.txt'\n",
    "re41 = run_learn_grammar(corpus, dataset, module_path, out_dir, **kwargs)"
   ]
  },
  {
   "cell_type": "code",
   "execution_count": 15,
   "metadata": {},
   "outputs": [
    {
     "name": "stdout",
     "output_type": "stream",
     "text": [
      "Parse ability (PA), parse quality(PQ), PA*PQ: 37%, 33%, 12%;\n",
      "Category tree \"cat_tree.txt\" file:\n"
     ]
    },
    {
     "data": {
      "text/html": [
       "<table><tr><td>C01</td><td>0</td><td>32</td><td>0.0</td><td>dad mom daughter son</td><td>0 0 0 0</td></tr><tr><td></td><td>32</td><td>1</td><td>0.0</td><td>dad mom</td><td>0 0</td></tr><tr><td></td><td>32</td><td>2</td><td>0.0</td><td>daughter son</td><td>0 0</td></tr><tr><td>C02</td><td>0</td><td>3</td><td>0.0</td><td>cake sausage</td><td>0 0</td></tr><tr><td>C03</td><td>0</td><td>32</td><td>0.0</td><td>before not now</td><td>0 0 0</td></tr><tr><td></td><td>32</td><td>4</td><td>0.0</td><td>before not</td><td>0 0</td></tr><tr><td></td><td>32</td><td>5</td><td>0.0</td><td>now</td><td>0</td></tr><tr><td>C04</td><td>0</td><td>6</td><td>0.0</td><td>das</td><td>0</td></tr><tr><td>C05</td><td>0</td><td>7</td><td>0.0</td><td>to</td><td>0</td></tr><tr><td>C06</td><td>0</td><td>32</td><td>0.0</td><td>child food human parent tool</td><td>0 0 0 0 0</td></tr><tr><td></td><td>32</td><td>8</td><td>0.0</td><td>child food human parent</td><td>0 0 0 0</td></tr><tr><td></td><td>32</td><td>16</td><td>0.0</td><td>tool</td><td>0</td></tr><tr><td>C07</td><td>0</td><td>9</td><td>0.0</td><td>binoculars hammer telescope</td><td>0 0 0</td></tr><tr><td>C08</td><td>0</td><td>10</td><td>0.0</td><td>be</td><td>0</td></tr><tr><td>C09</td><td>0</td><td>11</td><td>0.0</td><td>with</td><td>0</td></tr><tr><td>C10</td><td>0</td><td>12</td><td>0.0</td><td>a</td><td>0</td></tr><tr><td>C11</td><td>0</td><td>13</td><td>0.0</td><td>saw sees</td><td>0 0</td></tr><tr><td>C12</td><td>0</td><td>14</td><td>0.0</td><td>has</td><td>0</td></tr><tr><td>C13</td><td>0</td><td>15</td><td>0.0</td><td>knocked sawed</td><td>0 0</td></tr><tr><td>C14</td><td>0</td><td>17</td><td>0.0</td><td>writes</td><td>0</td></tr><tr><td>C15</td><td>0</td><td>18</td><td>0.0</td><td>wants</td><td>0</td></tr><tr><td>C16</td><td>0</td><td>19</td><td>0.0</td><td>is</td><td>0</td></tr><tr><td>C17</td><td>0</td><td>20</td><td>0.0</td><td>was</td><td>0</td></tr><tr><td>C18</td><td>0</td><td>21</td><td>0.0</td><td>liked likes</td><td>0 0</td></tr><tr><td>C19</td><td>0</td><td>22</td><td>0.0</td><td>chalk</td><td>0</td></tr><tr><td>C20</td><td>0</td><td>23</td><td>0.0</td><td>on</td><td>0</td></tr><tr><td>C21</td><td>0</td><td>32</td><td>0.0</td><td>her his</td><td>0 0</td></tr><tr><td></td><td>32</td><td>24</td><td>0.0</td><td>her</td><td>0</td></tr><tr><td></td><td>32</td><td>25</td><td>0.0</td><td>his</td><td>0</td></tr><tr><td>C22</td><td>0</td><td>26</td><td>0.0</td><td>wood</td><td>0</td></tr><tr><td>C23</td><td>0</td><td>27</td><td>0.0</td><td>are</td><td>0</td></tr><tr><td>C24</td><td>0</td><td>28</td><td>0.0</td><td>the</td><td>0</td></tr><tr><td>C25</td><td>0</td><td>29</td><td>0.0</td><td>board</td><td>0</td></tr><tr><td>C26</td><td>0</td><td>30</td><td>0.0</td><td>of</td><td>0</td></tr><tr><td>C27</td><td>0</td><td>31</td><td>0.0</td><td>directors</td><td>0</td></tr></table>"
      ],
      "text/plain": [
       "<IPython.core.display.HTML object>"
      ]
     },
     "metadata": {},
     "output_type": "display_data"
    }
   ],
   "source": [
    "display_tree(re41)"
   ]
  },
  {
   "cell_type": "code",
   "execution_count": null,
   "metadata": {},
   "outputs": [],
   "source": []
  }
 ],
 "metadata": {
  "kernelspec": {
   "display_name": "Python [conda env:ull4]",
   "language": "python",
   "name": "conda-env-ull4-py"
  },
  "language_info": {
   "codemirror_mode": {
    "name": "ipython",
    "version": 3
   },
   "file_extension": ".py",
   "mimetype": "text/x-python",
   "name": "python",
   "nbconvert_exporter": "python",
   "pygments_lexer": "ipython3",
   "version": "3.6.4"
  },
  "toc": {
   "base_numbering": 1,
   "nav_menu": {},
   "number_sections": true,
   "sideBar": true,
   "skip_h1_title": false,
   "title_cell": "Table of Contents",
   "title_sidebar": "Contents",
   "toc_cell": false,
   "toc_position": {},
   "toc_section_display": true,
   "toc_window_display": false
  }
 },
 "nbformat": 4,
 "nbformat_minor": 2
}
