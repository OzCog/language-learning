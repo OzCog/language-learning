{
 "cells": [
  {
   "cell_type": "markdown",
   "metadata": {},
   "source": [
    "# POC-English-Amb Tests `2016-05-23`\n",
    "static html: [http://88.99.210.144/data/clustering_2018/html/POC-English-Amb-2018-05-23.html](http://88.99.210.144/data/clustering_2018/html/POC-English-Amb-2018-05-23.html)  \n",
    "data: [http://88.99.210.144/data/clustering_2018/POC-English-Amb-2018-05-23/](http://88.99.210.144/data/clustering_2018/POC-English-Amb-2018-05-23/)"
   ]
  },
  {
   "cell_type": "markdown",
   "metadata": {},
   "source": [
    "## Basic settings"
   ]
  },
  {
   "cell_type": "code",
   "execution_count": 1,
   "metadata": {},
   "outputs": [
    {
     "name": "stdout",
     "output_type": "stream",
     "text": [
      "2018-05-23 15:01:20 UTC :: module_path = /home/oleg/language-learning\n"
     ]
    }
   ],
   "source": [
    "import os, sys, time\n",
    "import numpy as np\n",
    "import pandas as pd\n",
    "import matplotlib.pyplot as plt\n",
    "%matplotlib inline\n",
    "from IPython.display import display\n",
    "module_path = os.path.abspath(os.path.join('..'))\n",
    "if module_path not in sys.path: sys.path.append(module_path)\n",
    "src_path = module_path + '/src'\n",
    "if os.path.exists(src_path) and src_path not in sys.path: sys.path.append(src_path)\n",
    "lg_path = '/home/oleg/miniconda3/envs/ull4/lib/python3.6/site-packages/linkgrammar'\n",
    "if os.path.exists(lg_path) and lg_path not in sys.path: sys.path.append(lg_path)\n",
    "from src.utl.utl import UTC\n",
    "from src.utl.read_files import check_dir\n",
    "from src.utl.turtle import html_table\n",
    "from src.grammar_learner.poc04 import learn_grammar, params, run_learn_grammar\n",
    "prefix = ''\n",
    "tmpath = module_path + '/tmp/'\n",
    "check_dir(tmpath, True, 'none')\n",
    "print(UTC(), ':: module_path =', module_path)"
   ]
  },
  {
   "cell_type": "markdown",
   "metadata": {},
   "source": [
    "## Grammar Learner parameters"
   ]
  },
  {
   "cell_type": "code",
   "execution_count": 2,
   "metadata": {},
   "outputs": [],
   "source": [
    "out_dir = module_path + '/output/POC-English-Amb-' + str(UTC())[:10]\n",
    "corpus = 'POC-English-Amb'\n",
    "dataset = 'MST_fixed_manually'\n",
    "kwargs = {\n",
    "    'left_wall'     :   'LEFT-WALL' ,\n",
    "    'period'        :   True        ,\n",
    "    'context'       :   2           ,\n",
    "    'word_space'    :   'discrete'  ,\n",
    "    'clustering'    :   'group'     ,\n",
    "    'grammar_rules' :   2           ,\n",
    "    'verbose'       :   'min'       ,\n",
    "    'tmpath'        :   tmpath      , \n",
    "    'categories_generalization': 'off',\n",
    "    'rules_generalization': 'off',\n",
    "    'test_corpus'   : module_path + '/data/POC-English-Amb/poc_english.txt',\n",
    "    'reference_path': module_path + '/data/POC-English-Amb/poc-english_ex-parses-gold.txt',\n",
    "    'template_path' : 'poc-turtle', \n",
    "    'linkage_limit' : 1 }"
   ]
  },
  {
   "cell_type": "markdown",
   "metadata": {},
   "source": [
    "## Integration test"
   ]
  },
  {
   "cell_type": "code",
   "execution_count": 3,
   "metadata": {},
   "outputs": [],
   "source": [
    "%%capture\n",
    "response = run_learn_grammar(corpus, dataset, module_path, out_dir, **kwargs)"
   ]
  },
  {
   "cell_type": "code",
   "execution_count": 4,
   "metadata": {},
   "outputs": [
    {
     "name": "stdout",
     "output_type": "stream",
     "text": [
      "Parse-ability / parse-quality =  4% / 3%;  40 Link Grammar rules\n"
     ]
    }
   ],
   "source": [
    "print('Parse-ability / parse-quality = ', str(response['parse_ability']) + '% / ' \\\n",
    "    + str(response['parse_quality'])+'%; ', response['grammar_rules'], 'Link Grammar rules')"
   ]
  },
  {
   "cell_type": "markdown",
   "metadata": {},
   "source": [
    "# POC-English-Amb, no generalization, 3 datasets\n",
    "ULL Project Plan ⇒ Parses ⇒ lines 14-19"
   ]
  },
  {
   "cell_type": "markdown",
   "metadata": {},
   "source": [
    "## Connectors-DRK-Connectors"
   ]
  },
  {
   "cell_type": "code",
   "execution_count": 5,
   "metadata": {},
   "outputs": [],
   "source": [
    "%%capture\n",
    "kwargs['context'] = 1\n",
    "kwargs['word_space'] = 'vectors'\n",
    "kwargs['clustering'] = 'kmeans'\n",
    "kwargs['grammar_rules'] = 1\n",
    "def run_test(**kwargs):\n",
    "    spaces = ''\n",
    "    if kwargs['context'] == 1: \n",
    "        spaces += 'c'\n",
    "    else: spaces += 'd'\n",
    "    if kwargs['word_space'] == 'vectors': \n",
    "        spaces += 'DRK'\n",
    "    else: spaces += 'ILE'\n",
    "    if kwargs['grammar_rules'] == 1: \n",
    "        spaces += 'c'\n",
    "    else: spaces += 'd'\n",
    "    lst = []\n",
    "    for dataset in ['MST_fixed_manually', 'LG_English', 'R=6_Weight=6:R_mst-weight=1:R']:\n",
    "        for kwargs['left_wall'] in ['LEFT-WALL', '']:\n",
    "            if kwargs['left_wall'] == 'LEFT-WALL': \n",
    "                lw = 'LW'\n",
    "                kwargs['period'] = True\n",
    "                dot = ' + '\n",
    "            else: \n",
    "                lw = ' -- '\n",
    "                dot = ' -- '\n",
    "                kwargs['period'] = False\n",
    "            if True:\n",
    "                for g in [('','')]: #, ('jaccard','')]:\n",
    "                    kwargs['rules_generalization'] = g[0]\n",
    "                    kwargs['categories_generalization'] = g[1]\n",
    "                    if g[0] == '' and g[1] == '': gen = 'none'\n",
    "                    elif g[0] == 'jaccard' and g[1] == '': gen = 'rules'\n",
    "                    elif g[0] == '' and g[1] == 'jaccard': gen = 'categories'\n",
    "                    else: gen = 'both'\n",
    "                    r = run_learn_grammar(corpus, dataset, module_path, out_dir, **kwargs)\n",
    "                    line = [corpus, dataset, lw, dot, gen, spaces, r['grammar_rules'], \\\n",
    "                            str(r['parse_ability'])+'%', str(r['parse_quality'])+'%']\n",
    "                    lst.append(line)\n",
    "    return lst\n",
    "eng_amb1 = run_test(**kwargs)"
   ]
  },
  {
   "cell_type": "code",
   "execution_count": 6,
   "metadata": {},
   "outputs": [
    {
     "data": {
      "text/html": [
       "<table><tr><td>Corpus</td><td>Parsing</td><td>LW</td><td>\".\"</td><td>Generalization</td><td>Space</td><td>Rules</td><td>PA</td><td>PQ</td></tr><tr><td>POC-English-Amb</td><td>MST_fixed_manually</td><td>LW</td><td> + </td><td>none</td><td>cDRKc</td><td>30</td><td>67%</td><td>36%</td></tr><tr><td>POC-English-Amb</td><td>MST_fixed_manually</td><td> -- </td><td> -- </td><td>none</td><td>cDRKc</td><td>31</td><td>71%</td><td>63%</td></tr><tr><td>POC-English-Amb</td><td>LG_English</td><td>LW</td><td> + </td><td>none</td><td>cDRKc</td><td>29</td><td>76%</td><td>36%</td></tr><tr><td>POC-English-Amb</td><td>LG_English</td><td> -- </td><td> -- </td><td>none</td><td>cDRKc</td><td>32</td><td>79%</td><td>64%</td></tr><tr><td>POC-English-Amb</td><td>R=6_Weight=6:R_mst-weight=1:R</td><td>LW</td><td> + </td><td>none</td><td>cDRKc</td><td>32</td><td>85%</td><td>51%</td></tr><tr><td>POC-English-Amb</td><td>R=6_Weight=6:R_mst-weight=1:R</td><td> -- </td><td> -- </td><td>none</td><td>cDRKc</td><td>28</td><td>81%</td><td>48%</td></tr></table>"
      ],
      "text/plain": [
       "<IPython.core.display.HTML object>"
      ]
     },
     "metadata": {},
     "output_type": "display_data"
    }
   ],
   "source": [
    "header = ['Corpus','Parsing','LW','\".\"','Generalization','Space','Rules','PA','PQ']\n",
    "display(html_table([header]+eng_amb1))"
   ]
  },
  {
   "cell_type": "markdown",
   "metadata": {},
   "source": [
    "## Connectors-DRK-Disjuncts"
   ]
  },
  {
   "cell_type": "code",
   "execution_count": 7,
   "metadata": {},
   "outputs": [],
   "source": [
    "%%capture\n",
    "kwargs['context'] = 1\n",
    "kwargs['word_space'] = 'vectors'\n",
    "kwargs['clustering'] = 'kmeans'\n",
    "kwargs['grammar_rules'] = 2\n",
    "eng_amb2 = run_test(**kwargs)"
   ]
  },
  {
   "cell_type": "code",
   "execution_count": 8,
   "metadata": {},
   "outputs": [
    {
     "data": {
      "text/html": [
       "<table><tr><td>Corpus</td><td>Parsing</td><td>LW</td><td>\".\"</td><td>Generalization</td><td>Space</td><td>Rules</td><td>PA</td><td>PQ</td></tr><tr><td>POC-English-Amb</td><td>MST_fixed_manually</td><td>LW</td><td> + </td><td>none</td><td>cDRKd</td><td>32</td><td>6%</td><td>5%</td></tr><tr><td>POC-English-Amb</td><td>MST_fixed_manually</td><td> -- </td><td> -- </td><td>none</td><td>cDRKd</td><td>30</td><td>53%</td><td>52%</td></tr><tr><td>POC-English-Amb</td><td>LG_English</td><td>LW</td><td> + </td><td>none</td><td>cDRKd</td><td>30</td><td>6%</td><td>5%</td></tr><tr><td>POC-English-Amb</td><td>LG_English</td><td> -- </td><td> -- </td><td>none</td><td>cDRKd</td><td>31</td><td>46%</td><td>45%</td></tr><tr><td>POC-English-Amb</td><td>R=6_Weight=6:R_mst-weight=1:R</td><td>LW</td><td> + </td><td>none</td><td>cDRKd</td><td>31</td><td>82%</td><td>47%</td></tr><tr><td>POC-English-Amb</td><td>R=6_Weight=6:R_mst-weight=1:R</td><td> -- </td><td> -- </td><td>none</td><td>cDRKd</td><td>28</td><td>73%</td><td>43%</td></tr></table>"
      ],
      "text/plain": [
       "<IPython.core.display.HTML object>"
      ]
     },
     "metadata": {},
     "output_type": "display_data"
    }
   ],
   "source": [
    "display(html_table([header]+eng_amb2))"
   ]
  },
  {
   "cell_type": "markdown",
   "metadata": {},
   "source": [
    "## Disjuncts-DRK-Disjuncts"
   ]
  },
  {
   "cell_type": "code",
   "execution_count": 9,
   "metadata": {},
   "outputs": [],
   "source": [
    "%%capture\n",
    "kwargs['context'] = 2\n",
    "kwargs['word_space'] = 'vectors'\n",
    "kwargs['clustering'] = 'kmeans'\n",
    "kwargs['grammar_rules'] = 2\n",
    "eng_amb3 = run_test(**kwargs)"
   ]
  },
  {
   "cell_type": "code",
   "execution_count": 10,
   "metadata": {},
   "outputs": [
    {
     "data": {
      "text/html": [
       "<table><tr><td>Corpus</td><td>Parsing</td><td>LW</td><td>\".\"</td><td>Generalization</td><td>Space</td><td>Rules</td><td>PA</td><td>PQ</td></tr><tr><td>POC-English-Amb</td><td>MST_fixed_manually</td><td>LW</td><td> + </td><td>none</td><td>dDRKd</td><td>18</td><td>6%</td><td>3%</td></tr><tr><td>POC-English-Amb</td><td>MST_fixed_manually</td><td> -- </td><td> -- </td><td>none</td><td>dDRKd</td><td>26</td><td>58%</td><td>53%</td></tr><tr><td>POC-English-Amb</td><td>LG_English</td><td>LW</td><td> + </td><td>none</td><td>dDRKd</td><td>4</td><td>84%</td><td>51%</td></tr><tr><td>POC-English-Amb</td><td>LG_English</td><td> -- </td><td> -- </td><td>none</td><td>dDRKd</td><td>34</td><td>44%</td><td>43%</td></tr><tr><td>POC-English-Amb</td><td>R=6_Weight=6:R_mst-weight=1:R</td><td>LW</td><td> + </td><td>none</td><td>dDRKd</td><td>6</td><td>89%</td><td>55%</td></tr><tr><td>POC-English-Amb</td><td>R=6_Weight=6:R_mst-weight=1:R</td><td> -- </td><td> -- </td><td>none</td><td>dDRKd</td><td>5</td><td>95%</td><td>61%</td></tr></table>"
      ],
      "text/plain": [
       "<IPython.core.display.HTML object>"
      ]
     },
     "metadata": {},
     "output_type": "display_data"
    }
   ],
   "source": [
    "display(html_table([header]+eng_amb3))"
   ]
  },
  {
   "cell_type": "markdown",
   "metadata": {},
   "source": [
    "## Disjuncts-ILE-Disjuncts"
   ]
  },
  {
   "cell_type": "code",
   "execution_count": 11,
   "metadata": {},
   "outputs": [],
   "source": [
    "%%capture\n",
    "kwargs['context'] = 2\n",
    "kwargs['word_space'] = 'discrete'\n",
    "kwargs['clustering'] = 'group'\n",
    "kwargs['grammar_rules'] = 2\n",
    "eng_amb3 = run_test(**kwargs)"
   ]
  },
  {
   "cell_type": "code",
   "execution_count": 12,
   "metadata": {},
   "outputs": [
    {
     "data": {
      "text/html": [
       "<table><tr><td>Corpus</td><td>Parsing</td><td>LW</td><td>\".\"</td><td>Generalization</td><td>Space</td><td>Rules</td><td>PA</td><td>PQ</td></tr><tr><td>POC-English-Amb</td><td>MST_fixed_manually</td><td>LW</td><td> + </td><td>none</td><td>dILEd</td><td>40</td><td>4%</td><td>3%</td></tr><tr><td>POC-English-Amb</td><td>MST_fixed_manually</td><td> -- </td><td> -- </td><td>none</td><td>dILEd</td><td>38</td><td>44%</td><td>43%</td></tr><tr><td>POC-English-Amb</td><td>LG_English</td><td>LW</td><td> + </td><td>none</td><td>dILEd</td><td>40</td><td>4%</td><td>3%</td></tr><tr><td>POC-English-Amb</td><td>LG_English</td><td> -- </td><td> -- </td><td>none</td><td>dILEd</td><td>38</td><td>43%</td><td>42%</td></tr><tr><td>POC-English-Amb</td><td>R=6_Weight=6:R_mst-weight=1:R</td><td>LW</td><td> + </td><td>none</td><td>dILEd</td><td>41</td><td>70%</td><td>37%</td></tr><tr><td>POC-English-Amb</td><td>R=6_Weight=6:R_mst-weight=1:R</td><td> -- </td><td> -- </td><td>none</td><td>dILEd</td><td>39</td><td>59%</td><td>36%</td></tr></table>"
      ],
      "text/plain": [
       "<IPython.core.display.HTML object>"
      ]
     },
     "metadata": {},
     "output_type": "display_data"
    }
   ],
   "source": [
    "display(html_table([header]+eng_amb3))"
   ]
  },
  {
   "cell_type": "code",
   "execution_count": 13,
   "metadata": {},
   "outputs": [
    {
     "name": "stdout",
     "output_type": "stream",
     "text": [
      "2018-05-23 15:06:49 UTC\n"
     ]
    }
   ],
   "source": [
    "print(UTC())"
   ]
  }
 ],
 "metadata": {
  "kernelspec": {
   "display_name": "Python [conda env:ull4]",
   "language": "python",
   "name": "conda-env-ull4-py"
  },
  "language_info": {
   "codemirror_mode": {
    "name": "ipython",
    "version": 3
   },
   "file_extension": ".py",
   "mimetype": "text/x-python",
   "name": "python",
   "nbconvert_exporter": "python",
   "pygments_lexer": "ipython3",
   "version": "3.6.4"
  },
  "toc": {
   "base_numbering": 1,
   "nav_menu": {},
   "number_sections": true,
   "sideBar": true,
   "skip_h1_title": false,
   "title_cell": "Table of Contents",
   "title_sidebar": "Contents",
   "toc_cell": false,
   "toc_position": {},
   "toc_section_display": true,
   "toc_window_display": false
  }
 },
 "nbformat": 4,
 "nbformat_minor": 2
}
