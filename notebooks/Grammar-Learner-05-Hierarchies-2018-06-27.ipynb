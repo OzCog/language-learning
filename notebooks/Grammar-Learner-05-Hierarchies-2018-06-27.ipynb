{
 "cells": [
  {
   "cell_type": "markdown",
   "metadata": {},
   "source": [
    "# Grammar Learner 0.5: Hierarchies `2018-06-27`\n",
    "\n",
    "**New features**:  \n",
    "- hierarchical internal data representation, unified for word clusters, word categories and link grammar rules,  \n",
    "- agglomerative word categories generalization for disjunct-based sparse word space using Jaccard index as similarity measure,  \n",
    "- link grammar rules agglomerative generalization for disjunct-based rules using Jaccard index as  similarity measure,  \n",
    "- sequental agglomerative generalization for categories and rules, building hierarchical category tree...\n",
    "- hierarchical categories saved as xx_cat_tree.txt, where xx = number of clusters.\n",
    "\n",
    "Static html of this notebook is shared via  \n",
    "[langlearn.singularitynet.io ⇒ clustering_2018  ⇒ Grammar-Learner-05-Hierarchies.html](http://langlearn.singularitynet.io/data/clustering_2018/html/Grammar-Learner-05-Hierarchies.html)  \n",
    "Data: [http://langlearn.singularitynet.io/data/clustering_2018/Grammar-Learner-05-Hierarchies/](http://http://langlearn.singularitynet.io/data/clustering_2018/Grammar-Learner-05-Hierarchies/)"
   ]
  },
  {
   "cell_type": "markdown",
   "metadata": {},
   "source": [
    "## Basic settings"
   ]
  },
  {
   "cell_type": "code",
   "execution_count": 1,
   "metadata": {},
   "outputs": [
    {
     "name": "stdout",
     "output_type": "stream",
     "text": [
      "2018-06-27 12:42:03 UTC :: module_path = /home/oleg/language-learning\n"
     ]
    }
   ],
   "source": [
    "import os, sys, time\n",
    "import numpy as np\n",
    "import pandas as pd\n",
    "import matplotlib.pyplot as plt\n",
    "%matplotlib inline\n",
    "from IPython.display import display\n",
    "module_path = os.path.abspath(os.path.join('..'))\n",
    "if module_path not in sys.path: sys.path.append(module_path)\n",
    "src_path = module_path + '/src'\n",
    "if os.path.exists(src_path) and src_path not in sys.path: sys.path.append(src_path)\n",
    "lg_path = '/home/oleg/miniconda3/envs/ull4/lib/python3.6/site-packages/linkgrammar'\n",
    "if os.path.exists(lg_path) and lg_path not in sys.path: sys.path.append(lg_path)\n",
    "from src.utl.utl import UTC\n",
    "from src.utl.read_files import check_dir\n",
    "from src.utl.widgets import html_table, display_tree\n",
    "from src.grammar_learner.poc05 import learn_grammar, params, parse_metrics, run_learn_grammar\n",
    "prefix = '' # unused option\n",
    "tmpath = module_path + '/tmp/'\n",
    "if check_dir(tmpath, True, 'none'):\n",
    "    print(UTC(), ':: module_path =', module_path)"
   ]
  },
  {
   "cell_type": "markdown",
   "metadata": {},
   "source": [
    "## Grammar Learner parameters"
   ]
  },
  {
   "cell_type": "code",
   "execution_count": 2,
   "metadata": {},
   "outputs": [
    {
     "name": "stdout",
     "output_type": "stream",
     "text": [
      "2018-06-27 12:42:03 UTC :: /home/oleg/language-learning/output/Grammar-Learner-05-2018-06-27\n"
     ]
    }
   ],
   "source": [
    "# GL.0.5 parameters: input_parses, output_categories, output_grammar, **kwargs\n",
    "kwargs = {\n",
    "    'parse_mode'    :   'given'     ,   # 'given' (default) / 'explosive' (next)\n",
    "    'left_wall'     :   'LEFT-WALL' ,   # '','none' - don't use / 'LEFT-WALL' - replace ###LEFT-WALL###\n",
    "    'period'        :   True        ,   # use period in links learning: True/False\n",
    "    'context'       :   2           ,   # 1: connectors / 2,3...: disjuncts\n",
    "    'window'        :   'mst'       ,   # 'mst' / reserved options for «explosive» parsing\n",
    "    'weighting'     :   'ppmi'      ,   # 'ppmi' / future options\n",
    "    'group'         :   True        ,   # group items after link parsing\n",
    "    'distance'      :   False       ,   # reserved options for «explosive» parsing\n",
    "    'word_space'    :   'discrete'  ,   # 'vectors' / 'discrete' - no dimensionality reduction\n",
    "    'dim_max'       :   100         ,   # max vector space dimensionality\n",
    "    'sv_min'        :   0.1         ,   # minimal singular value (fraction of the max value)\n",
    "    'dim_reduction' :   'none'      ,   # 'svm' / 'none' (discrete word_space, group)\n",
    "    'clustering'    :   'group'     ,   # 'kmeans' / 'group'~'identical_entries' / future options\n",
    "    'cluster_range' :   (2,48,1)    ,   # min, max, step\n",
    "    'cluster_criteria': 'silhouette',   #\n",
    "    'cluster_level' :   0.9         ,   # level = 0, 1, 0.-0.99..: 0 - max number of clusters\n",
    "    'categories_generalization': 'off', # 'off' / 'cosine' - cosine similarity, 'jaccard'\n",
    "    'categories_merge': 0.8         ,   # merge categories with similarity > this 'merge' criteria\n",
    "    'categories_aggregation': 0.2   ,   # aggregate categories with similarity > this criteria\n",
    "    'grammar_rules' :   2           ,   # 1: 'connectors' / 2 - 'disjuncts' / 0 - 'words' (TODO?)\n",
    "    'rules_generalization': 'off'   ,   # 'off' / 'cosine' - cosine similarity, 'jaccard'\n",
    "    'rules_merge'   :   0.8         ,   # merge rules with similarity > this 'merge' criteria\n",
    "    'rules_aggregation':   0.2      ,   # aggregate rules similarity > this criteria\n",
    "    'tmpath'        :   module_path + '/tmp/',\n",
    "    'verbose': 'min', # display intermediate results: 'none', 'min', 'mid', 'max'\n",
    "    # Additional (optional) parameters for parse_metrics (_abiity & _quality):\n",
    "    'test_corpus'   :   module_path + '/data/POC-Turtle/poc-turtle-corpus.txt',\n",
    "    'reference_path':   module_path + '/data/POC-Turtle/poc-turtle-parses-expected.txt',\n",
    "    'template_path' : 'poc-turtle',\n",
    "    'linkage_limit' : 1\n",
    "}\n",
    "out_dir = module_path + '/output/Grammar-Learner-05-' + str(UTC())[:10]\n",
    "print(UTC(), '::', out_dir)"
   ]
  },
  {
   "cell_type": "markdown",
   "metadata": {},
   "source": [
    "# Integration test: POC-Turtle "
   ]
  },
  {
   "cell_type": "markdown",
   "metadata": {},
   "source": [
    "## Baseline: MST_fixed disjuncts-ILE-disjuncts, no generalization"
   ]
  },
  {
   "cell_type": "code",
   "execution_count": 3,
   "metadata": {},
   "outputs": [],
   "source": [
    "%%capture\n",
    "corpus = 'POC-Turtle'\n",
    "dataset = 'MST_fixed_manually'\n",
    "kwargs['categories_generalization'] = ''\n",
    "kwargs['rules_generalization'] = ''\n",
    "input_parses, output_categories, output_grammar = \\\n",
    "    params(corpus, dataset, module_path, out_dir, **kwargs)\n",
    "response = learn_grammar(input_parses, output_categories, output_grammar, **kwargs)\n",
    "pa, pq, lg_parse_path = parse_metrics(response['grammar_file'], **kwargs)"
   ]
  },
  {
   "cell_type": "code",
   "execution_count": 4,
   "metadata": {},
   "outputs": [],
   "source": [
    "#print('kwargs:')\n",
    "#display(html_table([[k,v] for k,v in kwargs.items()]))"
   ]
  },
  {
   "cell_type": "code",
   "execution_count": 5,
   "metadata": {},
   "outputs": [
    {
     "name": "stdout",
     "output_type": "stream",
     "text": [
      "Parse ability (PA), parse quality(PQ), PA*PQ: 100%, 100%, 100%;\n",
      "Category tree \"cat_tree.txt\" file:\n"
     ]
    },
    {
     "data": {
      "text/html": [
       "<table><tr><td>C01</td><td>0</td><td>1</td><td>1</td><td>.</td><td>1</td></tr><tr><td>C02</td><td>0</td><td>2</td><td>1</td><td>LEFT-WALL</td><td>1</td></tr><tr><td>C03</td><td>0</td><td>3</td><td>1</td><td>bird extremity fish</td><td>1 1 1</td></tr><tr><td>C04</td><td>0</td><td>4</td><td>1</td><td>eagle herring parrot tuna</td><td>1 1 1 1</td></tr><tr><td>C05</td><td>0</td><td>5</td><td>1</td><td>feather scale</td><td>1 1</td></tr><tr><td>C06</td><td>0</td><td>6</td><td>1</td><td>fin wing</td><td>1 1</td></tr><tr><td>C07</td><td>0</td><td>7</td><td>1</td><td>has</td><td>1</td></tr><tr><td>C08</td><td>0</td><td>8</td><td>1</td><td>isa</td><td>1</td></tr></table>"
      ],
      "text/plain": [
       "<IPython.core.display.HTML object>"
      ]
     },
     "metadata": {},
     "output_type": "display_data"
    }
   ],
   "source": [
    "print('Parse ability (PA), parse quality(PQ), PA*PQ:', \\\n",
    "      str(pa)+'%, '+str(pq)+'%, '+str(int(round(pa*pq/100,0)))+'%;')\n",
    "print('Category tree \"cat_tree.txt\" file:')\n",
    "with open(response['cat_tree_file'],'r') as f: x = f.read().splitlines()\n",
    "display(html_table([y.split('\\t') for y in x]))"
   ]
  },
  {
   "cell_type": "code",
   "execution_count": 6,
   "metadata": {},
   "outputs": [
    {
     "name": "stdout",
     "output_type": "stream",
     "text": [
      "Link Grammar .dict file contents:\n",
      "% Grammar Learner v.0.5 2018-06-27 12:42:04 UTC\n",
      "<dictionary-version-number>: V0v0v5+;\n",
      "<dictionary-locale>: EN4us+;\n",
      "\n",
      "% C01\n",
      "\".\":\n",
      "(C03C01-) or (C05C01-) or (C06C01-);\n",
      "\n",
      "% C02\n",
      "\"LEFT-WALL\":\n",
      "(C02C04+) or (C02C06+);\n",
      "\n",
      "% C03\n",
      "\"bird\" \"extremity\" \"fish\":\n",
      "(C08C03- & C03C01+);\n",
      "\n",
      "% C04\n",
      "\"eagle\" \"herring\" \"parrot\" \"tuna\":\n",
      "(C02C04- & C04C07+) or (C02C04- & C04C08+);\n",
      "\n",
      "% C05\n",
      "\"feather\" \"scale\":\n",
      "(C07C05- & C05C01+);\n",
      "\n",
      "% C06\n",
      "\"fin\" \"wing\":\n",
      "(C02C06- & C06C07+) or (C02C06- & C06C08+) or (C07C06- & C06C01+);\n",
      "\n",
      "% C07\n",
      "\"has\":\n",
      "(C04C07- & C07C06+) or (C06C07- & C07C05+);\n",
      "\n",
      "% C08\n",
      "\"isa\":\n",
      "(C04C08- & C08C03+) or (C06C08- & C08C03+);\n",
      "\n",
      "UNKNOWN-WORD: XXX+;\n",
      "\n",
      "% 8 word clusters, 8 Link Grammar rules.\n",
      "% Link Grammar file saved to: /home/oleg/language-learning/output/Grammar-Learner-05-2018-06-27/POC-Turtle/MST_fixed_manually/disjuncts-ILE-disjuncts/LEFT-WALL_period/no_generalization/poc-turtle_8C_2018-06-27_0005.4.0.dict\n"
     ]
    }
   ],
   "source": [
    "print('Link Grammar .dict file contents:')\n",
    "with open(response['grammar_file'],'r') as f: \n",
    "    for line in f.read().splitlines(): print(line)"
   ]
  },
  {
   "cell_type": "code",
   "execution_count": 7,
   "metadata": {},
   "outputs": [],
   "source": [
    "#print('learn_grammar response -- project log (dict):')\n",
    "#display(html_table([[k,v] for k,v in response.items()]))"
   ]
  },
  {
   "cell_type": "markdown",
   "metadata": {},
   "source": [
    "# Generalization tests with POC-Turtle corpus"
   ]
  },
  {
   "cell_type": "markdown",
   "metadata": {},
   "source": [
    "## Generalization of word categories"
   ]
  },
  {
   "cell_type": "code",
   "execution_count": 8,
   "metadata": {},
   "outputs": [],
   "source": [
    "%%capture\n",
    "kwargs['categories_generalization'] = 'jaccard'\n",
    "kwargs['rules_generalization'] = ''\n",
    "# All-in-one test function - /src/grammar_learner/poc05.py:\n",
    "re31 = run_learn_grammar(corpus, dataset, module_path, out_dir, **kwargs)"
   ]
  },
  {
   "cell_type": "code",
   "execution_count": 9,
   "metadata": {},
   "outputs": [
    {
     "name": "stdout",
     "output_type": "stream",
     "text": [
      "Parse ability (PA), parse quality(PQ), PA*PQ: 100%, 100%, 100%;\n",
      "Category tree \"cat_tree.txt\" file:\n"
     ]
    },
    {
     "data": {
      "text/html": [
       "<table><tr><td>C1</td><td>0</td><td>1</td><td>0.32</td><td>eagle feather fin herring parrot scale tuna wing</td><td>0 0 0 0 0 0 0 0</td></tr><tr><td>C2</td><td>0</td><td>2</td><td>1</td><td>bird extremity fish</td><td>1 1 1</td></tr><tr><td>C3</td><td>0</td><td>3</td><td>1</td><td>.</td><td>1</td></tr><tr><td>C4</td><td>0</td><td>4</td><td>1</td><td>LEFT-WALL</td><td>1</td></tr><tr><td>C5</td><td>0</td><td>5</td><td>1</td><td>has</td><td>1</td></tr><tr><td>C6</td><td>0</td><td>6</td><td>1</td><td>isa</td><td>1</td></tr><tr><td></td><td>1</td><td>7</td><td>0.66</td><td>eagle fin herring parrot tuna wing</td><td>0 0 0 0 0 0</td></tr><tr><td></td><td>7</td><td>8</td><td>1</td><td>eagle herring parrot tuna</td><td>1 1 1 1</td></tr><tr><td></td><td>7</td><td>9</td><td>1</td><td>fin wing</td><td>1 1</td></tr><tr><td></td><td>1</td><td>10</td><td>1</td><td>feather scale</td><td>1 1</td></tr></table>"
      ],
      "text/plain": [
       "<IPython.core.display.HTML object>"
      ]
     },
     "metadata": {},
     "output_type": "display_data"
    }
   ],
   "source": [
    "display_tree(re31)"
   ]
  },
  {
   "cell_type": "markdown",
   "metadata": {},
   "source": [
    "_Primary clusters 8,9 aggregated to a new cluster 7, \n",
    "then clusters 7 and 10 aggregated to a new cluster 10 \n",
    "(clusters renumbered after agglomeration)_"
   ]
  },
  {
   "cell_type": "markdown",
   "metadata": {},
   "source": [
    "## Generalization of grammar rules"
   ]
  },
  {
   "cell_type": "code",
   "execution_count": 10,
   "metadata": {},
   "outputs": [],
   "source": [
    "%%capture\n",
    "kwargs['categories_generalization'] = ''\n",
    "kwargs['rules_generalization'] = 'jaccard'\n",
    "re32 = run_learn_grammar(corpus, dataset, module_path, out_dir, **kwargs)"
   ]
  },
  {
   "cell_type": "code",
   "execution_count": 11,
   "metadata": {},
   "outputs": [
    {
     "name": "stdout",
     "output_type": "stream",
     "text": [
      "Parse ability (PA), parse quality(PQ), PA*PQ: 0%, 0%, 0%;\n",
      "Category tree \"cat_tree.txt\" file:\n"
     ]
    },
    {
     "data": {
      "text/html": [
       "<table><tr><td>C1</td><td>0</td><td>1</td><td>0.32</td><td>eagle feather fin herring parrot scale tuna wing</td><td>0 0 0 0 0 0 0 0</td></tr><tr><td>C2</td><td>0</td><td>2</td><td>1</td><td>bird extremity fish</td><td>1 1 1</td></tr><tr><td>C3</td><td>0</td><td>3</td><td>1</td><td>.</td><td>1</td></tr><tr><td>C4</td><td>0</td><td>4</td><td>1</td><td>LEFT-WALL</td><td>1</td></tr><tr><td>C5</td><td>0</td><td>5</td><td>1</td><td>has</td><td>1</td></tr><tr><td>C6</td><td>0</td><td>6</td><td>1</td><td>isa</td><td>1</td></tr><tr><td></td><td>1</td><td>7</td><td>0.66</td><td>eagle fin herring parrot tuna wing</td><td>0 0 0 0 0 0</td></tr><tr><td></td><td>7</td><td>8</td><td>1</td><td>eagle herring parrot tuna</td><td>1 1 1 1</td></tr><tr><td></td><td>7</td><td>9</td><td>1</td><td>fin wing</td><td>1 1</td></tr><tr><td></td><td>1</td><td>10</td><td>1</td><td>feather scale</td><td>1 1</td></tr></table>"
      ],
      "text/plain": [
       "<IPython.core.display.HTML object>"
      ]
     },
     "metadata": {},
     "output_type": "display_data"
    }
   ],
   "source": [
    "display_tree(re32)"
   ]
  },
  {
   "cell_type": "markdown",
   "metadata": {},
   "source": [
    "## 2-step generalization"
   ]
  },
  {
   "cell_type": "code",
   "execution_count": 12,
   "metadata": {},
   "outputs": [],
   "source": [
    "%%capture\n",
    "# 1st test partial categories generalization\n",
    "kwargs['categories_aggregation'] = 0.6\n",
    "kwargs['categories_generalization'] = 'jaccard'\n",
    "kwargs['rules_generalization'] = ''\n",
    "re331 = run_learn_grammar(corpus, dataset, module_path, out_dir, **kwargs)"
   ]
  },
  {
   "cell_type": "code",
   "execution_count": 13,
   "metadata": {},
   "outputs": [
    {
     "name": "stdout",
     "output_type": "stream",
     "text": [
      "Parse ability (PA), parse quality(PQ), PA*PQ: 100%, 100%, 100%;\n",
      "Category tree \"cat_tree.txt\" file:\n"
     ]
    },
    {
     "data": {
      "text/html": [
       "<table><tr><td>C1</td><td>0</td><td>1</td><td>0.66</td><td>eagle fin herring parrot tuna wing</td><td>0 0 0 0 0 0</td></tr><tr><td>C2</td><td>0</td><td>2</td><td>1</td><td>bird extremity fish</td><td>1 1 1</td></tr><tr><td>C3</td><td>0</td><td>3</td><td>1</td><td>feather scale</td><td>1 1</td></tr><tr><td>C4</td><td>0</td><td>4</td><td>1</td><td>.</td><td>1</td></tr><tr><td>C5</td><td>0</td><td>5</td><td>1</td><td>LEFT-WALL</td><td>1</td></tr><tr><td>C6</td><td>0</td><td>6</td><td>1</td><td>has</td><td>1</td></tr><tr><td>C7</td><td>0</td><td>7</td><td>1</td><td>isa</td><td>1</td></tr><tr><td></td><td>1</td><td>8</td><td>1</td><td>eagle herring parrot tuna</td><td>1 1 1 1</td></tr><tr><td></td><td>1</td><td>9</td><td>1</td><td>fin wing</td><td>1 1</td></tr></table>"
      ],
      "text/plain": [
       "<IPython.core.display.HTML object>"
      ]
     },
     "metadata": {},
     "output_type": "display_data"
    }
   ],
   "source": [
    "display_tree(re331)"
   ]
  },
  {
   "cell_type": "code",
   "execution_count": 14,
   "metadata": {},
   "outputs": [],
   "source": [
    "%%capture\n",
    "kwargs['categories_generalization'] = 'jaccard'\n",
    "kwargs['categories_aggregation'] = 0.6\n",
    "kwargs['rules_generalization'] = 'jaccard'\n",
    "kwargs['rules_aggregation'] = 0.3\n",
    "re332 = run_learn_grammar(corpus, dataset, module_path, out_dir, **kwargs)"
   ]
  },
  {
   "cell_type": "code",
   "execution_count": 15,
   "metadata": {},
   "outputs": [
    {
     "name": "stdout",
     "output_type": "stream",
     "text": [
      "Parse ability (PA), parse quality(PQ), PA*PQ: 0%, 0%, 0%;\n",
      "Category tree \"cat_tree.txt\" file:\n"
     ]
    },
    {
     "data": {
      "text/html": [
       "<table><tr><td>C1</td><td>0</td><td>1</td><td>0.32</td><td>eagle feather fin herring parrot scale tuna wing</td><td>0 0 0 0 0 0 0 0</td></tr><tr><td>C2</td><td>0</td><td>2</td><td>1</td><td>bird extremity fish</td><td>1 1 1</td></tr><tr><td>C3</td><td>0</td><td>3</td><td>1</td><td>.</td><td>1</td></tr><tr><td>C4</td><td>0</td><td>4</td><td>1</td><td>LEFT-WALL</td><td>1</td></tr><tr><td>C5</td><td>0</td><td>5</td><td>1</td><td>has</td><td>1</td></tr><tr><td>C6</td><td>0</td><td>6</td><td>1</td><td>isa</td><td>1</td></tr><tr><td></td><td>1</td><td>7</td><td>0.66</td><td>eagle fin herring parrot tuna wing</td><td>0 0 0 0 0 0</td></tr><tr><td></td><td>7</td><td>8</td><td>1</td><td>eagle herring parrot tuna</td><td>1 1 1 1</td></tr><tr><td></td><td>7</td><td>9</td><td>1</td><td>fin wing</td><td>1 1</td></tr><tr><td></td><td>1</td><td>10</td><td>1</td><td>feather scale</td><td>1 1</td></tr></table>"
      ],
      "text/plain": [
       "<IPython.core.display.HTML object>"
      ]
     },
     "metadata": {},
     "output_type": "display_data"
    }
   ],
   "source": [
    "display_tree(re332)"
   ]
  },
  {
   "cell_type": "markdown",
   "metadata": {},
   "source": [
    "***TODO: fix 1st category aggregation threshold!***"
   ]
  },
  {
   "cell_type": "code",
   "execution_count": 16,
   "metadata": {},
   "outputs": [],
   "source": [
    "#STOP"
   ]
  },
  {
   "cell_type": "markdown",
   "metadata": {},
   "source": [
    "## Connectors-DRK-disjuncts, generalize rules"
   ]
  },
  {
   "cell_type": "code",
   "execution_count": 17,
   "metadata": {},
   "outputs": [],
   "source": [
    "%%capture\n",
    "kwargs['left_wall'] = ''\n",
    "kwargs['period'] = False\n",
    "kwargs['context'] = 1\n",
    "kwargs['word_space'] = 'vectors'\n",
    "kwargs['dim_reduction'] = 'svm'\n",
    "kwargs['clustering'] = 'kmeans'\n",
    "kwargs['categories_generalization'] = 'off'\n",
    "kwargs['rules_generalization'] = 'jaccard'\n",
    "kwargs['rules_aggregation'] = 0.2\n",
    "kwargs['verbose'] = 'mid'\n",
    "re34 = run_learn_grammar(corpus, dataset, module_path, out_dir, **kwargs)"
   ]
  },
  {
   "cell_type": "code",
   "execution_count": 18,
   "metadata": {},
   "outputs": [
    {
     "name": "stdout",
     "output_type": "stream",
     "text": [
      "Parse ability (PA), parse quality(PQ), PA*PQ: 0%, 0%, 0%;\n",
      "Category tree \"cat_tree.txt\" file:\n"
     ]
    },
    {
     "data": {
      "text/html": [
       "<table><tr><td>C1</td><td>0</td><td>1</td><td>0.66</td><td>eagle feather fin herring parrot scale tuna wing</td><td>0 0 0 0 0 0 0 0</td></tr><tr><td>C2</td><td>0</td><td>2</td><td>0</td><td>bird extremity fish</td><td>0 0 0</td></tr><tr><td>C3</td><td>0</td><td>3</td><td>0</td><td>has isa</td><td>0 0</td></tr><tr><td></td><td>1</td><td>4</td><td>0</td><td>feather fin scale wing</td><td>0 0 0 0</td></tr><tr><td></td><td>1</td><td>5</td><td>0</td><td>eagle herring parrot tuna</td><td>0 0 0 0</td></tr></table>"
      ],
      "text/plain": [
       "<IPython.core.display.HTML object>"
      ]
     },
     "metadata": {},
     "output_type": "display_data"
    }
   ],
   "source": [
    "display_tree(re34)"
   ]
  },
  {
   "cell_type": "markdown",
   "metadata": {},
   "source": [
    "## Connectors-DRK-connectors, generalize rules"
   ]
  },
  {
   "cell_type": "code",
   "execution_count": 19,
   "metadata": {},
   "outputs": [],
   "source": [
    "%%capture\n",
    "kwargs['grammar_rules'] = 1\n",
    "kwargs['categories_generalization'] = ''\n",
    "kwargs['rules_generalization'] = 'jaccard'\n",
    "re35 = run_learn_grammar(corpus, dataset, module_path, out_dir, **kwargs)"
   ]
  },
  {
   "cell_type": "code",
   "execution_count": 20,
   "metadata": {},
   "outputs": [
    {
     "name": "stdout",
     "output_type": "stream",
     "text": [
      "Parse ability (PA), parse quality(PQ), PA*PQ: 0%, 0%, 0%;\n",
      "Category tree \"cat_tree.txt\" file:\n"
     ]
    },
    {
     "data": {
      "text/html": [
       "<table><tr><td>C1</td><td>0</td><td>1</td><td>0.66</td><td>eagle feather fin herring parrot scale tuna wing</td><td>0 0 0 0 0 0 0 0</td></tr><tr><td>C2</td><td>0</td><td>2</td><td>0</td><td>bird extremity fish</td><td>0 0 0</td></tr><tr><td>C3</td><td>0</td><td>3</td><td>0</td><td>has isa</td><td>0 0</td></tr><tr><td></td><td>1</td><td>4</td><td>0</td><td>feather fin scale wing</td><td>0 0 0 0</td></tr><tr><td></td><td>1</td><td>5</td><td>0</td><td>eagle herring parrot tuna</td><td>0 0 0 0</td></tr></table>"
      ],
      "text/plain": [
       "<IPython.core.display.HTML object>"
      ]
     },
     "metadata": {},
     "output_type": "display_data"
    }
   ],
   "source": [
    "display_tree(re35)"
   ]
  },
  {
   "cell_type": "code",
   "execution_count": 21,
   "metadata": {},
   "outputs": [
    {
     "name": "stdout",
     "output_type": "stream",
     "text": [
      "Link Grammar .dict file contents:\n",
      "% Grammar Learner v.0.5 2018-06-27 12:42:05 UTC\n",
      "<dictionary-version-number>: V0v0v5+;\n",
      "<dictionary-locale>: EN4us+;\n",
      "\n",
      "% C1\n",
      "\"eagle\" \"feather\" \"fin\" \"herring\" \"parrot\" \"scale\" \"tuna\" \"wing\":\n",
      "{C3C1-} & {C1C3+};\n",
      "\n",
      "% C2\n",
      "\"bird\" \"extremity\" \"fish\":\n",
      "(C3C2-);\n",
      "\n",
      "% C3\n",
      "\"has\" \"isa\":\n",
      "(C3C1+) or (C3C2+);\n",
      "\n",
      "UNKNOWN-WORD: XXX+;\n",
      "\n",
      "% 3 word clusters, 3 Link Grammar rules.\n",
      "% Link Grammar file saved to: /home/oleg/language-learning/output/Grammar-Learner-05-2018-06-27/POC-Turtle/MST_fixed_manually/connectors-DRK-connectors/no-LEFT-WALL_no-period/generalized_rules/poc-turtle_3C_2018-06-27_0005.4.0.dict\n"
     ]
    }
   ],
   "source": [
    "print('Link Grammar .dict file contents:')\n",
    "with open(re35['grammar_file'],'r') as f: \n",
    "    for line in f.read().splitlines(): print(line)"
   ]
  },
  {
   "cell_type": "code",
   "execution_count": 22,
   "metadata": {},
   "outputs": [],
   "source": [
    "#print('learn_grammar response -- project log (dict):')\n",
    "#display(html_table([[k,v] for k,v in re35.items()]))"
   ]
  },
  {
   "cell_type": "code",
   "execution_count": 23,
   "metadata": {},
   "outputs": [],
   "source": [
    "#STOP"
   ]
  },
  {
   "cell_type": "markdown",
   "metadata": {},
   "source": [
    "# POC-English-NoAmb"
   ]
  },
  {
   "cell_type": "code",
   "execution_count": 24,
   "metadata": {},
   "outputs": [],
   "source": [
    "corpus = 'POC-English-NoAmb'\n",
    "kwargs['test_corpus'] = module_path + '/data/POC-English-NoAmb/poc_english_noamb_corpus.txt'\n",
    "kwargs['reference_path'] = module_path + '/data/POC-English-NoAmb/poc-english_noAmb-parses-gold.txt'\n",
    "kwargs['left_wall'] = ''\n",
    "kwargs['period'] = False\n",
    "kwargs['categories_generalization'] = 'off'\n",
    "kwargs['rules_generalization'] = 'jaccard'\n",
    "kwargs['verbose'] = 'mid'"
   ]
  },
  {
   "cell_type": "markdown",
   "metadata": {},
   "source": [
    "## Connectors-DRK-connectors, no generalization"
   ]
  },
  {
   "cell_type": "code",
   "execution_count": 25,
   "metadata": {},
   "outputs": [],
   "source": [
    "%%capture\n",
    "kwargs['context'] = 1\n",
    "kwargs['word_space'] = 'vectors'\n",
    "kwargs['dim_reduction'] = 'svm'\n",
    "kwargs['clustering'] = 'kmeans'\n",
    "kwargs['grammar_rules'] = 1\n",
    "kwargs['rules_generalization'] = ''\n",
    "re41 = run_learn_grammar(corpus, dataset, module_path, out_dir, **kwargs)"
   ]
  },
  {
   "cell_type": "code",
   "execution_count": 26,
   "metadata": {},
   "outputs": [
    {
     "name": "stdout",
     "output_type": "stream",
     "text": [
      "Parse ability (PA), parse quality(PQ), PA*PQ: 72%, 64%, 46%;\n",
      "Category tree \"cat_tree.txt\" file:\n"
     ]
    },
    {
     "data": {
      "text/html": [
       "<table><tr><td>C01</td><td>0</td><td>1</td><td>0</td><td>a is liked likes was</td><td>0 0 0 0 0</td></tr><tr><td>C02</td><td>0</td><td>2</td><td>0</td><td>child food human now parent</td><td>0 0 0 0 0</td></tr><tr><td>C03</td><td>0</td><td>3</td><td>0</td><td>before not</td><td>0 0</td></tr><tr><td>C04</td><td>0</td><td>4</td><td>0</td><td>daughter son</td><td>0 0</td></tr><tr><td>C05</td><td>0</td><td>5</td><td>0</td><td>cake sausage</td><td>0 0</td></tr><tr><td>C06</td><td>0</td><td>6</td><td>0</td><td>dad mom</td><td>0 0</td></tr></table>"
      ],
      "text/plain": [
       "<IPython.core.display.HTML object>"
      ]
     },
     "metadata": {},
     "output_type": "display_data"
    }
   ],
   "source": [
    "display_tree(re41)"
   ]
  },
  {
   "cell_type": "markdown",
   "metadata": {},
   "source": [
    "## Connectors-DRK-connectors, generalization"
   ]
  },
  {
   "cell_type": "code",
   "execution_count": 27,
   "metadata": {},
   "outputs": [],
   "source": [
    "%%capture\n",
    "kwargs['rules_generalization'] = 'jaccard'\n",
    "kwargs['rules_aggregation'] = 0.2\n",
    "re42 = run_learn_grammar(corpus, dataset, module_path, out_dir, **kwargs)"
   ]
  },
  {
   "cell_type": "code",
   "execution_count": 28,
   "metadata": {},
   "outputs": [
    {
     "name": "stdout",
     "output_type": "stream",
     "text": [
      "Parse ability (PA), parse quality(PQ), PA*PQ: 0%, 0%, 0%;\n",
      "Category tree \"cat_tree.txt\" file:\n"
     ]
    },
    {
     "data": {
      "text/html": [
       "<table><tr><td>C1</td><td>0</td><td>1</td><td>0.24</td><td>cake child dad daughter food human mom now parent sausage son</td><td>0 0 0 0 0 0 0 0 0 0 0</td></tr><tr><td>C2</td><td>0</td><td>2</td><td>0.31</td><td>a is liked likes was</td><td>0 0 0 0 0</td></tr><tr><td>C3</td><td>0</td><td>3</td><td>0</td><td>before not</td><td>0 0</td></tr><tr><td></td><td>1</td><td>4</td><td>0</td><td>child food human now parent</td><td>0 0 0 0 0</td></tr><tr><td></td><td>1</td><td>5</td><td>0</td><td>dad daughter mom son</td><td>0 0 0 0</td></tr><tr><td></td><td>1</td><td>6</td><td>0</td><td>cake sausage</td><td>0 0</td></tr><tr><td></td><td>2</td><td>7</td><td>0</td><td>a is was</td><td>0 0 0</td></tr><tr><td></td><td>2</td><td>8</td><td>0</td><td>liked likes</td><td>0 0</td></tr></table>"
      ],
      "text/plain": [
       "<IPython.core.display.HTML object>"
      ]
     },
     "metadata": {},
     "output_type": "display_data"
    }
   ],
   "source": [
    "display_tree(re42)"
   ]
  },
  {
   "cell_type": "markdown",
   "metadata": {},
   "source": [
    "***Zero PA & PQ?***"
   ]
  },
  {
   "cell_type": "code",
   "execution_count": 29,
   "metadata": {},
   "outputs": [
    {
     "name": "stdout",
     "output_type": "stream",
     "text": [
      "% Grammar Learner v.0.5 2018-06-27 12:42:06 UTC\n",
      "<dictionary-version-number>: V0v0v5+;\n",
      "<dictionary-locale>: EN4us+;\n",
      "\n",
      "% C1\n",
      "\"cake\" \"child\" \"dad\" \"daughter\" \"food\" \"human\" \"mom\" \"now\" \"parent\" \"sausage\" \"son\":\n",
      "(C1C2+);\n",
      "\n",
      "% C2\n",
      "\"a\" \"is\" \"liked\" \"likes\" \"was\":\n",
      "(C2C1+) or (C2C3+);\n",
      "\n",
      "% C3\n",
      "\"before\" \"not\":\n",
      "(C3C2+);\n",
      "\n",
      "UNKNOWN-WORD: XXX+;\n",
      "\n",
      "% 3 word clusters, 3 Link Grammar rules.\n",
      "% Link Grammar file saved to: /home/oleg/language-learning/output/Grammar-Learner-05-2018-06-27/POC-English-NoAmb/MST_fixed_manually/connectors-DRK-connectors/no-LEFT-WALL_no-period/generalized_rules/poc-english_3C_2018-06-27_0005.4.0.dict\n"
     ]
    }
   ],
   "source": [
    "with open(re42['grammar_file'],'r') as f: \n",
    "    for line in f.read().splitlines(): print(line)"
   ]
  },
  {
   "cell_type": "markdown",
   "metadata": {},
   "source": [
    "## Connectors-DRK-disjuncts"
   ]
  },
  {
   "cell_type": "code",
   "execution_count": 30,
   "metadata": {},
   "outputs": [],
   "source": [
    "%%capture\n",
    "kwargs['context'] = 1\n",
    "kwargs['grammar_rules'] = 2\n",
    "kwargs['rules_aggregation'] = 0.2\n",
    "re43 = run_learn_grammar(corpus, dataset, module_path, out_dir, **kwargs)"
   ]
  },
  {
   "cell_type": "code",
   "execution_count": 31,
   "metadata": {},
   "outputs": [
    {
     "name": "stdout",
     "output_type": "stream",
     "text": [
      "Parse ability (PA), parse quality(PQ), PA*PQ: 13%, 6%, 1%;\n",
      "Category tree \"cat_tree.txt\" file:\n"
     ]
    },
    {
     "data": {
      "text/html": [
       "<table><tr><td>C1</td><td>0</td><td>1</td><td>0.21</td><td>cake dad daughter mom sausage son</td><td>0 0 0 0 0 0</td></tr><tr><td>C2</td><td>0</td><td>2</td><td>0</td><td>child food human now parent</td><td>0 0 0 0 0</td></tr><tr><td>C3</td><td>0</td><td>3</td><td>0</td><td>a is was</td><td>0 0 0</td></tr><tr><td>C4</td><td>0</td><td>4</td><td>0</td><td>liked likes</td><td>0 0</td></tr><tr><td>C5</td><td>0</td><td>5</td><td>0</td><td>before not</td><td>0 0</td></tr><tr><td></td><td>1</td><td>6</td><td>0</td><td>dad daughter mom son</td><td>0 0 0 0</td></tr><tr><td></td><td>1</td><td>7</td><td>0</td><td>cake sausage</td><td>0 0</td></tr></table>"
      ],
      "text/plain": [
       "<IPython.core.display.HTML object>"
      ]
     },
     "metadata": {},
     "output_type": "display_data"
    }
   ],
   "source": [
    "display_tree(re43)"
   ]
  },
  {
   "cell_type": "code",
   "execution_count": 32,
   "metadata": {},
   "outputs": [
    {
     "name": "stdout",
     "output_type": "stream",
     "text": [
      "% Grammar Learner v.0.5 2018-06-27 12:42:06 UTC\n",
      "<dictionary-version-number>: V0v0v5+;\n",
      "<dictionary-locale>: EN4us+;\n",
      "\n",
      "% C1\n",
      "\"cake\" \"dad\" \"daughter\" \"mom\" \"sausage\" \"son\":\n",
      "(C1C3+) or (C1C4+) or (C3C1- & C1C3+) or (C3C1- & C1C4+) or (C3C1- & C3C1-) or (C4C1-);\n",
      "\n",
      "% C2\n",
      "\"child\" \"food\" \"human\" \"now\" \"parent\":\n",
      "(C3C2-) or (C3C2- & C3C2-) or (C4C2-);\n",
      "\n",
      "% C3\n",
      "\"a\" \"is\" \"was\":\n",
      "(C3C1+) or (C3C1+ & C3C1+ & C3C5+) or (C3C1+ & C3C2+) or (C3C1+ & C3C2+ & C3C2+) or (C3C1+ & C3C2+ & C3C5+) or (C3C1+ & C3C2+ & C3C5+ & C3C5+) or (C3C1+ & C3C5+ & C3C2+) or (C3C2+);\n",
      "\n",
      "% C4\n",
      "\"liked\" \"likes\":\n",
      "(C4C1+ & C4C1+) or (C4C1+ & C4C1+ & C4C5+) or (C4C1+ & C4C2+ & C4C1+) or (C4C1+ & C4C5+ & C4C1+);\n",
      "\n",
      "% C5\n",
      "\"before\" \"not\":\n",
      "(C3C5-) or (C4C5-);\n",
      "\n",
      "UNKNOWN-WORD: XXX+;\n",
      "\n",
      "% 5 word clusters, 5 Link Grammar rules.\n",
      "% Link Grammar file saved to: /home/oleg/language-learning/output/Grammar-Learner-05-2018-06-27/POC-English-NoAmb/MST_fixed_manually/connectors-DRK-disjuncts/no-LEFT-WALL_no-period/generalized_rules/poc-english_5C_2018-06-27_0005.4.0.dict\n"
     ]
    }
   ],
   "source": [
    "with open(re43['grammar_file'],'r') as f: \n",
    "    for line in f.read().splitlines(): print(line)"
   ]
  },
  {
   "cell_type": "markdown",
   "metadata": {},
   "source": [
    "## Disjuncts-DRK-disjuncts"
   ]
  },
  {
   "cell_type": "code",
   "execution_count": 33,
   "metadata": {},
   "outputs": [],
   "source": [
    "%%capture\n",
    "kwargs['context'] = 2\n",
    "re44 = run_learn_grammar(corpus, dataset, module_path, out_dir, **kwargs)"
   ]
  },
  {
   "cell_type": "code",
   "execution_count": 34,
   "metadata": {},
   "outputs": [
    {
     "name": "stdout",
     "output_type": "stream",
     "text": [
      "Parse ability (PA), parse quality(PQ), PA*PQ: 0%, 0%, 0%;\n",
      "Category tree \"cat_tree.txt\" file:\n"
     ]
    },
    {
     "data": {
      "text/html": [
       "<table><tr><td>C1</td><td>0</td><td>1</td><td>0.21</td><td>cake dad daughter mom sausage son</td><td>0 0 0 0 0 0</td></tr><tr><td>C2</td><td>0</td><td>2</td><td>0.49</td><td>child food human parent</td><td>0 0 0 0</td></tr><tr><td>C3</td><td>0</td><td>3</td><td>0</td><td>is liked was</td><td>0 0 0</td></tr><tr><td>C4</td><td>0</td><td>4</td><td>0</td><td>before likes not</td><td>0 0 0</td></tr><tr><td>C5</td><td>0</td><td>5</td><td>0</td><td>a</td><td>0</td></tr><tr><td>C6</td><td>0</td><td>6</td><td>0</td><td>now</td><td>0</td></tr><tr><td></td><td>1</td><td>7</td><td>0.56</td><td>dad daughter mom son</td><td>0 0 0 0</td></tr><tr><td></td><td>7</td><td>8</td><td>0</td><td>dad mom</td><td>0 0</td></tr><tr><td></td><td>7</td><td>9</td><td>0</td><td>daughter son</td><td>0 0</td></tr><tr><td></td><td>1</td><td>10</td><td>0</td><td>cake sausage</td><td>0 0</td></tr><tr><td></td><td>2</td><td>11</td><td>0</td><td>child human</td><td>0 0</td></tr><tr><td></td><td>2</td><td>12</td><td>0</td><td>food parent</td><td>0 0</td></tr></table>"
      ],
      "text/plain": [
       "<IPython.core.display.HTML object>"
      ]
     },
     "metadata": {},
     "output_type": "display_data"
    }
   ],
   "source": [
    "display_tree(re44)"
   ]
  },
  {
   "cell_type": "code",
   "execution_count": 35,
   "metadata": {},
   "outputs": [
    {
     "name": "stdout",
     "output_type": "stream",
     "text": [
      "% Grammar Learner v.0.5 2018-06-27 12:42:07 UTC\n",
      "<dictionary-version-number>: V0v0v5+;\n",
      "<dictionary-locale>: EN4us+;\n",
      "\n",
      "% C1\n",
      "\"cake\" \"dad\" \"daughter\" \"mom\" \"sausage\" \"son\":\n",
      "(C1C3+) or (C1C4+) or (C3C1-) or (C3C1- & C5C1-) or (C4C1-) or (C5C1- & C1C3+) or (C5C1- & C1C4+);\n",
      "\n",
      "% C2\n",
      "\"child\" \"food\" \"human\" \"parent\":\n",
      "(C3C2- & C5C2-) or (C5C2- & C3C2-);\n",
      "\n",
      "% C3\n",
      "\"is\" \"liked\" \"was\":\n",
      "(C3C1+ & C3C1+ & C3C4+) or (C3C1+ & C3C2+) or (C3C1+ & C3C2+ & C3C4+) or (C3C1+ & C3C2+ & C3C4+ & C3C4+) or (C3C1+ & C3C2+ & C3C6+) or (C3C1+ & C3C4+ & C3C1+) or (C3C1+ & C3C4+ & C3C2+) or (C3C1+ & C3C6+ & C3C2+);\n",
      "\n",
      "% C4\n",
      "\"before\" \"likes\" \"not\":\n",
      "(C3C4-) or (C4C1+ & C4C1+) or (C4C1+ & C4C6+ & C4C1+);\n",
      "\n",
      "% C5\n",
      "\"a\":\n",
      "(C5C1+) or (C5C2+);\n",
      "\n",
      "% C6\n",
      "\"now\":\n",
      "(C3C6-) or (C4C6-);\n",
      "\n",
      "UNKNOWN-WORD: XXX+;\n",
      "\n",
      "% 6 word clusters, 6 Link Grammar rules.\n",
      "% Link Grammar file saved to: /home/oleg/language-learning/output/Grammar-Learner-05-2018-06-27/POC-English-NoAmb/MST_fixed_manually/disjuncts-DRK-disjuncts/no-LEFT-WALL_no-period/generalized_rules/poc-english_6C_2018-06-27_0005.4.0.dict\n"
     ]
    }
   ],
   "source": [
    "with open(re44['grammar_file'],'r') as f: \n",
    "    for line in f.read().splitlines(): print(line)"
   ]
  },
  {
   "cell_type": "markdown",
   "metadata": {},
   "source": [
    "## Disjuncts-ILE-disjuncts"
   ]
  },
  {
   "cell_type": "code",
   "execution_count": 36,
   "metadata": {},
   "outputs": [],
   "source": [
    "%%capture\n",
    "kwargs['word_space'] = 'discrete'\n",
    "kwargs['dim_reduction'] = 'none'\n",
    "kwargs['clustering'] = 'group'\n",
    "kwargs['categories_generalization'] = 'jaccard'\n",
    "kwargs['categories_aggregation'] = 0.2\n",
    "kwargs['rules_generalization'] = 'jaccard'\n",
    "kwargs['rules_aggregation'] = 0.1\n",
    "re45 = run_learn_grammar(corpus, dataset, module_path, out_dir, **kwargs)"
   ]
  },
  {
   "cell_type": "code",
   "execution_count": 37,
   "metadata": {},
   "outputs": [
    {
     "name": "stdout",
     "output_type": "stream",
     "text": [
      "Parse ability (PA), parse quality(PQ), PA*PQ: 81%, 80%, 65%;\n",
      "Category tree \"cat_tree.txt\" file:\n"
     ]
    },
    {
     "data": {
      "text/html": [
       "<table><tr><td>C1</td><td>0</td><td>1</td><td>0.21</td><td>cake dad daughter mom sausage son</td><td>0 0 0 0 0 0</td></tr><tr><td>C2</td><td>0</td><td>2</td><td>0.49</td><td>child food human parent</td><td>0 0 0 0</td></tr><tr><td>C3</td><td>0</td><td>3</td><td>0.49</td><td>before not</td><td>0 0</td></tr><tr><td>C4</td><td>0</td><td>4</td><td>1</td><td>a</td><td>1</td></tr><tr><td>C5</td><td>0</td><td>5</td><td>1</td><td>is</td><td>1</td></tr><tr><td>C6</td><td>0</td><td>6</td><td>1</td><td>liked</td><td>1</td></tr><tr><td>C7</td><td>0</td><td>7</td><td>1</td><td>likes</td><td>1</td></tr><tr><td>C8</td><td>0</td><td>8</td><td>1</td><td>now</td><td>1</td></tr><tr><td>C9</td><td>0</td><td>9</td><td>1</td><td>was</td><td>1</td></tr><tr><td></td><td>1</td><td>10</td><td>1</td><td>cake sausage</td><td>1 1</td></tr><tr><td></td><td>1</td><td>11</td><td>0.56</td><td>dad daughter mom son</td><td>0 0 0 0</td></tr><tr><td></td><td>11</td><td>12</td><td>1</td><td>dad mom</td><td>1 1</td></tr><tr><td></td><td>11</td><td>13</td><td>1</td><td>daughter son</td><td>1 1</td></tr><tr><td></td><td>2</td><td>14</td><td>1</td><td>child human</td><td>1 1</td></tr><tr><td></td><td>2</td><td>15</td><td>1</td><td>food parent</td><td>1 1</td></tr><tr><td></td><td>3</td><td>16</td><td>1</td><td>before</td><td>1</td></tr><tr><td></td><td>3</td><td>17</td><td>1</td><td>not</td><td>1</td></tr></table>"
      ],
      "text/plain": [
       "<IPython.core.display.HTML object>"
      ]
     },
     "metadata": {},
     "output_type": "display_data"
    }
   ],
   "source": [
    "display_tree(re45)"
   ]
  },
  {
   "cell_type": "code",
   "execution_count": 38,
   "metadata": {},
   "outputs": [
    {
     "name": "stdout",
     "output_type": "stream",
     "text": [
      "% Grammar Learner v.0.5 2018-06-27 12:42:07 UTC\n",
      "<dictionary-version-number>: V0v0v5+;\n",
      "<dictionary-locale>: EN4us+;\n",
      "\n",
      "% C1\n",
      "\"cake\" \"dad\" \"daughter\" \"mom\" \"sausage\" \"son\":\n",
      "(C1C5+) or (C1C6+) or (C1C7+) or (C1C9+) or (C4C1- & C1C5+) or (C4C1- & C1C7+) or (C6C1-) or (C7C1-) or (C9C1- & C4C1-);\n",
      "\n",
      "% C2\n",
      "\"child\" \"food\" \"human\" \"parent\":\n",
      "(C4C2- & C5C2-) or (C9C2- & C4C2-);\n",
      "\n",
      "% C3\n",
      "\"before\" \"not\":\n",
      "(C6C3-) or (C9C3-);\n",
      "\n",
      "% C4\n",
      "\"a\":\n",
      "(C4C1+) or (C4C2+);\n",
      "\n",
      "% C5\n",
      "\"is\":\n",
      "(C1C5- & C5C2+) or (C1C5- & C5C2+ & C5C8+) or (C1C5- & C5C8+ & C5C2+);\n",
      "\n",
      "% C6\n",
      "\"liked\":\n",
      "(C1C6- & C6C1+ & C6C3+) or (C1C6- & C6C3+ & C6C1+);\n",
      "\n",
      "% C7\n",
      "\"likes\":\n",
      "(C1C7- & C7C1+) or (C1C7- & C7C8+ & C7C1+);\n",
      "\n",
      "% C8\n",
      "\"now\":\n",
      "(C5C8-) or (C7C8-);\n",
      "\n",
      "% C9\n",
      "\"was\":\n",
      "(C1C9- & C9C1+ & C9C3+) or (C1C9- & C9C2+ & C9C3+) or (C1C9- & C9C2+ & C9C3+ & C9C3+) or (C1C9- & C9C3+ & C9C2+);\n",
      "\n",
      "UNKNOWN-WORD: XXX+;\n",
      "\n",
      "% 9 word clusters, 9 Link Grammar rules.\n",
      "% Link Grammar file saved to: /home/oleg/language-learning/output/Grammar-Learner-05-2018-06-27/POC-English-NoAmb/MST_fixed_manually/disjuncts-ILE-disjuncts/no-LEFT-WALL_no-period/generalized_categories_and_rules/poc-english_9C_2018-06-27_0005.4.0.dict\n"
     ]
    }
   ],
   "source": [
    "with open(re45['grammar_file'],'r') as f: \n",
    "    for line in f.read().splitlines(): print(line)"
   ]
  },
  {
   "cell_type": "markdown",
   "metadata": {},
   "source": [
    "# POC-English-Amb, DRK + rules generalization"
   ]
  },
  {
   "cell_type": "code",
   "execution_count": 39,
   "metadata": {},
   "outputs": [],
   "source": [
    "corpus = 'POC-English-Amb'\n",
    "kwargs['test_corpus'] = module_path + '/data/POC-English-Amb/poc_english.txt'\n",
    "kwargs['reference_path'] = module_path + '/data/POC-English-Amb/poc-english_ex-parses-gold.txt'\n",
    "kwargs['left_wall'] = ''\n",
    "kwargs['period'] = False\n",
    "kwargs['verbose'] = 'mid'"
   ]
  },
  {
   "cell_type": "markdown",
   "metadata": {},
   "source": [
    "## connectors-DRK-connectors"
   ]
  },
  {
   "cell_type": "code",
   "execution_count": 40,
   "metadata": {},
   "outputs": [],
   "source": [
    "%%capture\n",
    "kwargs['context'] = 1\n",
    "kwargs['word_space'] = 'vectors'\n",
    "kwargs['dim_reduction'] = 'svm'\n",
    "kwargs['clustering'] = 'kmeans'\n",
    "kwargs['categories_generalization'] = 'off'\n",
    "kwargs['grammar_rules'] = 1\n",
    "kwargs['rules_generalization'] = 'jaccard'\n",
    "kwargs['rules_aggregation'] = 0.2\n",
    "re51 = run_learn_grammar(corpus, dataset, module_path, out_dir, **kwargs)"
   ]
  },
  {
   "cell_type": "code",
   "execution_count": 41,
   "metadata": {},
   "outputs": [
    {
     "name": "stdout",
     "output_type": "stream",
     "text": [
      "Parse ability (PA), parse quality(PQ), PA*PQ: 3%, 2%, 0%;\n",
      "Category tree \"cat_tree.txt\" file:\n"
     ]
    },
    {
     "data": {
      "text/html": [
       "<table><tr><td>C01</td><td>0</td><td>1</td><td>0.27</td><td>knocked liked likes saw sawed sees writes</td><td>0 0 0 0 0 0 0</td></tr><tr><td>C02</td><td>0</td><td>2</td><td>0.66</td><td>child food human not parent tool</td><td>0 0 0 0 0 0</td></tr><tr><td>C03</td><td>0</td><td>3</td><td>0.44</td><td>dad daughter mom son</td><td>0 0 0 0</td></tr><tr><td>C04</td><td>0</td><td>4</td><td>0.25</td><td>a is wants was</td><td>0 0 0 0</td></tr><tr><td>C05</td><td>0</td><td>5</td><td>0.39</td><td>binoculars hammer telescope</td><td>0 0 0</td></tr><tr><td>C06</td><td>0</td><td>6</td><td>0</td><td>cake sausage</td><td>0 0</td></tr><tr><td>C07</td><td>0</td><td>7</td><td>0</td><td>has with</td><td>0 0</td></tr><tr><td>C08</td><td>0</td><td>8</td><td>0</td><td>before</td><td>0</td></tr><tr><td>C09</td><td>0</td><td>9</td><td>0</td><td>now</td><td>0</td></tr><tr><td>C10</td><td>0</td><td>10</td><td>0</td><td>to</td><td>0</td></tr><tr><td>C11</td><td>0</td><td>11</td><td>0</td><td>be</td><td>0</td></tr><tr><td>C12</td><td>0</td><td>12</td><td>0</td><td>chalk</td><td>0</td></tr><tr><td>C13</td><td>0</td><td>13</td><td>0</td><td>on</td><td>0</td></tr><tr><td>C14</td><td>0</td><td>14</td><td>0</td><td>her</td><td>0</td></tr><tr><td>C15</td><td>0</td><td>15</td><td>0</td><td>his</td><td>0</td></tr><tr><td>C16</td><td>0</td><td>16</td><td>0</td><td>wood</td><td>0</td></tr><tr><td>C17</td><td>0</td><td>17</td><td>0</td><td>are</td><td>0</td></tr><tr><td>C18</td><td>0</td><td>18</td><td>0</td><td>the</td><td>0</td></tr><tr><td>C19</td><td>0</td><td>19</td><td>0</td><td>board</td><td>0</td></tr><tr><td>C20</td><td>0</td><td>20</td><td>0</td><td>of</td><td>0</td></tr><tr><td>C21</td><td>0</td><td>21</td><td>0</td><td>directors</td><td>0</td></tr><tr><td></td><td>1</td><td>22</td><td>0.61</td><td>knocked sawed writes</td><td>0 0 0</td></tr><tr><td></td><td>22</td><td>23</td><td>0</td><td>writes</td><td>0</td></tr><tr><td></td><td>22</td><td>24</td><td>0</td><td>knocked sawed</td><td>0 0</td></tr><tr><td></td><td>1</td><td>25</td><td>0.39</td><td>liked likes saw sees</td><td>0 0 0 0</td></tr><tr><td></td><td>25</td><td>26</td><td>0</td><td>liked likes</td><td>0 0</td></tr><tr><td></td><td>25</td><td>27</td><td>0</td><td>saw sees</td><td>0 0</td></tr><tr><td></td><td>2</td><td>28</td><td>0</td><td>child human</td><td>0 0</td></tr><tr><td></td><td>2</td><td>29</td><td>0</td><td>food not parent</td><td>0 0 0</td></tr><tr><td></td><td>2</td><td>30</td><td>0</td><td>tool</td><td>0</td></tr><tr><td></td><td>3</td><td>31</td><td>0</td><td>dad mom</td><td>0 0</td></tr><tr><td></td><td>3</td><td>32</td><td>0</td><td>daughter son</td><td>0 0</td></tr><tr><td></td><td>4</td><td>33</td><td>0</td><td>is</td><td>0</td></tr><tr><td></td><td>4</td><td>34</td><td>0.27</td><td>a wants was</td><td>0 0 0</td></tr><tr><td></td><td>34</td><td>35</td><td>0</td><td>a</td><td>0</td></tr><tr><td></td><td>34</td><td>36</td><td>0.3</td><td>wants was</td><td>0 0</td></tr><tr><td></td><td>36</td><td>37</td><td>0</td><td>wants</td><td>0</td></tr><tr><td></td><td>36</td><td>38</td><td>0</td><td>was</td><td>0</td></tr><tr><td></td><td>5</td><td>39</td><td>0</td><td>binoculars</td><td>0</td></tr><tr><td></td><td>5</td><td>40</td><td>0</td><td>hammer telescope</td><td>0 0</td></tr></table>"
      ],
      "text/plain": [
       "<IPython.core.display.HTML object>"
      ]
     },
     "metadata": {},
     "output_type": "display_data"
    }
   ],
   "source": [
    "display_tree(re51)"
   ]
  },
  {
   "cell_type": "markdown",
   "metadata": {},
   "source": [
    "## disjuncts-DRK-disjuncts"
   ]
  },
  {
   "cell_type": "code",
   "execution_count": 45,
   "metadata": {},
   "outputs": [],
   "source": [
    "%%capture\n",
    "kwargs['context'] = 2\n",
    "kwargs['grammar_rules'] = 2\n",
    "kwargs['rules_aggregation'] = 0.2\n",
    "re52 = run_learn_grammar(corpus, dataset, module_path, out_dir, **kwargs)"
   ]
  },
  {
   "cell_type": "code",
   "execution_count": 46,
   "metadata": {},
   "outputs": [
    {
     "name": "stdout",
     "output_type": "stream",
     "text": [
      "Parse ability (PA), parse quality(PQ), PA*PQ: 9%, 9%, 1%;\n",
      "Category tree \"cat_tree.txt\" file:\n"
     ]
    },
    {
     "data": {
      "text/html": [
       "<table><tr><td>C01</td><td>0</td><td>1</td><td>0</td><td>are be is liked to</td><td>0 0 0 0 0</td></tr><tr><td>C02</td><td>0</td><td>2</td><td>0.32</td><td>child food human parent tool</td><td>0 0 0 0 0</td></tr><tr><td>C03</td><td>0</td><td>3</td><td>0</td><td>likes of was writes</td><td>0 0 0 0</td></tr><tr><td>C04</td><td>0</td><td>4</td><td>0.42</td><td>dad daughter mom son</td><td>0 0 0 0</td></tr><tr><td>C05</td><td>0</td><td>5</td><td>0</td><td>hammer saw telescope</td><td>0 0 0</td></tr><tr><td>C06</td><td>0</td><td>6</td><td>0</td><td>a her his</td><td>0 0 0</td></tr><tr><td>C07</td><td>0</td><td>7</td><td>0</td><td>directors sees the</td><td>0 0 0</td></tr><tr><td>C08</td><td>0</td><td>8</td><td>0</td><td>knocked sawed</td><td>0 0</td></tr><tr><td>C09</td><td>0</td><td>9</td><td>0</td><td>before not</td><td>0 0</td></tr><tr><td>C10</td><td>0</td><td>10</td><td>0</td><td>binoculars chalk</td><td>0 0</td></tr><tr><td>C11</td><td>0</td><td>11</td><td>0</td><td>has with</td><td>0 0</td></tr><tr><td>C12</td><td>0</td><td>12</td><td>0</td><td>cake sausage</td><td>0 0</td></tr><tr><td>C13</td><td>0</td><td>13</td><td>0</td><td>on</td><td>0</td></tr><tr><td>C14</td><td>0</td><td>14</td><td>0</td><td>board</td><td>0</td></tr><tr><td>C15</td><td>0</td><td>15</td><td>0</td><td>wood</td><td>0</td></tr><tr><td>C16</td><td>0</td><td>16</td><td>0</td><td>now</td><td>0</td></tr><tr><td>C17</td><td>0</td><td>17</td><td>0</td><td>wants</td><td>0</td></tr><tr><td></td><td>2</td><td>18</td><td>0</td><td>child human tool</td><td>0 0 0</td></tr><tr><td></td><td>2</td><td>19</td><td>0</td><td>food parent</td><td>0 0</td></tr><tr><td></td><td>4</td><td>20</td><td>0</td><td>dad mom</td><td>0 0</td></tr><tr><td></td><td>4</td><td>21</td><td>0</td><td>daughter son</td><td>0 0</td></tr></table>"
      ],
      "text/plain": [
       "<IPython.core.display.HTML object>"
      ]
     },
     "metadata": {},
     "output_type": "display_data"
    }
   ],
   "source": [
    "display_tree(re52)"
   ]
  },
  {
   "cell_type": "markdown",
   "metadata": {},
   "source": [
    "*Parse metrics for POC-English-Amb corpus look disappointing... \n",
    "Further parse metrics stability study ⇒ [http://langlearn.singularitynet.io/data/clustering_2018/html/POC-English-Amb-2018-05-31+06-27.html](http://langlearn.singularitynet.io/data/clustering_2018/html/POC-English-Amb-2018-05-31+06-27.html)*"
   ]
  },
  {
   "cell_type": "code",
   "execution_count": null,
   "metadata": {},
   "outputs": [],
   "source": []
  }
 ],
 "metadata": {
  "kernelspec": {
   "display_name": "Python [conda env:ull4]",
   "language": "python",
   "name": "conda-env-ull4-py"
  },
  "language_info": {
   "codemirror_mode": {
    "name": "ipython",
    "version": 3
   },
   "file_extension": ".py",
   "mimetype": "text/x-python",
   "name": "python",
   "nbconvert_exporter": "python",
   "pygments_lexer": "ipython3",
   "version": "3.6.4"
  },
  "toc": {
   "base_numbering": 1,
   "nav_menu": {},
   "number_sections": true,
   "sideBar": true,
   "skip_h1_title": false,
   "title_cell": "Table of Contents",
   "title_sidebar": "Contents",
   "toc_cell": false,
   "toc_position": {},
   "toc_section_display": true,
   "toc_window_display": false
  }
 },
 "nbformat": 4,
 "nbformat_minor": 2
}
