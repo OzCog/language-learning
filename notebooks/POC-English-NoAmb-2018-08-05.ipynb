{
 "cells": [
  {
   "cell_type": "markdown",
   "metadata": {},
   "source": [
    "# POC-English-NoAmb tests `2018-08-05`\n",
    "\n",
    "Updated optimal clustering search (2018-08-05), server `88.99.210.144`      \n",
    "Each line is calculated 1x, parsing metrics tested 1x for each calculation.  \n",
    "The calculation table is shared as 'short_table.txt' in data folder  \n",
    "[http://langlearn.singularitynet.io/data/clustering_2018/POC-English-NoAmb-2018-08-05/](http://langlearn.singularitynet.io/data/clustering_2018/POC-English-NoAmb-2018-08-05/)  \n",
    "This notebook is shared as static html via  \n",
    "[http://langlearn.singularitynet.io/data/clustering_2018/html/POC-English-NoAmb-2018-08-05.html](http://langlearn.singularitynet.io/data/clustering_2018/html/POC-English-NoAmb-2018-08-05.html)  \n",
    "Results consistency test is shared via    \n",
    "[http://langlearn.singularitynet.io/data/clustering_2018/html/POC-English-NoAmb-2018-08-05-multi.html](http://langlearn.singularitynet.io/data/clustering_2018/html/POC-English-NoAmb-2018-08-05-multi.html)  "
   ]
  },
  {
   "cell_type": "markdown",
   "metadata": {},
   "source": [
    "## Basic settings"
   ]
  },
  {
   "cell_type": "code",
   "execution_count": 1,
   "metadata": {
    "scrolled": true
   },
   "outputs": [
    {
     "name": "stdout",
     "output_type": "stream",
     "text": [
      "2018-08-05 07:50:55 UTC :: module_path = /home/obaskov/language-learning\n"
     ]
    }
   ],
   "source": [
    "import os, sys, time\n",
    "from IPython.display import display\n",
    "module_path = os.path.abspath(os.path.join('..'))\n",
    "if module_path not in sys.path: \n",
    "    sys.path.append(module_path)\n",
    "grammar_learner_path = module_path + '/src/grammar_learner/'\n",
    "if os.path.exists(grammar_learner_path) and grammar_learner_path not in sys.path: \n",
    "    sys.path.append(grammar_learner_path)\n",
    "from utl import UTC\n",
    "from read_files import check_dir\n",
    "from widgets import html_table\n",
    "from pqa_table import table_cds\n",
    "tmpath = module_path + '/tmp/'\n",
    "if check_dir(tmpath, True, 'none'):\n",
    "    table = []\n",
    "    long_table = []\n",
    "    header = ['Line','Corpus','Parsing','LW','\".\"','Generalization','Space','Rules','PA','PQ']\n",
    "    start = time.time()\n",
    "    print(UTC(), ':: module_path =', module_path)\n",
    "else: print(UTC(), ':: could not create temporary files directory', tmpath)"
   ]
  },
  {
   "cell_type": "markdown",
   "metadata": {},
   "source": [
    "## Grammar Learner corpus-specific parameters"
   ]
  },
  {
   "cell_type": "code",
   "execution_count": 2,
   "metadata": {},
   "outputs": [],
   "source": [
    "corpus = 'POC-English-NoAmb'\n",
    "out_dir = module_path + '/output/'+ corpus + '-' + str(UTC())[:10]\n",
    "runs = (1,1)    # (attempts to learn grammar per line, grammar tests per attempt)\n",
    "if runs != (1,1): out_dir += '-multi'\n",
    "kwargs = {\n",
    "    'left_wall'     :   ''          ,\n",
    "    'period'        :   False       ,\n",
    "    'word_space'    :   'vectors'   ,\n",
    "    'cluster_range' :   (2,50,9)    ,\n",
    "    'clustering'    :   ('kmeans', 'kmeans++', 18),\n",
    "    'tmpath'        :   tmpath      , \n",
    "    'verbose'       :   'max'       ,\n",
    "    'template_path' :   'poc-turtle',\n",
    "    'linkage_limit' :   1000         ,\n",
    "    'categories_generalization': 'off' }\n",
    "lines = [\n",
    "    [13, 'POC-English-NoAmb', 'MST-fixed-manually'              ,'LW','.', 'none' ],\n",
    "    [13, 'POC-English-NoAmb', 'MST-fixed-manually'              , 0  , 0 , 'none' ],\n",
    "    [14, 'POC-English-NoAmb', 'LG-English'                      ,'LW','.', 'none' ],\n",
    "    [14, 'POC-English-NoAmb', 'LG-English'                      , 0  , 0 , 'none' ],\n",
    "    [15, 'POC-English-NoAmb', 'R=6-Weight=6:R-mst-weight=+1:R'  ,'LW','.', 'none' ],\n",
    "    [15, 'POC-English-NoAmb', 'R=6-Weight=6:R-mst-weight=+1:R'  , 0  , 0 , 'none' ],\n",
    "    [16, 'POC-English-NoAmb', 'R=6-Weight=1-mst-weight=+1:R'    ,'LW','.', 'none' ], \n",
    "    [16, 'POC-English-NoAmb', 'R=6-Weight=1-mst-weight=+1:R'    , 0  , 0 , 'none' ], \n",
    "    [17, 'POC-English-NoAmb', 'LG-ANY-mst-weight=+1:R'          ,'LW','.', 'none' ],\n",
    "    [17, 'POC-English-NoAmb', 'LG-ANY-mst-weight=+1:R'          , 0  , 0 , 'none' ]]\n",
    "# cp,rp :: (test) corpus_path and reference_path\n",
    "cp = module_path + '/data/POC-English-NoAmb/poc_english_noamb_corpus.txt'\n",
    "rp = module_path + '/data/POC-English-NoAmb/poc-english_noAmb-parses-gold.txt'\n",
    "#cp = rp  # July 2018 Grammar Tester option"
   ]
  },
  {
   "cell_type": "markdown",
   "metadata": {},
   "source": [
    "# ULL Project Plan ⇒ Parses ⇒ lines 13-17"
   ]
  },
  {
   "cell_type": "markdown",
   "metadata": {},
   "source": [
    "## Connectors-DRK-Connectors"
   ]
  },
  {
   "cell_type": "code",
   "execution_count": 3,
   "metadata": {},
   "outputs": [],
   "source": [
    "%%capture\n",
    "kwargs['context'] = 1\n",
    "kwargs['word_space'] = 'vectors'\n",
    "kwargs['clustering'] = ('kmeans','kmeans++',18)\n",
    "kwargs['cluster_range'] = (2,50,9)\n",
    "kwargs['grammar_rules'] = 1\n",
    "average21, long21 = table_cds(lines, out_dir, cp, rp, runs, **kwargs)\n",
    "table.extend(average21)\n",
    "long_table.extend(long21)"
   ]
  },
  {
   "cell_type": "code",
   "execution_count": 4,
   "metadata": {},
   "outputs": [
    {
     "data": {
      "text/html": [
       "<table><tr><td>Line</td><td>Corpus</td><td>Parsing</td><td>LW</td><td>\".\"</td><td>Generalization</td><td>Space</td><td>Rules</td><td>PA</td><td>PQ</td></tr><tr><td>13</td><td>POC-English-NoAmb</td><td>MST-fixed-manually</td><td>LW</td><td> + </td><td>none</td><td>cDRKc</td><td>11</td><td>64%</td><td>55%</td></tr><tr><td>13</td><td>POC-English-NoAmb</td><td>MST-fixed-manually</td><td> -- </td><td> -- </td><td>none</td><td>cDRKc</td><td>8</td><td>72%</td><td>64%</td></tr><tr><td>14</td><td>POC-English-NoAmb</td><td>LG-English</td><td>LW</td><td> + </td><td>none</td><td>cDRKc</td><td>12</td><td>68%</td><td>55%</td></tr><tr><td>14</td><td>POC-English-NoAmb</td><td>LG-English</td><td> -- </td><td> -- </td><td>none</td><td>cDRKc</td><td>11</td><td>75%</td><td>64%</td></tr><tr><td>15</td><td>POC-English-NoAmb</td><td>R=6-Weight=6:R-mst-weight=+1:R</td><td>LW</td><td> + </td><td>none</td><td>cDRKc</td><td>10</td><td>92%</td><td>56%</td></tr><tr><td>15</td><td>POC-English-NoAmb</td><td>R=6-Weight=6:R-mst-weight=+1:R</td><td> -- </td><td> -- </td><td>none</td><td>cDRKc</td><td>9</td><td>99%</td><td>65%</td></tr><tr><td>16</td><td>POC-English-NoAmb</td><td>R=6-Weight=1-mst-weight=+1:R</td><td>LW</td><td> + </td><td>none</td><td>cDRKc</td><td>24</td><td>90%</td><td>58%</td></tr><tr><td>16</td><td>POC-English-NoAmb</td><td>R=6-Weight=1-mst-weight=+1:R</td><td> -- </td><td> -- </td><td>none</td><td>cDRKc</td><td>22</td><td>90%</td><td>55%</td></tr><tr><td>17</td><td>POC-English-NoAmb</td><td>LG-ANY-mst-weight=+1:R</td><td>LW</td><td> + </td><td>none</td><td>cDRKc</td><td>14</td><td>98%</td><td>65%</td></tr><tr><td>17</td><td>POC-English-NoAmb</td><td>LG-ANY-mst-weight=+1:R</td><td> -- </td><td> -- </td><td>none</td><td>cDRKc</td><td>9</td><td>99%</td><td>65%</td></tr></table>"
      ],
      "text/plain": [
       "<IPython.core.display.HTML object>"
      ]
     },
     "metadata": {},
     "output_type": "display_data"
    }
   ],
   "source": [
    "display(html_table([header]+average21))"
   ]
  },
  {
   "cell_type": "markdown",
   "metadata": {},
   "source": [
    "## Connectors-DRK-Disjuncts"
   ]
  },
  {
   "cell_type": "code",
   "execution_count": 5,
   "metadata": {},
   "outputs": [],
   "source": [
    "%%capture\n",
    "kwargs['context'] = 1\n",
    "kwargs['word_space'] = 'vectors'\n",
    "kwargs['clustering'] = ('kmeans','kmeans++',18)\n",
    "kwargs['cluster_range'] = (2,50,9)\n",
    "kwargs['grammar_rules'] = 2\n",
    "average22, long22 = table_cds(lines, out_dir, cp, rp, runs, **kwargs)\n",
    "table.extend(average22)\n",
    "long_table.extend(long22)"
   ]
  },
  {
   "cell_type": "code",
   "execution_count": 6,
   "metadata": {
    "scrolled": true
   },
   "outputs": [
    {
     "data": {
      "text/html": [
       "<table><tr><td>Line</td><td>Corpus</td><td>Parsing</td><td>LW</td><td>\".\"</td><td>Generalization</td><td>Space</td><td>Rules</td><td>PA</td><td>PQ</td></tr><tr><td>13</td><td>POC-English-NoAmb</td><td>MST-fixed-manually</td><td>LW</td><td> + </td><td>none</td><td>cDRKd</td><td>10</td><td>0%</td><td>0%</td></tr><tr><td>13</td><td>POC-English-NoAmb</td><td>MST-fixed-manually</td><td> -- </td><td> -- </td><td>none</td><td>cDRKd</td><td>8</td><td>100%</td><td>100%</td></tr><tr><td>14</td><td>POC-English-NoAmb</td><td>LG-English</td><td>LW</td><td> + </td><td>none</td><td>cDRKd</td><td>13</td><td>0%</td><td>0%</td></tr><tr><td>14</td><td>POC-English-NoAmb</td><td>LG-English</td><td> -- </td><td> -- </td><td>none</td><td>cDRKd</td><td>11</td><td>46%</td><td>39%</td></tr><tr><td>15</td><td>POC-English-NoAmb</td><td>R=6-Weight=6:R-mst-weight=+1:R</td><td>LW</td><td> + </td><td>none</td><td>cDRKd</td><td>10</td><td>93%</td><td>56%</td></tr><tr><td>15</td><td>POC-English-NoAmb</td><td>R=6-Weight=6:R-mst-weight=+1:R</td><td> -- </td><td> -- </td><td>none</td><td>cDRKd</td><td>9</td><td>100%</td><td>66%</td></tr><tr><td>16</td><td>POC-English-NoAmb</td><td>R=6-Weight=1-mst-weight=+1:R</td><td>LW</td><td> + </td><td>none</td><td>cDRKd</td><td>24</td><td>70%</td><td>46%</td></tr><tr><td>16</td><td>POC-English-NoAmb</td><td>R=6-Weight=1-mst-weight=+1:R</td><td> -- </td><td> -- </td><td>none</td><td>cDRKd</td><td>22</td><td>81%</td><td>57%</td></tr><tr><td>17</td><td>POC-English-NoAmb</td><td>LG-ANY-mst-weight=+1:R</td><td>LW</td><td> + </td><td>none</td><td>cDRKd</td><td>10</td><td>95%</td><td>57%</td></tr><tr><td>17</td><td>POC-English-NoAmb</td><td>LG-ANY-mst-weight=+1:R</td><td> -- </td><td> -- </td><td>none</td><td>cDRKd</td><td>13</td><td>97%</td><td>62%</td></tr></table>"
      ],
      "text/plain": [
       "<IPython.core.display.HTML object>"
      ]
     },
     "metadata": {},
     "output_type": "display_data"
    }
   ],
   "source": [
    "display(html_table([header]+average22))"
   ]
  },
  {
   "cell_type": "markdown",
   "metadata": {},
   "source": [
    "## Disjuncts-DRK-Disjuncts"
   ]
  },
  {
   "cell_type": "code",
   "execution_count": 7,
   "metadata": {},
   "outputs": [],
   "source": [
    "%%capture\n",
    "kwargs['context'] = 2\n",
    "kwargs['word_space'] = 'vectors'\n",
    "kwargs['clustering'] = ('kmeans','kmeans++',18)\n",
    "kwargs['cluster_range'] = (2,50,9)\n",
    "kwargs['grammar_rules'] = 2\n",
    "average23, long23 = table_cds(lines, out_dir, cp, rp, runs, **kwargs)\n",
    "table.extend(average23)\n",
    "long_table.extend(long23)"
   ]
  },
  {
   "cell_type": "code",
   "execution_count": 8,
   "metadata": {},
   "outputs": [
    {
     "data": {
      "text/html": [
       "<table><tr><td>Line</td><td>Corpus</td><td>Parsing</td><td>LW</td><td>\".\"</td><td>Generalization</td><td>Space</td><td>Rules</td><td>PA</td><td>PQ</td></tr><tr><td>13</td><td>POC-English-NoAmb</td><td>MST-fixed-manually</td><td>LW</td><td> + </td><td>none</td><td>dDRKd</td><td>13</td><td>0%</td><td>0%</td></tr><tr><td>13</td><td>POC-English-NoAmb</td><td>MST-fixed-manually</td><td> -- </td><td> -- </td><td>none</td><td>dDRKd</td><td>11</td><td>62%</td><td>56%</td></tr><tr><td>14</td><td>POC-English-NoAmb</td><td>LG-English</td><td>LW</td><td> + </td><td>none</td><td>dDRKd</td><td>14</td><td>0%</td><td>0%</td></tr><tr><td>14</td><td>POC-English-NoAmb</td><td>LG-English</td><td> -- </td><td> -- </td><td>none</td><td>dDRKd</td><td>13</td><td>46%</td><td>39%</td></tr><tr><td>15</td><td>POC-English-NoAmb</td><td>R=6-Weight=6:R-mst-weight=+1:R</td><td>LW</td><td> + </td><td>none</td><td>dDRKd</td><td>15</td><td>93%</td><td>58%</td></tr><tr><td>15</td><td>POC-English-NoAmb</td><td>R=6-Weight=6:R-mst-weight=+1:R</td><td> -- </td><td> -- </td><td>none</td><td>dDRKd</td><td>12</td><td>100%</td><td>68%</td></tr><tr><td>16</td><td>POC-English-NoAmb</td><td>R=6-Weight=1-mst-weight=+1:R</td><td>LW</td><td> + </td><td>none</td><td>dDRKd</td><td>27</td><td>65%</td><td>40%</td></tr><tr><td>16</td><td>POC-English-NoAmb</td><td>R=6-Weight=1-mst-weight=+1:R</td><td> -- </td><td> -- </td><td>none</td><td>dDRKd</td><td>10</td><td>90%</td><td>59%</td></tr><tr><td>17</td><td>POC-English-NoAmb</td><td>LG-ANY-mst-weight=+1:R</td><td>LW</td><td> + </td><td>none</td><td>dDRKd</td><td>16</td><td>94%</td><td>58%</td></tr><tr><td>17</td><td>POC-English-NoAmb</td><td>LG-ANY-mst-weight=+1:R</td><td> -- </td><td> -- </td><td>none</td><td>dDRKd</td><td>14</td><td>97%</td><td>62%</td></tr></table>"
      ],
      "text/plain": [
       "<IPython.core.display.HTML object>"
      ]
     },
     "metadata": {},
     "output_type": "display_data"
    }
   ],
   "source": [
    "display(html_table([header]+average23))"
   ]
  },
  {
   "cell_type": "markdown",
   "metadata": {},
   "source": [
    "## Disjuncts-ILE-Disjuncts"
   ]
  },
  {
   "cell_type": "code",
   "execution_count": 9,
   "metadata": {},
   "outputs": [],
   "source": [
    "%%capture\n",
    "kwargs['context'] = 2\n",
    "kwargs['word_space'] = 'discrete'\n",
    "kwargs['clustering'] = 'group'\n",
    "kwargs['grammar_rules'] = 2\n",
    "average24, long24 = table_cds(lines, out_dir, cp, rp, runs, **kwargs)\n",
    "table.extend(average24)\n",
    "long_table.extend(long24)"
   ]
  },
  {
   "cell_type": "code",
   "execution_count": 10,
   "metadata": {},
   "outputs": [
    {
     "data": {
      "text/html": [
       "<table><tr><td>Line</td><td>Corpus</td><td>Parsing</td><td>LW</td><td>\".\"</td><td>Generalization</td><td>Space</td><td>Rules</td><td>PA</td><td>PQ</td></tr><tr><td>13</td><td>POC-English-NoAmb</td><td>MST-fixed-manually</td><td>LW</td><td> + </td><td>none</td><td>dILEd</td><td>15</td><td>0%</td><td>0%</td></tr><tr><td>13</td><td>POC-English-NoAmb</td><td>MST-fixed-manually</td><td> -- </td><td> -- </td><td>none</td><td>dILEd</td><td>13</td><td>46%</td><td>39%</td></tr><tr><td>14</td><td>POC-English-NoAmb</td><td>LG-English</td><td>LW</td><td> + </td><td>none</td><td>dILEd</td><td>15</td><td>0%</td><td>0%</td></tr><tr><td>14</td><td>POC-English-NoAmb</td><td>LG-English</td><td> -- </td><td> -- </td><td>none</td><td>dILEd</td><td>13</td><td>46%</td><td>39%</td></tr><tr><td>15</td><td>POC-English-NoAmb</td><td>R=6-Weight=6:R-mst-weight=+1:R</td><td>LW</td><td> + </td><td>none</td><td>dILEd</td><td>16</td><td>93%</td><td>58%</td></tr><tr><td>15</td><td>POC-English-NoAmb</td><td>R=6-Weight=6:R-mst-weight=+1:R</td><td> -- </td><td> -- </td><td>none</td><td>dILEd</td><td>14</td><td>100%</td><td>68%</td></tr><tr><td>16</td><td>POC-English-NoAmb</td><td>R=6-Weight=1-mst-weight=+1:R</td><td>LW</td><td> + </td><td>none</td><td>dILEd</td><td>44</td><td>63%</td><td>39%</td></tr><tr><td>16</td><td>POC-English-NoAmb</td><td>R=6-Weight=1-mst-weight=+1:R</td><td> -- </td><td> -- </td><td>none</td><td>dILEd</td><td>42</td><td>72%</td><td>50%</td></tr><tr><td>17</td><td>POC-English-NoAmb</td><td>LG-ANY-mst-weight=+1:R</td><td>LW</td><td> + </td><td>none</td><td>dILEd</td><td>16</td><td>94%</td><td>58%</td></tr><tr><td>17</td><td>POC-English-NoAmb</td><td>LG-ANY-mst-weight=+1:R</td><td> -- </td><td> -- </td><td>none</td><td>dILEd</td><td>14</td><td>97%</td><td>62%</td></tr></table>"
      ],
      "text/plain": [
       "<IPython.core.display.HTML object>"
      ]
     },
     "metadata": {},
     "output_type": "display_data"
    }
   ],
   "source": [
    "display(html_table([header]+average24))"
   ]
  },
  {
   "cell_type": "markdown",
   "metadata": {},
   "source": [
    "# All tests (all entries for multi-test `runs > (1.1)`)"
   ]
  },
  {
   "cell_type": "code",
   "execution_count": 11,
   "metadata": {},
   "outputs": [
    {
     "data": {
      "text/html": [
       "<table><tr><td>Line</td><td>Corpus</td><td>Parsing</td><td>LW</td><td>\".\"</td><td>Generalization</td><td>Space</td><td>Rules</td><td>PA</td><td>PQ</td></tr><tr><td>13</td><td>POC-English-NoAmb</td><td>MST-fixed-manually</td><td>LW</td><td> + </td><td>none</td><td>cDRKc</td><td> 11 </td><td>64%</td><td>55%</td></tr><tr><td>13</td><td>POC-English-NoAmb</td><td>MST-fixed-manually</td><td> -- </td><td> -- </td><td>none</td><td>cDRKc</td><td> 8 </td><td>72%</td><td>64%</td></tr><tr><td>14</td><td>POC-English-NoAmb</td><td>LG-English</td><td>LW</td><td> + </td><td>none</td><td>cDRKc</td><td> 12 </td><td>68%</td><td>55%</td></tr><tr><td>14</td><td>POC-English-NoAmb</td><td>LG-English</td><td> -- </td><td> -- </td><td>none</td><td>cDRKc</td><td> 11 </td><td>75%</td><td>64%</td></tr><tr><td>15</td><td>POC-English-NoAmb</td><td>R=6-Weight=6:R-mst-weight=+1:R</td><td>LW</td><td> + </td><td>none</td><td>cDRKc</td><td> 10 </td><td>92%</td><td>56%</td></tr><tr><td>15</td><td>POC-English-NoAmb</td><td>R=6-Weight=6:R-mst-weight=+1:R</td><td> -- </td><td> -- </td><td>none</td><td>cDRKc</td><td> 9 </td><td>99%</td><td>65%</td></tr><tr><td>16</td><td>POC-English-NoAmb</td><td>R=6-Weight=1-mst-weight=+1:R</td><td>LW</td><td> + </td><td>none</td><td>cDRKc</td><td> 24 </td><td>90%</td><td>58%</td></tr><tr><td>16</td><td>POC-English-NoAmb</td><td>R=6-Weight=1-mst-weight=+1:R</td><td> -- </td><td> -- </td><td>none</td><td>cDRKc</td><td> 22 </td><td>90%</td><td>55%</td></tr><tr><td>17</td><td>POC-English-NoAmb</td><td>LG-ANY-mst-weight=+1:R</td><td>LW</td><td> + </td><td>none</td><td>cDRKc</td><td> 14 </td><td>98%</td><td>65%</td></tr><tr><td>17</td><td>POC-English-NoAmb</td><td>LG-ANY-mst-weight=+1:R</td><td> -- </td><td> -- </td><td>none</td><td>cDRKc</td><td> 9 </td><td>99%</td><td>65%</td></tr><tr><td>13</td><td>POC-English-NoAmb</td><td>MST-fixed-manually</td><td>LW</td><td> + </td><td>none</td><td>cDRKd</td><td> 10 </td><td>0%</td><td>0%</td></tr><tr><td>13</td><td>POC-English-NoAmb</td><td>MST-fixed-manually</td><td> -- </td><td> -- </td><td>none</td><td>cDRKd</td><td> 8 </td><td>100%</td><td>100%</td></tr><tr><td>14</td><td>POC-English-NoAmb</td><td>LG-English</td><td>LW</td><td> + </td><td>none</td><td>cDRKd</td><td> 13 </td><td>0%</td><td>0%</td></tr><tr><td>14</td><td>POC-English-NoAmb</td><td>LG-English</td><td> -- </td><td> -- </td><td>none</td><td>cDRKd</td><td> 11 </td><td>46%</td><td>39%</td></tr><tr><td>15</td><td>POC-English-NoAmb</td><td>R=6-Weight=6:R-mst-weight=+1:R</td><td>LW</td><td> + </td><td>none</td><td>cDRKd</td><td> 10 </td><td>93%</td><td>56%</td></tr><tr><td>15</td><td>POC-English-NoAmb</td><td>R=6-Weight=6:R-mst-weight=+1:R</td><td> -- </td><td> -- </td><td>none</td><td>cDRKd</td><td> 9 </td><td>100%</td><td>66%</td></tr><tr><td>16</td><td>POC-English-NoAmb</td><td>R=6-Weight=1-mst-weight=+1:R</td><td>LW</td><td> + </td><td>none</td><td>cDRKd</td><td> 24 </td><td>70%</td><td>46%</td></tr><tr><td>16</td><td>POC-English-NoAmb</td><td>R=6-Weight=1-mst-weight=+1:R</td><td> -- </td><td> -- </td><td>none</td><td>cDRKd</td><td> 22 </td><td>81%</td><td>57%</td></tr><tr><td>17</td><td>POC-English-NoAmb</td><td>LG-ANY-mst-weight=+1:R</td><td>LW</td><td> + </td><td>none</td><td>cDRKd</td><td> 10 </td><td>95%</td><td>57%</td></tr><tr><td>17</td><td>POC-English-NoAmb</td><td>LG-ANY-mst-weight=+1:R</td><td> -- </td><td> -- </td><td>none</td><td>cDRKd</td><td> 13 </td><td>97%</td><td>62%</td></tr><tr><td>13</td><td>POC-English-NoAmb</td><td>MST-fixed-manually</td><td>LW</td><td> + </td><td>none</td><td>dDRKd</td><td> 13 </td><td>0%</td><td>0%</td></tr><tr><td>13</td><td>POC-English-NoAmb</td><td>MST-fixed-manually</td><td> -- </td><td> -- </td><td>none</td><td>dDRKd</td><td> 11 </td><td>62%</td><td>56%</td></tr><tr><td>14</td><td>POC-English-NoAmb</td><td>LG-English</td><td>LW</td><td> + </td><td>none</td><td>dDRKd</td><td> 14 </td><td>0%</td><td>0%</td></tr><tr><td>14</td><td>POC-English-NoAmb</td><td>LG-English</td><td> -- </td><td> -- </td><td>none</td><td>dDRKd</td><td> 13 </td><td>46%</td><td>39%</td></tr><tr><td>15</td><td>POC-English-NoAmb</td><td>R=6-Weight=6:R-mst-weight=+1:R</td><td>LW</td><td> + </td><td>none</td><td>dDRKd</td><td> 15 </td><td>93%</td><td>58%</td></tr><tr><td>15</td><td>POC-English-NoAmb</td><td>R=6-Weight=6:R-mst-weight=+1:R</td><td> -- </td><td> -- </td><td>none</td><td>dDRKd</td><td> 12 </td><td>100%</td><td>68%</td></tr><tr><td>16</td><td>POC-English-NoAmb</td><td>R=6-Weight=1-mst-weight=+1:R</td><td>LW</td><td> + </td><td>none</td><td>dDRKd</td><td> 27 </td><td>65%</td><td>40%</td></tr><tr><td>16</td><td>POC-English-NoAmb</td><td>R=6-Weight=1-mst-weight=+1:R</td><td> -- </td><td> -- </td><td>none</td><td>dDRKd</td><td> 10 </td><td>90%</td><td>59%</td></tr><tr><td>17</td><td>POC-English-NoAmb</td><td>LG-ANY-mst-weight=+1:R</td><td>LW</td><td> + </td><td>none</td><td>dDRKd</td><td> 16 </td><td>94%</td><td>58%</td></tr><tr><td>17</td><td>POC-English-NoAmb</td><td>LG-ANY-mst-weight=+1:R</td><td> -- </td><td> -- </td><td>none</td><td>dDRKd</td><td> 14 </td><td>97%</td><td>62%</td></tr><tr><td>13</td><td>POC-English-NoAmb</td><td>MST-fixed-manually</td><td>LW</td><td> + </td><td>none</td><td>dILEd</td><td> 15 </td><td>0%</td><td>0%</td></tr><tr><td>13</td><td>POC-English-NoAmb</td><td>MST-fixed-manually</td><td> -- </td><td> -- </td><td>none</td><td>dILEd</td><td> 13 </td><td>46%</td><td>39%</td></tr><tr><td>14</td><td>POC-English-NoAmb</td><td>LG-English</td><td>LW</td><td> + </td><td>none</td><td>dILEd</td><td> 15 </td><td>0%</td><td>0%</td></tr><tr><td>14</td><td>POC-English-NoAmb</td><td>LG-English</td><td> -- </td><td> -- </td><td>none</td><td>dILEd</td><td> 13 </td><td>46%</td><td>39%</td></tr><tr><td>15</td><td>POC-English-NoAmb</td><td>R=6-Weight=6:R-mst-weight=+1:R</td><td>LW</td><td> + </td><td>none</td><td>dILEd</td><td> 16 </td><td>93%</td><td>58%</td></tr><tr><td>15</td><td>POC-English-NoAmb</td><td>R=6-Weight=6:R-mst-weight=+1:R</td><td> -- </td><td> -- </td><td>none</td><td>dILEd</td><td> 14 </td><td>100%</td><td>68%</td></tr><tr><td>16</td><td>POC-English-NoAmb</td><td>R=6-Weight=1-mst-weight=+1:R</td><td>LW</td><td> + </td><td>none</td><td>dILEd</td><td> 44 </td><td>63%</td><td>39%</td></tr><tr><td>16</td><td>POC-English-NoAmb</td><td>R=6-Weight=1-mst-weight=+1:R</td><td> -- </td><td> -- </td><td>none</td><td>dILEd</td><td> 42 </td><td>72%</td><td>50%</td></tr><tr><td>17</td><td>POC-English-NoAmb</td><td>LG-ANY-mst-weight=+1:R</td><td>LW</td><td> + </td><td>none</td><td>dILEd</td><td> 16 </td><td>94%</td><td>58%</td></tr><tr><td>17</td><td>POC-English-NoAmb</td><td>LG-ANY-mst-weight=+1:R</td><td> -- </td><td> -- </td><td>none</td><td>dILEd</td><td> 14 </td><td>97%</td><td>62%</td></tr></table>"
      ],
      "text/plain": [
       "<IPython.core.display.HTML object>"
      ]
     },
     "metadata": {},
     "output_type": "display_data"
    }
   ],
   "source": [
    "display(html_table([header]+long_table))"
   ]
  },
  {
   "cell_type": "code",
   "execution_count": 12,
   "metadata": {},
   "outputs": [
    {
     "name": "stdout",
     "output_type": "stream",
     "text": [
      "2018-08-05 08:26:09 UTC :: finished, elapsed 35.2 min\n",
      "Results saved to /home/obaskov/language-learning/output/POC-English-NoAmb-2018-08-05/short_table.txt\n"
     ]
    }
   ],
   "source": [
    "from write_files import list2file\n",
    "print(UTC(), ':: finished, elapsed', str(round((time.time()-start)/60, 1)), 'min')\n",
    "table_str = list2file(table, out_dir+'/short_table.txt')\n",
    "if runs == (1,1):\n",
    "    print('Results saved to', out_dir + '/short_table.txt')\n",
    "else:\n",
    "    long_table_str = list2file(long_table, out_dir+'/long_table.txt')\n",
    "    print('Average results saved to', out_dir + '/short_table.txt\\n'\n",
    "          'Detailed results for every run saved to', out_dir + '/long_table.txt')"
   ]
  },
  {
   "cell_type": "code",
   "execution_count": null,
   "metadata": {},
   "outputs": [],
   "source": []
  }
 ],
 "metadata": {
  "kernelspec": {
   "display_name": "Python [conda env:ull]",
   "language": "python",
   "name": "conda-env-ull-py"
  },
  "language_info": {
   "codemirror_mode": {
    "name": "ipython",
    "version": 3
   },
   "file_extension": ".py",
   "mimetype": "text/x-python",
   "name": "python",
   "nbconvert_exporter": "python",
   "pygments_lexer": "ipython3",
   "version": "3.6.6"
  },
  "toc": {
   "base_numbering": 1,
   "nav_menu": {},
   "number_sections": true,
   "sideBar": true,
   "skip_h1_title": false,
   "title_cell": "Table of Contents",
   "title_sidebar": "Contents",
   "toc_cell": false,
   "toc_position": {},
   "toc_section_display": true,
   "toc_window_display": false
  }
 },
 "nbformat": 4,
 "nbformat_minor": 2
}
