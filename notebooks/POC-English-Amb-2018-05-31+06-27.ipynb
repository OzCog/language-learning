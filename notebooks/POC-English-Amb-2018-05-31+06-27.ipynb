{
 "cells": [
  {
   "cell_type": "markdown",
   "metadata": {},
   "source": [
    "# POC-English-Amb Tests `2016-05-31+06-27`\n",
    "3rd test (with v.0.5 hierarchical generalization) of POC-English-Amb-2018-05-31.ipynb\n",
    "    \n",
    "Each line is calculated 5x, parsing metrics tested 2x for each calculation.  \n",
    "The detailed calculation table is shared as 'long_table.txt' in data folder  \n",
    "[http://langlearn.singularitynet.io/data/clustering_2018/POC-English-Amb-2018-05-31+06-27/](http://langlearn.singularitynet.io/data/clustering_2018/POC-English-Amb-2018-05-31+06-27/)  \n",
    "This notebook is shared as static html via  \n",
    "[http://langlearn.singularitynet.io/data/clustering_2018/html/POC-English-Amb-2018-05-31+06-27.html](http://langlearn.singularitynet.io/data/clustering_2018/html/POC-English-Amb-2018-05-31+06-27.html)  \n",
    "Previous tests:  \n",
    "[http://langlearn.singularitynet.io/data/clustering_2018/html/POC-English-Amb-2018-05-31.html](http://langlearn.singularitynet.io/data/clustering_2018/html/POC-English-Amb-2018-05-31.html)  \n",
    "[http://langlearn.singularitynet.io/data/clustering_2018/html/POC-English-Amb-2018-05-31+06-06.html](http://langlearn.singularitynet.io/data/clustering_2018/html/POC-English-Amb-2018-05-31+06-06.html)"
   ]
  },
  {
   "cell_type": "markdown",
   "metadata": {},
   "source": [
    "## Basic settings"
   ]
  },
  {
   "cell_type": "code",
   "execution_count": 1,
   "metadata": {},
   "outputs": [
    {
     "name": "stdout",
     "output_type": "stream",
     "text": [
      "2018-06-27 06:26:41 UTC :: module_path = /home/oleg/language-learning\n"
     ]
    }
   ],
   "source": [
    "import os, sys, time\n",
    "import numpy as np\n",
    "import pandas as pd\n",
    "import matplotlib.pyplot as plt\n",
    "%matplotlib inline\n",
    "from IPython.display import display\n",
    "module_path = os.path.abspath(os.path.join('..'))\n",
    "if module_path not in sys.path: sys.path.append(module_path)\n",
    "src_path = module_path + '/src'\n",
    "if os.path.exists(src_path) and src_path not in sys.path: sys.path.append(src_path)\n",
    "lg_path = '/home/oleg/miniconda3/envs/ull4/lib/python3.6/site-packages/linkgrammar'\n",
    "if os.path.exists(lg_path) and lg_path not in sys.path: sys.path.append(lg_path)\n",
    "from src.utl.utl import UTC\n",
    "from src.utl.read_files import check_dir\n",
    "from src.utl.turtle import html_table\n",
    "from src.grammar_learner.poc05 import learn_grammar, params, parse_metrics, run_learn_grammar\n",
    "prefix = ''\n",
    "tmpath = module_path + '/tmp/'\n",
    "check_dir(tmpath, True, 'none')\n",
    "print(UTC(), ':: module_path =', module_path)\n",
    "start = time.time()"
   ]
  },
  {
   "cell_type": "markdown",
   "metadata": {},
   "source": [
    "## Grammar Learner parameters"
   ]
  },
  {
   "cell_type": "code",
   "execution_count": 2,
   "metadata": {},
   "outputs": [],
   "source": [
    "out_dir = module_path + '/output/POC-English-Amb-05-31+' + str(UTC())[:10]\n",
    "corpus = 'POC-English-Amb'\n",
    "dataset = 'MST_fixed_manually'\n",
    "kwargs = {\n",
    "    'left_wall'     :   'LEFT-WALL' ,\n",
    "    'period'        :   True        ,\n",
    "    'context'       :   2           ,\n",
    "    'word_space'    :   'discrete'  ,\n",
    "    'clustering'    :   'group'     ,\n",
    "    'grammar_rules' :   2           ,\n",
    "    'verbose'       :   'min'       ,\n",
    "    'tmpath'        :   tmpath      , \n",
    "    'categories_generalization': 'off',\n",
    "    'rules_generalization': 'off',\n",
    "    'test_corpus'   : module_path + '/data/POC-English-Amb/poc_english.txt',\n",
    "    'reference_path': module_path + '/data/POC-English-Amb/poc-english_ex-parses-gold.txt',\n",
    "    'template_path' : 'poc-turtle', \n",
    "    'linkage_limit' : 1 }"
   ]
  },
  {
   "cell_type": "markdown",
   "metadata": {},
   "source": [
    "## Integration test"
   ]
  },
  {
   "cell_type": "code",
   "execution_count": 3,
   "metadata": {},
   "outputs": [],
   "source": [
    "%%capture\n",
    "response = run_learn_grammar(corpus, dataset, module_path, out_dir, **kwargs)"
   ]
  },
  {
   "cell_type": "code",
   "execution_count": 4,
   "metadata": {},
   "outputs": [
    {
     "name": "stdout",
     "output_type": "stream",
     "text": [
      "Parse-ability / parse-quality =  12% / 6%;  39 Link Grammar rules\n"
     ]
    }
   ],
   "source": [
    "print('Parse-ability / parse-quality = ', str(response['parse_ability']) + '% / ' \\\n",
    "    + str(response['parse_quality'])+'%; ', response['grammar_rules'], 'Link Grammar rules')"
   ]
  },
  {
   "cell_type": "markdown",
   "metadata": {
    "heading_collapsed": true
   },
   "source": [
    "## Test function"
   ]
  },
  {
   "cell_type": "code",
   "execution_count": 5,
   "metadata": {
    "hidden": true
   },
   "outputs": [],
   "source": [
    "def run_test(**kwargs):\n",
    "    spaces = ''\n",
    "    if kwargs['context'] == 1: \n",
    "        spaces += 'c'\n",
    "    else: spaces += 'd'\n",
    "    if kwargs['word_space'] == 'vectors': \n",
    "        spaces += 'DRK'\n",
    "    else: spaces += 'ILE'\n",
    "    if kwargs['grammar_rules'] == 1: \n",
    "        spaces += 'c'\n",
    "    else: spaces += 'd'\n",
    "    details = []\n",
    "    average = []\n",
    "    for dataset in ['MST_fixed_manually', 'LG_English', 'R=6_Weight=6:R_mst-weight=1:R']:\n",
    "        for kwargs['left_wall'] in ['LEFT-WALL', '']:\n",
    "            if kwargs['left_wall'] == 'LEFT-WALL': \n",
    "                lw = 'LW'\n",
    "                kwargs['period'] = True\n",
    "                dot = ' + '\n",
    "            else: \n",
    "                lw = ' -- '\n",
    "                dot = ' -- '\n",
    "                kwargs['period'] = False\n",
    "            for g in [('',''), ('jaccard',''), ('jaccard','jaccard')]:\n",
    "                if lw == 'LW' and dot == ' + ' and g != ('',''): continue\n",
    "                elif kwargs['grammar_rules'] == 1 and g[0] != '': continue\n",
    "                elif kwargs['word_space'] == 'vectors' and g[1] != '': continue\n",
    "                elif kwargs['context'] == 1 and g[1] != '': continue\n",
    "                kwargs['rules_generalization'] = g[0]\n",
    "                kwargs['categories_generalization'] = g[1]\n",
    "                if g[0] == '' and g[1] == '': gen = 'none'\n",
    "                elif g[0] == 'jaccard' and g[1] == '': gen = 'rules'\n",
    "                elif g[0] == '' and g[1] == 'jaccard': gen = 'categories'\n",
    "                else: gen = 'both'\n",
    "                ip, oc, og = params(corpus, dataset, module_path, out_dir, **kwargs)\n",
    "                pa = []\n",
    "                pq = []\n",
    "                rules = []\n",
    "                for j in range(5):\n",
    "                    r = learn_grammar(ip, oc, og, **kwargs)\n",
    "                    for i in range(2):\n",
    "                        a, q, lg_parse_path = parse_metrics(r['grammar_file'], **kwargs)\n",
    "                        pa.append(a)\n",
    "                        pq.append(q)                            \n",
    "                        rules.append(r['grammar_rules'])\n",
    "                        rulestr = ' ' + str(r['grammar_rules']) + ' '\n",
    "                        line = [corpus, dataset, lw, dot, gen, spaces, rulestr, \\\n",
    "                            str(a)+'%', str(q)+'%', str(int(round(a*q/100, 0)))+'%']\n",
    "                        details.append(line)\n",
    "                paa = int(round(sum(pa)/len(pa), 0))\n",
    "                pqa = int(round(sum(pq)/len(pq), 0))\n",
    "                rules_avg = int(round(sum(rules)/len(rules), 0))\n",
    "                avg = [corpus, dataset, lw, dot, gen, spaces, rules_avg, \\\n",
    "                    str(paa)+'%', str(pqa)+'%', str(int(round(paa*pqa/100, 0)))+'%']\n",
    "                average.append(avg)\n",
    "    return average, details"
   ]
  },
  {
   "cell_type": "markdown",
   "metadata": {},
   "source": [
    "# POC-English-Amb, no generalization, 3 datasets\n",
    "ULL Project Plan ⇒ Parses ⇒ lines 14-22"
   ]
  },
  {
   "cell_type": "markdown",
   "metadata": {},
   "source": [
    "## Connectors-DRK-Connectors"
   ]
  },
  {
   "cell_type": "code",
   "execution_count": 6,
   "metadata": {},
   "outputs": [],
   "source": [
    "%%capture\n",
    "kwargs['context'] = 1\n",
    "kwargs['word_space'] = 'vectors'\n",
    "kwargs['clustering'] = 'kmeans'\n",
    "kwargs['grammar_rules'] = 1\n",
    "average21, long21 = run_test(**kwargs)\n",
    "table = average21\n",
    "long_table = long21\n",
    "#table = []\n",
    "#long_table = []"
   ]
  },
  {
   "cell_type": "code",
   "execution_count": 7,
   "metadata": {},
   "outputs": [
    {
     "data": {
      "text/html": [
       "<table><tr><td>Corpus</td><td>Parsing</td><td>LW</td><td>\".\"</td><td>Generalization</td><td>Space</td><td>Rules</td><td>PA</td><td>PQ</td><td>PQA</td></tr><tr><td>POC-English-Amb</td><td>MST_fixed_manually</td><td>LW</td><td> + </td><td>none</td><td>cDRKc</td><td>27</td><td>67%</td><td>36%</td><td>24%</td></tr><tr><td>POC-English-Amb</td><td>MST_fixed_manually</td><td> -- </td><td> -- </td><td>none</td><td>cDRKc</td><td>28</td><td>71%</td><td>62%</td><td>44%</td></tr><tr><td>POC-English-Amb</td><td>LG_English</td><td>LW</td><td> + </td><td>none</td><td>cDRKc</td><td>27</td><td>78%</td><td>42%</td><td>33%</td></tr><tr><td>POC-English-Amb</td><td>LG_English</td><td> -- </td><td> -- </td><td>none</td><td>cDRKc</td><td>28</td><td>79%</td><td>64%</td><td>51%</td></tr><tr><td>POC-English-Amb</td><td>R=6_Weight=6:R_mst-weight=1:R</td><td>LW</td><td> + </td><td>none</td><td>cDRKc</td><td>29</td><td>85%</td><td>51%</td><td>43%</td></tr><tr><td>POC-English-Amb</td><td>R=6_Weight=6:R_mst-weight=1:R</td><td> -- </td><td> -- </td><td>none</td><td>cDRKc</td><td>25</td><td>81%</td><td>48%</td><td>39%</td></tr></table>"
      ],
      "text/plain": [
       "<IPython.core.display.HTML object>"
      ]
     },
     "metadata": {},
     "output_type": "display_data"
    }
   ],
   "source": [
    "header = ['Corpus','Parsing','LW','\".\"','Generalization','Space','Rules','PA','PQ','PQA']\n",
    "display(html_table([header]+average21))"
   ]
  },
  {
   "cell_type": "markdown",
   "metadata": {},
   "source": [
    "## Connectors-DRK-Disjuncts"
   ]
  },
  {
   "cell_type": "code",
   "execution_count": 8,
   "metadata": {},
   "outputs": [],
   "source": [
    "%%capture\n",
    "kwargs['context'] = 1\n",
    "kwargs['word_space'] = 'vectors'\n",
    "kwargs['clustering'] = 'kmeans'\n",
    "kwargs['grammar_rules'] = 2\n",
    "average22, long22 = run_test(**kwargs)\n",
    "table.extend(average22)\n",
    "long_table.extend(long22)"
   ]
  },
  {
   "cell_type": "code",
   "execution_count": 9,
   "metadata": {
    "scrolled": true
   },
   "outputs": [
    {
     "data": {
      "text/html": [
       "<table><tr><td>Corpus</td><td>Parsing</td><td>LW</td><td>\".\"</td><td>Generalization</td><td>Space</td><td>Rules</td><td>PA</td><td>PQ</td><td>PQA</td></tr><tr><td>POC-English-Amb</td><td>MST_fixed_manually</td><td>LW</td><td> + </td><td>none</td><td>cDRKd</td><td>29</td><td>39%</td><td>16%</td><td>6%</td></tr><tr><td>POC-English-Amb</td><td>MST_fixed_manually</td><td> -- </td><td> -- </td><td>none</td><td>cDRKd</td><td>28</td><td>41%</td><td>38%</td><td>16%</td></tr><tr><td>POC-English-Amb</td><td>MST_fixed_manually</td><td> -- </td><td> -- </td><td>rules</td><td>cDRKd</td><td>26</td><td>4%</td><td>4%</td><td>0%</td></tr><tr><td>POC-English-Amb</td><td>LG_English</td><td>LW</td><td> + </td><td>none</td><td>cDRKd</td><td>29</td><td>26%</td><td>12%</td><td>3%</td></tr><tr><td>POC-English-Amb</td><td>LG_English</td><td> -- </td><td> -- </td><td>none</td><td>cDRKd</td><td>30</td><td>35%</td><td>30%</td><td>10%</td></tr><tr><td>POC-English-Amb</td><td>LG_English</td><td> -- </td><td> -- </td><td>rules</td><td>cDRKd</td><td>27</td><td>3%</td><td>3%</td><td>0%</td></tr><tr><td>POC-English-Amb</td><td>R=6_Weight=6:R_mst-weight=1:R</td><td>LW</td><td> + </td><td>none</td><td>cDRKd</td><td>27</td><td>78%</td><td>45%</td><td>35%</td></tr><tr><td>POC-English-Amb</td><td>R=6_Weight=6:R_mst-weight=1:R</td><td> -- </td><td> -- </td><td>none</td><td>cDRKd</td><td>25</td><td>70%</td><td>41%</td><td>29%</td></tr><tr><td>POC-English-Amb</td><td>R=6_Weight=6:R_mst-weight=1:R</td><td> -- </td><td> -- </td><td>rules</td><td>cDRKd</td><td>23</td><td>16%</td><td>9%</td><td>1%</td></tr></table>"
      ],
      "text/plain": [
       "<IPython.core.display.HTML object>"
      ]
     },
     "metadata": {},
     "output_type": "display_data"
    }
   ],
   "source": [
    "display(html_table([header]+average22))"
   ]
  },
  {
   "cell_type": "markdown",
   "metadata": {},
   "source": [
    "## Disjuncts-DRK-Disjuncts"
   ]
  },
  {
   "cell_type": "code",
   "execution_count": 10,
   "metadata": {},
   "outputs": [],
   "source": [
    "%%capture\n",
    "kwargs['context'] = 2\n",
    "kwargs['word_space'] = 'vectors'\n",
    "kwargs['clustering'] = 'kmeans'\n",
    "kwargs['grammar_rules'] = 2\n",
    "average23, long23 = run_test(**kwargs)\n",
    "table.extend(average23)\n",
    "long_table.extend(long23)"
   ]
  },
  {
   "cell_type": "code",
   "execution_count": 11,
   "metadata": {},
   "outputs": [
    {
     "data": {
      "text/html": [
       "<table><tr><td>Corpus</td><td>Parsing</td><td>LW</td><td>\".\"</td><td>Generalization</td><td>Space</td><td>Rules</td><td>PA</td><td>PQ</td><td>PQA</td></tr><tr><td>POC-English-Amb</td><td>MST_fixed_manually</td><td>LW</td><td> + </td><td>none</td><td>dDRKd</td><td>31</td><td>17%</td><td>9%</td><td>2%</td></tr><tr><td>POC-English-Amb</td><td>MST_fixed_manually</td><td> -- </td><td> -- </td><td>none</td><td>dDRKd</td><td>5</td><td>79%</td><td>58%</td><td>46%</td></tr><tr><td>POC-English-Amb</td><td>MST_fixed_manually</td><td> -- </td><td> -- </td><td>rules</td><td>dDRKd</td><td>5</td><td>78%</td><td>58%</td><td>45%</td></tr><tr><td>POC-English-Amb</td><td>LG_English</td><td>LW</td><td> + </td><td>none</td><td>dDRKd</td><td>3</td><td>94%</td><td>43%</td><td>40%</td></tr><tr><td>POC-English-Amb</td><td>LG_English</td><td> -- </td><td> -- </td><td>none</td><td>dDRKd</td><td>16</td><td>38%</td><td>33%</td><td>13%</td></tr><tr><td>POC-English-Amb</td><td>LG_English</td><td> -- </td><td> -- </td><td>rules</td><td>dDRKd</td><td>16</td><td>1%</td><td>1%</td><td>0%</td></tr><tr><td>POC-English-Amb</td><td>R=6_Weight=6:R_mst-weight=1:R</td><td>LW</td><td> + </td><td>none</td><td>dDRKd</td><td>35</td><td>73%</td><td>41%</td><td>30%</td></tr><tr><td>POC-English-Amb</td><td>R=6_Weight=6:R_mst-weight=1:R</td><td> -- </td><td> -- </td><td>none</td><td>dDRKd</td><td>3</td><td>95%</td><td>63%</td><td>60%</td></tr><tr><td>POC-English-Amb</td><td>R=6_Weight=6:R_mst-weight=1:R</td><td> -- </td><td> -- </td><td>rules</td><td>dDRKd</td><td>3</td><td>95%</td><td>62%</td><td>59%</td></tr></table>"
      ],
      "text/plain": [
       "<IPython.core.display.HTML object>"
      ]
     },
     "metadata": {},
     "output_type": "display_data"
    }
   ],
   "source": [
    "display(html_table([header]+average23))"
   ]
  },
  {
   "cell_type": "markdown",
   "metadata": {},
   "source": [
    "## Disjuncts-ILE-Disjuncts"
   ]
  },
  {
   "cell_type": "code",
   "execution_count": 12,
   "metadata": {},
   "outputs": [],
   "source": [
    "%%capture\n",
    "kwargs['context'] = 2\n",
    "kwargs['word_space'] = 'discrete'\n",
    "kwargs['clustering'] = 'group'\n",
    "kwargs['grammar_rules'] = 2\n",
    "average24, long24 = run_test(**kwargs)\n",
    "table.extend(average24)\n",
    "long_table.extend(long24)"
   ]
  },
  {
   "cell_type": "code",
   "execution_count": 13,
   "metadata": {},
   "outputs": [
    {
     "data": {
      "text/html": [
       "<table><tr><td>Corpus</td><td>Parsing</td><td>LW</td><td>\".\"</td><td>Generalization</td><td>Space</td><td>Rules</td><td>PA</td><td>PQ</td><td>PQA</td></tr><tr><td>POC-English-Amb</td><td>MST_fixed_manually</td><td>LW</td><td> + </td><td>none</td><td>dILEd</td><td>39</td><td>12%</td><td>6%</td><td>1%</td></tr><tr><td>POC-English-Amb</td><td>MST_fixed_manually</td><td> -- </td><td> -- </td><td>none</td><td>dILEd</td><td>37</td><td>36%</td><td>33%</td><td>12%</td></tr><tr><td>POC-English-Amb</td><td>MST_fixed_manually</td><td> -- </td><td> -- </td><td>rules</td><td>dILEd</td><td>28</td><td>2%</td><td>2%</td><td>0%</td></tr><tr><td>POC-English-Amb</td><td>MST_fixed_manually</td><td> -- </td><td> -- </td><td>both</td><td>dILEd</td><td>28</td><td>42%</td><td>38%</td><td>16%</td></tr><tr><td>POC-English-Amb</td><td>LG_English</td><td>LW</td><td> + </td><td>none</td><td>dILEd</td><td>39</td><td>6%</td><td>3%</td><td>0%</td></tr><tr><td>POC-English-Amb</td><td>LG_English</td><td> -- </td><td> -- </td><td>none</td><td>dILEd</td><td>37</td><td>27%</td><td>23%</td><td>6%</td></tr><tr><td>POC-English-Amb</td><td>LG_English</td><td> -- </td><td> -- </td><td>rules</td><td>dILEd</td><td>31</td><td>0%</td><td>0%</td><td>0%</td></tr><tr><td>POC-English-Amb</td><td>LG_English</td><td> -- </td><td> -- </td><td>both</td><td>dILEd</td><td>31</td><td>28%</td><td>24%</td><td>7%</td></tr><tr><td>POC-English-Amb</td><td>R=6_Weight=6:R_mst-weight=1:R</td><td>LW</td><td> + </td><td>none</td><td>dILEd</td><td>40</td><td>65%</td><td>35%</td><td>23%</td></tr><tr><td>POC-English-Amb</td><td>R=6_Weight=6:R_mst-weight=1:R</td><td> -- </td><td> -- </td><td>none</td><td>dILEd</td><td>38</td><td>54%</td><td>33%</td><td>18%</td></tr><tr><td>POC-English-Amb</td><td>R=6_Weight=6:R_mst-weight=1:R</td><td> -- </td><td> -- </td><td>rules</td><td>dILEd</td><td>34</td><td>16%</td><td>9%</td><td>1%</td></tr><tr><td>POC-English-Amb</td><td>R=6_Weight=6:R_mst-weight=1:R</td><td> -- </td><td> -- </td><td>both</td><td>dILEd</td><td>34</td><td>71%</td><td>43%</td><td>31%</td></tr></table>"
      ],
      "text/plain": [
       "<IPython.core.display.HTML object>"
      ]
     },
     "metadata": {},
     "output_type": "display_data"
    }
   ],
   "source": [
    "display(html_table([header]+average24))"
   ]
  },
  {
   "cell_type": "markdown",
   "metadata": {},
   "source": [
    "## All calculations"
   ]
  },
  {
   "cell_type": "code",
   "execution_count": 14,
   "metadata": {},
   "outputs": [
    {
     "data": {
      "text/html": [
       "<table><tr><td>Corpus</td><td>Parsing</td><td>LW</td><td>\".\"</td><td>Generalization</td><td>Space</td><td>Rules</td><td>PA</td><td>PQ</td><td>PQA</td></tr><tr><td>POC-English-Amb</td><td>MST_fixed_manually</td><td>LW</td><td> + </td><td>none</td><td>cDRKc</td><td> 29 </td><td>67%</td><td>36%</td><td>24%</td></tr><tr><td>POC-English-Amb</td><td>MST_fixed_manually</td><td>LW</td><td> + </td><td>none</td><td>cDRKc</td><td> 29 </td><td>67%</td><td>36%</td><td>24%</td></tr><tr><td>POC-English-Amb</td><td>MST_fixed_manually</td><td>LW</td><td> + </td><td>none</td><td>cDRKc</td><td> 28 </td><td>67%</td><td>36%</td><td>24%</td></tr><tr><td>POC-English-Amb</td><td>MST_fixed_manually</td><td>LW</td><td> + </td><td>none</td><td>cDRKc</td><td> 28 </td><td>67%</td><td>36%</td><td>24%</td></tr><tr><td>POC-English-Amb</td><td>MST_fixed_manually</td><td>LW</td><td> + </td><td>none</td><td>cDRKc</td><td> 30 </td><td>67%</td><td>36%</td><td>24%</td></tr><tr><td>POC-English-Amb</td><td>MST_fixed_manually</td><td>LW</td><td> + </td><td>none</td><td>cDRKc</td><td> 30 </td><td>67%</td><td>36%</td><td>24%</td></tr><tr><td>POC-English-Amb</td><td>MST_fixed_manually</td><td>LW</td><td> + </td><td>none</td><td>cDRKc</td><td> 25 </td><td>67%</td><td>36%</td><td>24%</td></tr><tr><td>POC-English-Amb</td><td>MST_fixed_manually</td><td>LW</td><td> + </td><td>none</td><td>cDRKc</td><td> 25 </td><td>67%</td><td>36%</td><td>24%</td></tr><tr><td>POC-English-Amb</td><td>MST_fixed_manually</td><td>LW</td><td> + </td><td>none</td><td>cDRKc</td><td> 22 </td><td>67%</td><td>36%</td><td>24%</td></tr><tr><td>POC-English-Amb</td><td>MST_fixed_manually</td><td>LW</td><td> + </td><td>none</td><td>cDRKc</td><td> 22 </td><td>67%</td><td>36%</td><td>24%</td></tr><tr><td>POC-English-Amb</td><td>MST_fixed_manually</td><td> -- </td><td> -- </td><td>none</td><td>cDRKc</td><td> 30 </td><td>71%</td><td>63%</td><td>45%</td></tr><tr><td>POC-English-Amb</td><td>MST_fixed_manually</td><td> -- </td><td> -- </td><td>none</td><td>cDRKc</td><td> 30 </td><td>71%</td><td>63%</td><td>45%</td></tr><tr><td>POC-English-Amb</td><td>MST_fixed_manually</td><td> -- </td><td> -- </td><td>none</td><td>cDRKc</td><td> 31 </td><td>71%</td><td>63%</td><td>45%</td></tr><tr><td>POC-English-Amb</td><td>MST_fixed_manually</td><td> -- </td><td> -- </td><td>none</td><td>cDRKc</td><td> 31 </td><td>71%</td><td>63%</td><td>45%</td></tr><tr><td>POC-English-Amb</td><td>MST_fixed_manually</td><td> -- </td><td> -- </td><td>none</td><td>cDRKc</td><td> 25 </td><td>71%</td><td>61%</td><td>43%</td></tr><tr><td>POC-English-Amb</td><td>MST_fixed_manually</td><td> -- </td><td> -- </td><td>none</td><td>cDRKc</td><td> 25 </td><td>71%</td><td>61%</td><td>43%</td></tr><tr><td>POC-English-Amb</td><td>MST_fixed_manually</td><td> -- </td><td> -- </td><td>none</td><td>cDRKc</td><td> 24 </td><td>71%</td><td>61%</td><td>43%</td></tr><tr><td>POC-English-Amb</td><td>MST_fixed_manually</td><td> -- </td><td> -- </td><td>none</td><td>cDRKc</td><td> 24 </td><td>71%</td><td>61%</td><td>43%</td></tr><tr><td>POC-English-Amb</td><td>MST_fixed_manually</td><td> -- </td><td> -- </td><td>none</td><td>cDRKc</td><td> 29 </td><td>71%</td><td>63%</td><td>45%</td></tr><tr><td>POC-English-Amb</td><td>MST_fixed_manually</td><td> -- </td><td> -- </td><td>none</td><td>cDRKc</td><td> 29 </td><td>71%</td><td>63%</td><td>45%</td></tr><tr><td>POC-English-Amb</td><td>LG_English</td><td>LW</td><td> + </td><td>none</td><td>cDRKc</td><td> 33 </td><td>76%</td><td>36%</td><td>27%</td></tr><tr><td>POC-English-Amb</td><td>LG_English</td><td>LW</td><td> + </td><td>none</td><td>cDRKc</td><td> 33 </td><td>76%</td><td>36%</td><td>27%</td></tr><tr><td>POC-English-Amb</td><td>LG_English</td><td>LW</td><td> + </td><td>none</td><td>cDRKc</td><td> 22 </td><td>76%</td><td>36%</td><td>27%</td></tr><tr><td>POC-English-Amb</td><td>LG_English</td><td>LW</td><td> + </td><td>none</td><td>cDRKc</td><td> 22 </td><td>76%</td><td>36%</td><td>27%</td></tr><tr><td>POC-English-Amb</td><td>LG_English</td><td>LW</td><td> + </td><td>none</td><td>cDRKc</td><td> 29 </td><td>79%</td><td>46%</td><td>36%</td></tr><tr><td>POC-English-Amb</td><td>LG_English</td><td>LW</td><td> + </td><td>none</td><td>cDRKc</td><td> 29 </td><td>79%</td><td>46%</td><td>36%</td></tr><tr><td>POC-English-Amb</td><td>LG_English</td><td>LW</td><td> + </td><td>none</td><td>cDRKc</td><td> 25 </td><td>79%</td><td>46%</td><td>36%</td></tr><tr><td>POC-English-Amb</td><td>LG_English</td><td>LW</td><td> + </td><td>none</td><td>cDRKc</td><td> 25 </td><td>79%</td><td>46%</td><td>36%</td></tr><tr><td>POC-English-Amb</td><td>LG_English</td><td>LW</td><td> + </td><td>none</td><td>cDRKc</td><td> 28 </td><td>79%</td><td>46%</td><td>36%</td></tr><tr><td>POC-English-Amb</td><td>LG_English</td><td>LW</td><td> + </td><td>none</td><td>cDRKc</td><td> 28 </td><td>79%</td><td>46%</td><td>36%</td></tr><tr><td>POC-English-Amb</td><td>LG_English</td><td> -- </td><td> -- </td><td>none</td><td>cDRKc</td><td> 30 </td><td>79%</td><td>64%</td><td>51%</td></tr><tr><td>POC-English-Amb</td><td>LG_English</td><td> -- </td><td> -- </td><td>none</td><td>cDRKc</td><td> 30 </td><td>79%</td><td>64%</td><td>51%</td></tr><tr><td>POC-English-Amb</td><td>LG_English</td><td> -- </td><td> -- </td><td>none</td><td>cDRKc</td><td> 32 </td><td>79%</td><td>64%</td><td>51%</td></tr><tr><td>POC-English-Amb</td><td>LG_English</td><td> -- </td><td> -- </td><td>none</td><td>cDRKc</td><td> 32 </td><td>79%</td><td>64%</td><td>51%</td></tr><tr><td>POC-English-Amb</td><td>LG_English</td><td> -- </td><td> -- </td><td>none</td><td>cDRKc</td><td> 27 </td><td>79%</td><td>64%</td><td>51%</td></tr><tr><td>POC-English-Amb</td><td>LG_English</td><td> -- </td><td> -- </td><td>none</td><td>cDRKc</td><td> 27 </td><td>79%</td><td>64%</td><td>51%</td></tr><tr><td>POC-English-Amb</td><td>LG_English</td><td> -- </td><td> -- </td><td>none</td><td>cDRKc</td><td> 32 </td><td>79%</td><td>64%</td><td>51%</td></tr><tr><td>POC-English-Amb</td><td>LG_English</td><td> -- </td><td> -- </td><td>none</td><td>cDRKc</td><td> 32 </td><td>79%</td><td>64%</td><td>51%</td></tr><tr><td>POC-English-Amb</td><td>LG_English</td><td> -- </td><td> -- </td><td>none</td><td>cDRKc</td><td> 20 </td><td>79%</td><td>64%</td><td>51%</td></tr><tr><td>POC-English-Amb</td><td>LG_English</td><td> -- </td><td> -- </td><td>none</td><td>cDRKc</td><td> 20 </td><td>79%</td><td>64%</td><td>51%</td></tr><tr><td>POC-English-Amb</td><td>R=6_Weight=6:R_mst-weight=1:R</td><td>LW</td><td> + </td><td>none</td><td>cDRKc</td><td> 28 </td><td>86%</td><td>52%</td><td>45%</td></tr><tr><td>POC-English-Amb</td><td>R=6_Weight=6:R_mst-weight=1:R</td><td>LW</td><td> + </td><td>none</td><td>cDRKc</td><td> 28 </td><td>86%</td><td>52%</td><td>45%</td></tr><tr><td>POC-English-Amb</td><td>R=6_Weight=6:R_mst-weight=1:R</td><td>LW</td><td> + </td><td>none</td><td>cDRKc</td><td> 30 </td><td>86%</td><td>52%</td><td>45%</td></tr><tr><td>POC-English-Amb</td><td>R=6_Weight=6:R_mst-weight=1:R</td><td>LW</td><td> + </td><td>none</td><td>cDRKc</td><td> 30 </td><td>86%</td><td>52%</td><td>45%</td></tr><tr><td>POC-English-Amb</td><td>R=6_Weight=6:R_mst-weight=1:R</td><td>LW</td><td> + </td><td>none</td><td>cDRKc</td><td> 29 </td><td>85%</td><td>50%</td><td>42%</td></tr><tr><td>POC-English-Amb</td><td>R=6_Weight=6:R_mst-weight=1:R</td><td>LW</td><td> + </td><td>none</td><td>cDRKc</td><td> 29 </td><td>85%</td><td>50%</td><td>42%</td></tr><tr><td>POC-English-Amb</td><td>R=6_Weight=6:R_mst-weight=1:R</td><td>LW</td><td> + </td><td>none</td><td>cDRKc</td><td> 26 </td><td>85%</td><td>50%</td><td>42%</td></tr><tr><td>POC-English-Amb</td><td>R=6_Weight=6:R_mst-weight=1:R</td><td>LW</td><td> + </td><td>none</td><td>cDRKc</td><td> 26 </td><td>85%</td><td>50%</td><td>42%</td></tr><tr><td>POC-English-Amb</td><td>R=6_Weight=6:R_mst-weight=1:R</td><td>LW</td><td> + </td><td>none</td><td>cDRKc</td><td> 30 </td><td>85%</td><td>50%</td><td>42%</td></tr><tr><td>POC-English-Amb</td><td>R=6_Weight=6:R_mst-weight=1:R</td><td>LW</td><td> + </td><td>none</td><td>cDRKc</td><td> 30 </td><td>85%</td><td>50%</td><td>42%</td></tr><tr><td>POC-English-Amb</td><td>R=6_Weight=6:R_mst-weight=1:R</td><td> -- </td><td> -- </td><td>none</td><td>cDRKc</td><td> 26 </td><td>80%</td><td>48%</td><td>38%</td></tr><tr><td>POC-English-Amb</td><td>R=6_Weight=6:R_mst-weight=1:R</td><td> -- </td><td> -- </td><td>none</td><td>cDRKc</td><td> 26 </td><td>80%</td><td>48%</td><td>38%</td></tr><tr><td>POC-English-Amb</td><td>R=6_Weight=6:R_mst-weight=1:R</td><td> -- </td><td> -- </td><td>none</td><td>cDRKc</td><td> 26 </td><td>81%</td><td>48%</td><td>39%</td></tr><tr><td>POC-English-Amb</td><td>R=6_Weight=6:R_mst-weight=1:R</td><td> -- </td><td> -- </td><td>none</td><td>cDRKc</td><td> 26 </td><td>81%</td><td>48%</td><td>39%</td></tr><tr><td>POC-English-Amb</td><td>R=6_Weight=6:R_mst-weight=1:R</td><td> -- </td><td> -- </td><td>none</td><td>cDRKc</td><td> 25 </td><td>81%</td><td>48%</td><td>39%</td></tr><tr><td>POC-English-Amb</td><td>R=6_Weight=6:R_mst-weight=1:R</td><td> -- </td><td> -- </td><td>none</td><td>cDRKc</td><td> 25 </td><td>81%</td><td>48%</td><td>39%</td></tr><tr><td>POC-English-Amb</td><td>R=6_Weight=6:R_mst-weight=1:R</td><td> -- </td><td> -- </td><td>none</td><td>cDRKc</td><td> 25 </td><td>81%</td><td>48%</td><td>39%</td></tr><tr><td>POC-English-Amb</td><td>R=6_Weight=6:R_mst-weight=1:R</td><td> -- </td><td> -- </td><td>none</td><td>cDRKc</td><td> 25 </td><td>81%</td><td>48%</td><td>39%</td></tr><tr><td>POC-English-Amb</td><td>R=6_Weight=6:R_mst-weight=1:R</td><td> -- </td><td> -- </td><td>none</td><td>cDRKc</td><td> 22 </td><td>81%</td><td>48%</td><td>39%</td></tr><tr><td>POC-English-Amb</td><td>R=6_Weight=6:R_mst-weight=1:R</td><td> -- </td><td> -- </td><td>none</td><td>cDRKc</td><td> 22 </td><td>81%</td><td>48%</td><td>39%</td></tr><tr><td>POC-English-Amb</td><td>MST_fixed_manually</td><td>LW</td><td> + </td><td>none</td><td>cDRKd</td><td> 28 </td><td>39%</td><td>16%</td><td>6%</td></tr><tr><td>POC-English-Amb</td><td>MST_fixed_manually</td><td>LW</td><td> + </td><td>none</td><td>cDRKd</td><td> 28 </td><td>39%</td><td>16%</td><td>6%</td></tr><tr><td>POC-English-Amb</td><td>MST_fixed_manually</td><td>LW</td><td> + </td><td>none</td><td>cDRKd</td><td> 30 </td><td>39%</td><td>16%</td><td>6%</td></tr><tr><td>POC-English-Amb</td><td>MST_fixed_manually</td><td>LW</td><td> + </td><td>none</td><td>cDRKd</td><td> 30 </td><td>39%</td><td>16%</td><td>6%</td></tr><tr><td>POC-English-Amb</td><td>MST_fixed_manually</td><td>LW</td><td> + </td><td>none</td><td>cDRKd</td><td> 29 </td><td>39%</td><td>16%</td><td>6%</td></tr><tr><td>POC-English-Amb</td><td>MST_fixed_manually</td><td>LW</td><td> + </td><td>none</td><td>cDRKd</td><td> 29 </td><td>39%</td><td>16%</td><td>6%</td></tr><tr><td>POC-English-Amb</td><td>MST_fixed_manually</td><td>LW</td><td> + </td><td>none</td><td>cDRKd</td><td> 31 </td><td>39%</td><td>16%</td><td>6%</td></tr><tr><td>POC-English-Amb</td><td>MST_fixed_manually</td><td>LW</td><td> + </td><td>none</td><td>cDRKd</td><td> 31 </td><td>39%</td><td>16%</td><td>6%</td></tr><tr><td>POC-English-Amb</td><td>MST_fixed_manually</td><td>LW</td><td> + </td><td>none</td><td>cDRKd</td><td> 28 </td><td>39%</td><td>16%</td><td>6%</td></tr><tr><td>POC-English-Amb</td><td>MST_fixed_manually</td><td>LW</td><td> + </td><td>none</td><td>cDRKd</td><td> 28 </td><td>39%</td><td>16%</td><td>6%</td></tr><tr><td>POC-English-Amb</td><td>MST_fixed_manually</td><td> -- </td><td> -- </td><td>none</td><td>cDRKd</td><td> 27 </td><td>41%</td><td>38%</td><td>16%</td></tr><tr><td>POC-English-Amb</td><td>MST_fixed_manually</td><td> -- </td><td> -- </td><td>none</td><td>cDRKd</td><td> 27 </td><td>41%</td><td>38%</td><td>16%</td></tr><tr><td>POC-English-Amb</td><td>MST_fixed_manually</td><td> -- </td><td> -- </td><td>none</td><td>cDRKd</td><td> 31 </td><td>41%</td><td>38%</td><td>16%</td></tr><tr><td>POC-English-Amb</td><td>MST_fixed_manually</td><td> -- </td><td> -- </td><td>none</td><td>cDRKd</td><td> 31 </td><td>41%</td><td>38%</td><td>16%</td></tr><tr><td>POC-English-Amb</td><td>MST_fixed_manually</td><td> -- </td><td> -- </td><td>none</td><td>cDRKd</td><td> 22 </td><td>41%</td><td>38%</td><td>16%</td></tr><tr><td>POC-English-Amb</td><td>MST_fixed_manually</td><td> -- </td><td> -- </td><td>none</td><td>cDRKd</td><td> 22 </td><td>41%</td><td>38%</td><td>16%</td></tr><tr><td>POC-English-Amb</td><td>MST_fixed_manually</td><td> -- </td><td> -- </td><td>none</td><td>cDRKd</td><td> 30 </td><td>41%</td><td>38%</td><td>16%</td></tr><tr><td>POC-English-Amb</td><td>MST_fixed_manually</td><td> -- </td><td> -- </td><td>none</td><td>cDRKd</td><td> 30 </td><td>41%</td><td>38%</td><td>16%</td></tr><tr><td>POC-English-Amb</td><td>MST_fixed_manually</td><td> -- </td><td> -- </td><td>none</td><td>cDRKd</td><td> 31 </td><td>41%</td><td>38%</td><td>16%</td></tr><tr><td>POC-English-Amb</td><td>MST_fixed_manually</td><td> -- </td><td> -- </td><td>none</td><td>cDRKd</td><td> 31 </td><td>41%</td><td>38%</td><td>16%</td></tr><tr><td>POC-English-Amb</td><td>MST_fixed_manually</td><td> -- </td><td> -- </td><td>rules</td><td>cDRKd</td><td> 26 </td><td>3%</td><td>3%</td><td>0%</td></tr><tr><td>POC-English-Amb</td><td>MST_fixed_manually</td><td> -- </td><td> -- </td><td>rules</td><td>cDRKd</td><td> 26 </td><td>3%</td><td>3%</td><td>0%</td></tr><tr><td>POC-English-Amb</td><td>MST_fixed_manually</td><td> -- </td><td> -- </td><td>rules</td><td>cDRKd</td><td> 26 </td><td>7%</td><td>6%</td><td>0%</td></tr><tr><td>POC-English-Amb</td><td>MST_fixed_manually</td><td> -- </td><td> -- </td><td>rules</td><td>cDRKd</td><td> 26 </td><td>7%</td><td>6%</td><td>0%</td></tr><tr><td>POC-English-Amb</td><td>MST_fixed_manually</td><td> -- </td><td> -- </td><td>rules</td><td>cDRKd</td><td> 27 </td><td>3%</td><td>3%</td><td>0%</td></tr><tr><td>POC-English-Amb</td><td>MST_fixed_manually</td><td> -- </td><td> -- </td><td>rules</td><td>cDRKd</td><td> 27 </td><td>3%</td><td>3%</td><td>0%</td></tr><tr><td>POC-English-Amb</td><td>MST_fixed_manually</td><td> -- </td><td> -- </td><td>rules</td><td>cDRKd</td><td> 27 </td><td>3%</td><td>3%</td><td>0%</td></tr><tr><td>POC-English-Amb</td><td>MST_fixed_manually</td><td> -- </td><td> -- </td><td>rules</td><td>cDRKd</td><td> 27 </td><td>3%</td><td>3%</td><td>0%</td></tr><tr><td>POC-English-Amb</td><td>MST_fixed_manually</td><td> -- </td><td> -- </td><td>rules</td><td>cDRKd</td><td> 24 </td><td>3%</td><td>3%</td><td>0%</td></tr><tr><td>POC-English-Amb</td><td>MST_fixed_manually</td><td> -- </td><td> -- </td><td>rules</td><td>cDRKd</td><td> 24 </td><td>3%</td><td>3%</td><td>0%</td></tr><tr><td>POC-English-Amb</td><td>LG_English</td><td>LW</td><td> + </td><td>none</td><td>cDRKd</td><td> 21 </td><td>35%</td><td>14%</td><td>5%</td></tr><tr><td>POC-English-Amb</td><td>LG_English</td><td>LW</td><td> + </td><td>none</td><td>cDRKd</td><td> 21 </td><td>35%</td><td>14%</td><td>5%</td></tr><tr><td>POC-English-Amb</td><td>LG_English</td><td>LW</td><td> + </td><td>none</td><td>cDRKd</td><td> 33 </td><td>12%</td><td>8%</td><td>1%</td></tr><tr><td>POC-English-Amb</td><td>LG_English</td><td>LW</td><td> + </td><td>none</td><td>cDRKd</td><td> 33 </td><td>12%</td><td>8%</td><td>1%</td></tr><tr><td>POC-English-Amb</td><td>LG_English</td><td>LW</td><td> + </td><td>none</td><td>cDRKd</td><td> 29 </td><td>21%</td><td>12%</td><td>3%</td></tr><tr><td>POC-English-Amb</td><td>LG_English</td><td>LW</td><td> + </td><td>none</td><td>cDRKd</td><td> 29 </td><td>21%</td><td>12%</td><td>3%</td></tr><tr><td>POC-English-Amb</td><td>LG_English</td><td>LW</td><td> + </td><td>none</td><td>cDRKd</td><td> 27 </td><td>30%</td><td>13%</td><td>4%</td></tr><tr><td>POC-English-Amb</td><td>LG_English</td><td>LW</td><td> + </td><td>none</td><td>cDRKd</td><td> 27 </td><td>30%</td><td>13%</td><td>4%</td></tr><tr><td>POC-English-Amb</td><td>LG_English</td><td>LW</td><td> + </td><td>none</td><td>cDRKd</td><td> 33 </td><td>30%</td><td>13%</td><td>4%</td></tr><tr><td>POC-English-Amb</td><td>LG_English</td><td>LW</td><td> + </td><td>none</td><td>cDRKd</td><td> 33 </td><td>30%</td><td>13%</td><td>4%</td></tr><tr><td>POC-English-Amb</td><td>LG_English</td><td> -- </td><td> -- </td><td>none</td><td>cDRKd</td><td> 30 </td><td>31%</td><td>26%</td><td>8%</td></tr><tr><td>POC-English-Amb</td><td>LG_English</td><td> -- </td><td> -- </td><td>none</td><td>cDRKd</td><td> 30 </td><td>31%</td><td>26%</td><td>8%</td></tr><tr><td>POC-English-Amb</td><td>LG_English</td><td> -- </td><td> -- </td><td>none</td><td>cDRKd</td><td> 30 </td><td>35%</td><td>30%</td><td>10%</td></tr><tr><td>POC-English-Amb</td><td>LG_English</td><td> -- </td><td> -- </td><td>none</td><td>cDRKd</td><td> 30 </td><td>35%</td><td>30%</td><td>10%</td></tr><tr><td>POC-English-Amb</td><td>LG_English</td><td> -- </td><td> -- </td><td>none</td><td>cDRKd</td><td> 31 </td><td>35%</td><td>30%</td><td>10%</td></tr><tr><td>POC-English-Amb</td><td>LG_English</td><td> -- </td><td> -- </td><td>none</td><td>cDRKd</td><td> 31 </td><td>35%</td><td>30%</td><td>10%</td></tr><tr><td>POC-English-Amb</td><td>LG_English</td><td> -- </td><td> -- </td><td>none</td><td>cDRKd</td><td> 31 </td><td>35%</td><td>30%</td><td>10%</td></tr><tr><td>POC-English-Amb</td><td>LG_English</td><td> -- </td><td> -- </td><td>none</td><td>cDRKd</td><td> 31 </td><td>35%</td><td>30%</td><td>10%</td></tr><tr><td>POC-English-Amb</td><td>LG_English</td><td> -- </td><td> -- </td><td>none</td><td>cDRKd</td><td> 29 </td><td>39%</td><td>32%</td><td>12%</td></tr><tr><td>POC-English-Amb</td><td>LG_English</td><td> -- </td><td> -- </td><td>none</td><td>cDRKd</td><td> 29 </td><td>39%</td><td>32%</td><td>12%</td></tr><tr><td>POC-English-Amb</td><td>LG_English</td><td> -- </td><td> -- </td><td>rules</td><td>cDRKd</td><td> 24 </td><td>13%</td><td>10%</td><td>1%</td></tr><tr><td>POC-English-Amb</td><td>LG_English</td><td> -- </td><td> -- </td><td>rules</td><td>cDRKd</td><td> 24 </td><td>13%</td><td>10%</td><td>1%</td></tr><tr><td>POC-English-Amb</td><td>LG_English</td><td> -- </td><td> -- </td><td>rules</td><td>cDRKd</td><td> 29 </td><td>1%</td><td>1%</td><td>0%</td></tr><tr><td>POC-English-Amb</td><td>LG_English</td><td> -- </td><td> -- </td><td>rules</td><td>cDRKd</td><td> 29 </td><td>1%</td><td>1%</td><td>0%</td></tr><tr><td>POC-English-Amb</td><td>LG_English</td><td> -- </td><td> -- </td><td>rules</td><td>cDRKd</td><td> 26 </td><td>1%</td><td>1%</td><td>0%</td></tr><tr><td>POC-English-Amb</td><td>LG_English</td><td> -- </td><td> -- </td><td>rules</td><td>cDRKd</td><td> 26 </td><td>1%</td><td>1%</td><td>0%</td></tr><tr><td>POC-English-Amb</td><td>LG_English</td><td> -- </td><td> -- </td><td>rules</td><td>cDRKd</td><td> 29 </td><td>1%</td><td>1%</td><td>0%</td></tr><tr><td>POC-English-Amb</td><td>LG_English</td><td> -- </td><td> -- </td><td>rules</td><td>cDRKd</td><td> 29 </td><td>1%</td><td>1%</td><td>0%</td></tr><tr><td>POC-English-Amb</td><td>LG_English</td><td> -- </td><td> -- </td><td>rules</td><td>cDRKd</td><td> 29 </td><td>1%</td><td>1%</td><td>0%</td></tr><tr><td>POC-English-Amb</td><td>LG_English</td><td> -- </td><td> -- </td><td>rules</td><td>cDRKd</td><td> 29 </td><td>1%</td><td>1%</td><td>0%</td></tr><tr><td>POC-English-Amb</td><td>R=6_Weight=6:R_mst-weight=1:R</td><td>LW</td><td> + </td><td>none</td><td>cDRKd</td><td> 31 </td><td>77%</td><td>44%</td><td>34%</td></tr><tr><td>POC-English-Amb</td><td>R=6_Weight=6:R_mst-weight=1:R</td><td>LW</td><td> + </td><td>none</td><td>cDRKd</td><td> 31 </td><td>77%</td><td>44%</td><td>34%</td></tr><tr><td>POC-English-Amb</td><td>R=6_Weight=6:R_mst-weight=1:R</td><td>LW</td><td> + </td><td>none</td><td>cDRKd</td><td> 26 </td><td>77%</td><td>45%</td><td>35%</td></tr><tr><td>POC-English-Amb</td><td>R=6_Weight=6:R_mst-weight=1:R</td><td>LW</td><td> + </td><td>none</td><td>cDRKd</td><td> 26 </td><td>77%</td><td>45%</td><td>35%</td></tr><tr><td>POC-English-Amb</td><td>R=6_Weight=6:R_mst-weight=1:R</td><td>LW</td><td> + </td><td>none</td><td>cDRKd</td><td> 30 </td><td>77%</td><td>44%</td><td>34%</td></tr><tr><td>POC-English-Amb</td><td>R=6_Weight=6:R_mst-weight=1:R</td><td>LW</td><td> + </td><td>none</td><td>cDRKd</td><td> 30 </td><td>77%</td><td>44%</td><td>34%</td></tr><tr><td>POC-English-Amb</td><td>R=6_Weight=6:R_mst-weight=1:R</td><td>LW</td><td> + </td><td>none</td><td>cDRKd</td><td> 26 </td><td>77%</td><td>44%</td><td>34%</td></tr><tr><td>POC-English-Amb</td><td>R=6_Weight=6:R_mst-weight=1:R</td><td>LW</td><td> + </td><td>none</td><td>cDRKd</td><td> 26 </td><td>77%</td><td>44%</td><td>34%</td></tr><tr><td>POC-English-Amb</td><td>R=6_Weight=6:R_mst-weight=1:R</td><td>LW</td><td> + </td><td>none</td><td>cDRKd</td><td> 24 </td><td>83%</td><td>46%</td><td>38%</td></tr><tr><td>POC-English-Amb</td><td>R=6_Weight=6:R_mst-weight=1:R</td><td>LW</td><td> + </td><td>none</td><td>cDRKd</td><td> 24 </td><td>83%</td><td>46%</td><td>38%</td></tr><tr><td>POC-English-Amb</td><td>R=6_Weight=6:R_mst-weight=1:R</td><td> -- </td><td> -- </td><td>none</td><td>cDRKd</td><td> 28 </td><td>69%</td><td>40%</td><td>28%</td></tr><tr><td>POC-English-Amb</td><td>R=6_Weight=6:R_mst-weight=1:R</td><td> -- </td><td> -- </td><td>none</td><td>cDRKd</td><td> 28 </td><td>69%</td><td>40%</td><td>28%</td></tr><tr><td>POC-English-Amb</td><td>R=6_Weight=6:R_mst-weight=1:R</td><td> -- </td><td> -- </td><td>none</td><td>cDRKd</td><td> 23 </td><td>69%</td><td>40%</td><td>28%</td></tr><tr><td>POC-English-Amb</td><td>R=6_Weight=6:R_mst-weight=1:R</td><td> -- </td><td> -- </td><td>none</td><td>cDRKd</td><td> 23 </td><td>69%</td><td>40%</td><td>28%</td></tr><tr><td>POC-English-Amb</td><td>R=6_Weight=6:R_mst-weight=1:R</td><td> -- </td><td> -- </td><td>none</td><td>cDRKd</td><td> 28 </td><td>69%</td><td>40%</td><td>28%</td></tr><tr><td>POC-English-Amb</td><td>R=6_Weight=6:R_mst-weight=1:R</td><td> -- </td><td> -- </td><td>none</td><td>cDRKd</td><td> 28 </td><td>69%</td><td>40%</td><td>28%</td></tr><tr><td>POC-English-Amb</td><td>R=6_Weight=6:R_mst-weight=1:R</td><td> -- </td><td> -- </td><td>none</td><td>cDRKd</td><td> 23 </td><td>69%</td><td>40%</td><td>28%</td></tr><tr><td>POC-English-Amb</td><td>R=6_Weight=6:R_mst-weight=1:R</td><td> -- </td><td> -- </td><td>none</td><td>cDRKd</td><td> 23 </td><td>69%</td><td>40%</td><td>28%</td></tr><tr><td>POC-English-Amb</td><td>R=6_Weight=6:R_mst-weight=1:R</td><td> -- </td><td> -- </td><td>none</td><td>cDRKd</td><td> 25 </td><td>75%</td><td>45%</td><td>34%</td></tr><tr><td>POC-English-Amb</td><td>R=6_Weight=6:R_mst-weight=1:R</td><td> -- </td><td> -- </td><td>none</td><td>cDRKd</td><td> 25 </td><td>75%</td><td>45%</td><td>34%</td></tr><tr><td>POC-English-Amb</td><td>R=6_Weight=6:R_mst-weight=1:R</td><td> -- </td><td> -- </td><td>rules</td><td>cDRKd</td><td> 22 </td><td>16%</td><td>9%</td><td>1%</td></tr><tr><td>POC-English-Amb</td><td>R=6_Weight=6:R_mst-weight=1:R</td><td> -- </td><td> -- </td><td>rules</td><td>cDRKd</td><td> 22 </td><td>16%</td><td>9%</td><td>1%</td></tr><tr><td>POC-English-Amb</td><td>R=6_Weight=6:R_mst-weight=1:R</td><td> -- </td><td> -- </td><td>rules</td><td>cDRKd</td><td> 23 </td><td>16%</td><td>9%</td><td>1%</td></tr><tr><td>POC-English-Amb</td><td>R=6_Weight=6:R_mst-weight=1:R</td><td> -- </td><td> -- </td><td>rules</td><td>cDRKd</td><td> 23 </td><td>16%</td><td>9%</td><td>1%</td></tr><tr><td>POC-English-Amb</td><td>R=6_Weight=6:R_mst-weight=1:R</td><td> -- </td><td> -- </td><td>rules</td><td>cDRKd</td><td> 24 </td><td>16%</td><td>9%</td><td>1%</td></tr><tr><td>POC-English-Amb</td><td>R=6_Weight=6:R_mst-weight=1:R</td><td> -- </td><td> -- </td><td>rules</td><td>cDRKd</td><td> 24 </td><td>16%</td><td>9%</td><td>1%</td></tr><tr><td>POC-English-Amb</td><td>R=6_Weight=6:R_mst-weight=1:R</td><td> -- </td><td> -- </td><td>rules</td><td>cDRKd</td><td> 22 </td><td>16%</td><td>9%</td><td>1%</td></tr><tr><td>POC-English-Amb</td><td>R=6_Weight=6:R_mst-weight=1:R</td><td> -- </td><td> -- </td><td>rules</td><td>cDRKd</td><td> 22 </td><td>16%</td><td>9%</td><td>1%</td></tr><tr><td>POC-English-Amb</td><td>R=6_Weight=6:R_mst-weight=1:R</td><td> -- </td><td> -- </td><td>rules</td><td>cDRKd</td><td> 25 </td><td>16%</td><td>9%</td><td>1%</td></tr><tr><td>POC-English-Amb</td><td>R=6_Weight=6:R_mst-weight=1:R</td><td> -- </td><td> -- </td><td>rules</td><td>cDRKd</td><td> 25 </td><td>16%</td><td>9%</td><td>1%</td></tr><tr><td>POC-English-Amb</td><td>MST_fixed_manually</td><td>LW</td><td> + </td><td>none</td><td>dDRKd</td><td> 32 </td><td>17%</td><td>9%</td><td>2%</td></tr><tr><td>POC-English-Amb</td><td>MST_fixed_manually</td><td>LW</td><td> + </td><td>none</td><td>dDRKd</td><td> 32 </td><td>17%</td><td>9%</td><td>2%</td></tr><tr><td>POC-English-Amb</td><td>MST_fixed_manually</td><td>LW</td><td> + </td><td>none</td><td>dDRKd</td><td> 32 </td><td>17%</td><td>9%</td><td>2%</td></tr><tr><td>POC-English-Amb</td><td>MST_fixed_manually</td><td>LW</td><td> + </td><td>none</td><td>dDRKd</td><td> 32 </td><td>17%</td><td>9%</td><td>2%</td></tr><tr><td>POC-English-Amb</td><td>MST_fixed_manually</td><td>LW</td><td> + </td><td>none</td><td>dDRKd</td><td> 30 </td><td>17%</td><td>9%</td><td>2%</td></tr><tr><td>POC-English-Amb</td><td>MST_fixed_manually</td><td>LW</td><td> + </td><td>none</td><td>dDRKd</td><td> 30 </td><td>17%</td><td>9%</td><td>2%</td></tr><tr><td>POC-English-Amb</td><td>MST_fixed_manually</td><td>LW</td><td> + </td><td>none</td><td>dDRKd</td><td> 29 </td><td>17%</td><td>9%</td><td>2%</td></tr><tr><td>POC-English-Amb</td><td>MST_fixed_manually</td><td>LW</td><td> + </td><td>none</td><td>dDRKd</td><td> 29 </td><td>17%</td><td>9%</td><td>2%</td></tr><tr><td>POC-English-Amb</td><td>MST_fixed_manually</td><td>LW</td><td> + </td><td>none</td><td>dDRKd</td><td> 31 </td><td>17%</td><td>9%</td><td>2%</td></tr><tr><td>POC-English-Amb</td><td>MST_fixed_manually</td><td>LW</td><td> + </td><td>none</td><td>dDRKd</td><td> 31 </td><td>17%</td><td>9%</td><td>2%</td></tr><tr><td>POC-English-Amb</td><td>MST_fixed_manually</td><td> -- </td><td> -- </td><td>none</td><td>dDRKd</td><td> 5 </td><td>71%</td><td>52%</td><td>37%</td></tr><tr><td>POC-English-Amb</td><td>MST_fixed_manually</td><td> -- </td><td> -- </td><td>none</td><td>dDRKd</td><td> 5 </td><td>71%</td><td>52%</td><td>37%</td></tr><tr><td>POC-English-Amb</td><td>MST_fixed_manually</td><td> -- </td><td> -- </td><td>none</td><td>dDRKd</td><td> 5 </td><td>71%</td><td>53%</td><td>38%</td></tr><tr><td>POC-English-Amb</td><td>MST_fixed_manually</td><td> -- </td><td> -- </td><td>none</td><td>dDRKd</td><td> 5 </td><td>71%</td><td>53%</td><td>38%</td></tr><tr><td>POC-English-Amb</td><td>MST_fixed_manually</td><td> -- </td><td> -- </td><td>none</td><td>dDRKd</td><td> 4 </td><td>85%</td><td>61%</td><td>52%</td></tr><tr><td>POC-English-Amb</td><td>MST_fixed_manually</td><td> -- </td><td> -- </td><td>none</td><td>dDRKd</td><td> 4 </td><td>85%</td><td>61%</td><td>52%</td></tr><tr><td>POC-English-Amb</td><td>MST_fixed_manually</td><td> -- </td><td> -- </td><td>none</td><td>dDRKd</td><td> 5 </td><td>85%</td><td>61%</td><td>52%</td></tr><tr><td>POC-English-Amb</td><td>MST_fixed_manually</td><td> -- </td><td> -- </td><td>none</td><td>dDRKd</td><td> 5 </td><td>85%</td><td>61%</td><td>52%</td></tr><tr><td>POC-English-Amb</td><td>MST_fixed_manually</td><td> -- </td><td> -- </td><td>none</td><td>dDRKd</td><td> 5 </td><td>85%</td><td>61%</td><td>52%</td></tr><tr><td>POC-English-Amb</td><td>MST_fixed_manually</td><td> -- </td><td> -- </td><td>none</td><td>dDRKd</td><td> 5 </td><td>85%</td><td>61%</td><td>52%</td></tr><tr><td>POC-English-Amb</td><td>MST_fixed_manually</td><td> -- </td><td> -- </td><td>rules</td><td>dDRKd</td><td> 5 </td><td>82%</td><td>65%</td><td>53%</td></tr><tr><td>POC-English-Amb</td><td>MST_fixed_manually</td><td> -- </td><td> -- </td><td>rules</td><td>dDRKd</td><td> 5 </td><td>82%</td><td>65%</td><td>53%</td></tr><tr><td>POC-English-Amb</td><td>MST_fixed_manually</td><td> -- </td><td> -- </td><td>rules</td><td>dDRKd</td><td> 4 </td><td>81%</td><td>59%</td><td>48%</td></tr><tr><td>POC-English-Amb</td><td>MST_fixed_manually</td><td> -- </td><td> -- </td><td>rules</td><td>dDRKd</td><td> 4 </td><td>81%</td><td>59%</td><td>48%</td></tr><tr><td>POC-English-Amb</td><td>MST_fixed_manually</td><td> -- </td><td> -- </td><td>rules</td><td>dDRKd</td><td> 6 </td><td>76%</td><td>56%</td><td>43%</td></tr><tr><td>POC-English-Amb</td><td>MST_fixed_manually</td><td> -- </td><td> -- </td><td>rules</td><td>dDRKd</td><td> 6 </td><td>76%</td><td>56%</td><td>43%</td></tr><tr><td>POC-English-Amb</td><td>MST_fixed_manually</td><td> -- </td><td> -- </td><td>rules</td><td>dDRKd</td><td> 4 </td><td>76%</td><td>56%</td><td>43%</td></tr><tr><td>POC-English-Amb</td><td>MST_fixed_manually</td><td> -- </td><td> -- </td><td>rules</td><td>dDRKd</td><td> 4 </td><td>76%</td><td>56%</td><td>43%</td></tr><tr><td>POC-English-Amb</td><td>MST_fixed_manually</td><td> -- </td><td> -- </td><td>rules</td><td>dDRKd</td><td> 4 </td><td>76%</td><td>56%</td><td>43%</td></tr><tr><td>POC-English-Amb</td><td>MST_fixed_manually</td><td> -- </td><td> -- </td><td>rules</td><td>dDRKd</td><td> 4 </td><td>76%</td><td>56%</td><td>43%</td></tr><tr><td>POC-English-Amb</td><td>LG_English</td><td>LW</td><td> + </td><td>none</td><td>dDRKd</td><td> 3 </td><td>94%</td><td>43%</td><td>40%</td></tr><tr><td>POC-English-Amb</td><td>LG_English</td><td>LW</td><td> + </td><td>none</td><td>dDRKd</td><td> 3 </td><td>94%</td><td>43%</td><td>40%</td></tr><tr><td>POC-English-Amb</td><td>LG_English</td><td>LW</td><td> + </td><td>none</td><td>dDRKd</td><td> 3 </td><td>94%</td><td>43%</td><td>40%</td></tr><tr><td>POC-English-Amb</td><td>LG_English</td><td>LW</td><td> + </td><td>none</td><td>dDRKd</td><td> 3 </td><td>94%</td><td>43%</td><td>40%</td></tr><tr><td>POC-English-Amb</td><td>LG_English</td><td>LW</td><td> + </td><td>none</td><td>dDRKd</td><td> 3 </td><td>94%</td><td>43%</td><td>40%</td></tr><tr><td>POC-English-Amb</td><td>LG_English</td><td>LW</td><td> + </td><td>none</td><td>dDRKd</td><td> 3 </td><td>94%</td><td>43%</td><td>40%</td></tr><tr><td>POC-English-Amb</td><td>LG_English</td><td>LW</td><td> + </td><td>none</td><td>dDRKd</td><td> 3 </td><td>94%</td><td>43%</td><td>40%</td></tr><tr><td>POC-English-Amb</td><td>LG_English</td><td>LW</td><td> + </td><td>none</td><td>dDRKd</td><td> 3 </td><td>94%</td><td>43%</td><td>40%</td></tr><tr><td>POC-English-Amb</td><td>LG_English</td><td>LW</td><td> + </td><td>none</td><td>dDRKd</td><td> 3 </td><td>94%</td><td>43%</td><td>40%</td></tr><tr><td>POC-English-Amb</td><td>LG_English</td><td>LW</td><td> + </td><td>none</td><td>dDRKd</td><td> 3 </td><td>94%</td><td>43%</td><td>40%</td></tr><tr><td>POC-English-Amb</td><td>LG_English</td><td> -- </td><td> -- </td><td>none</td><td>dDRKd</td><td> 14 </td><td>43%</td><td>38%</td><td>16%</td></tr><tr><td>POC-English-Amb</td><td>LG_English</td><td> -- </td><td> -- </td><td>none</td><td>dDRKd</td><td> 14 </td><td>43%</td><td>38%</td><td>16%</td></tr><tr><td>POC-English-Amb</td><td>LG_English</td><td> -- </td><td> -- </td><td>none</td><td>dDRKd</td><td> 17 </td><td>43%</td><td>38%</td><td>16%</td></tr><tr><td>POC-English-Amb</td><td>LG_English</td><td> -- </td><td> -- </td><td>none</td><td>dDRKd</td><td> 17 </td><td>43%</td><td>38%</td><td>16%</td></tr><tr><td>POC-English-Amb</td><td>LG_English</td><td> -- </td><td> -- </td><td>none</td><td>dDRKd</td><td> 13 </td><td>33%</td><td>29%</td><td>10%</td></tr><tr><td>POC-English-Amb</td><td>LG_English</td><td> -- </td><td> -- </td><td>none</td><td>dDRKd</td><td> 13 </td><td>33%</td><td>29%</td><td>10%</td></tr><tr><td>POC-English-Amb</td><td>LG_English</td><td> -- </td><td> -- </td><td>none</td><td>dDRKd</td><td> 19 </td><td>33%</td><td>29%</td><td>10%</td></tr><tr><td>POC-English-Amb</td><td>LG_English</td><td> -- </td><td> -- </td><td>none</td><td>dDRKd</td><td> 19 </td><td>33%</td><td>29%</td><td>10%</td></tr><tr><td>POC-English-Amb</td><td>LG_English</td><td> -- </td><td> -- </td><td>none</td><td>dDRKd</td><td> 18 </td><td>38%</td><td>32%</td><td>12%</td></tr><tr><td>POC-English-Amb</td><td>LG_English</td><td> -- </td><td> -- </td><td>none</td><td>dDRKd</td><td> 18 </td><td>38%</td><td>32%</td><td>12%</td></tr><tr><td>POC-English-Amb</td><td>LG_English</td><td> -- </td><td> -- </td><td>rules</td><td>dDRKd</td><td> 20 </td><td>1%</td><td>1%</td><td>0%</td></tr><tr><td>POC-English-Amb</td><td>LG_English</td><td> -- </td><td> -- </td><td>rules</td><td>dDRKd</td><td> 20 </td><td>1%</td><td>1%</td><td>0%</td></tr><tr><td>POC-English-Amb</td><td>LG_English</td><td> -- </td><td> -- </td><td>rules</td><td>dDRKd</td><td> 13 </td><td>1%</td><td>1%</td><td>0%</td></tr><tr><td>POC-English-Amb</td><td>LG_English</td><td> -- </td><td> -- </td><td>rules</td><td>dDRKd</td><td> 13 </td><td>1%</td><td>1%</td><td>0%</td></tr><tr><td>POC-English-Amb</td><td>LG_English</td><td> -- </td><td> -- </td><td>rules</td><td>dDRKd</td><td> 15 </td><td>1%</td><td>1%</td><td>0%</td></tr><tr><td>POC-English-Amb</td><td>LG_English</td><td> -- </td><td> -- </td><td>rules</td><td>dDRKd</td><td> 15 </td><td>1%</td><td>1%</td><td>0%</td></tr><tr><td>POC-English-Amb</td><td>LG_English</td><td> -- </td><td> -- </td><td>rules</td><td>dDRKd</td><td> 19 </td><td>1%</td><td>1%</td><td>0%</td></tr><tr><td>POC-English-Amb</td><td>LG_English</td><td> -- </td><td> -- </td><td>rules</td><td>dDRKd</td><td> 19 </td><td>1%</td><td>1%</td><td>0%</td></tr><tr><td>POC-English-Amb</td><td>LG_English</td><td> -- </td><td> -- </td><td>rules</td><td>dDRKd</td><td> 12 </td><td>2%</td><td>1%</td><td>0%</td></tr><tr><td>POC-English-Amb</td><td>LG_English</td><td> -- </td><td> -- </td><td>rules</td><td>dDRKd</td><td> 12 </td><td>2%</td><td>1%</td><td>0%</td></tr><tr><td>POC-English-Amb</td><td>R=6_Weight=6:R_mst-weight=1:R</td><td>LW</td><td> + </td><td>none</td><td>dDRKd</td><td> 36 </td><td>73%</td><td>41%</td><td>30%</td></tr><tr><td>POC-English-Amb</td><td>R=6_Weight=6:R_mst-weight=1:R</td><td>LW</td><td> + </td><td>none</td><td>dDRKd</td><td> 36 </td><td>73%</td><td>41%</td><td>30%</td></tr><tr><td>POC-English-Amb</td><td>R=6_Weight=6:R_mst-weight=1:R</td><td>LW</td><td> + </td><td>none</td><td>dDRKd</td><td> 36 </td><td>73%</td><td>41%</td><td>30%</td></tr><tr><td>POC-English-Amb</td><td>R=6_Weight=6:R_mst-weight=1:R</td><td>LW</td><td> + </td><td>none</td><td>dDRKd</td><td> 36 </td><td>73%</td><td>41%</td><td>30%</td></tr><tr><td>POC-English-Amb</td><td>R=6_Weight=6:R_mst-weight=1:R</td><td>LW</td><td> + </td><td>none</td><td>dDRKd</td><td> 35 </td><td>73%</td><td>41%</td><td>30%</td></tr><tr><td>POC-English-Amb</td><td>R=6_Weight=6:R_mst-weight=1:R</td><td>LW</td><td> + </td><td>none</td><td>dDRKd</td><td> 35 </td><td>73%</td><td>41%</td><td>30%</td></tr><tr><td>POC-English-Amb</td><td>R=6_Weight=6:R_mst-weight=1:R</td><td>LW</td><td> + </td><td>none</td><td>dDRKd</td><td> 36 </td><td>73%</td><td>41%</td><td>30%</td></tr><tr><td>POC-English-Amb</td><td>R=6_Weight=6:R_mst-weight=1:R</td><td>LW</td><td> + </td><td>none</td><td>dDRKd</td><td> 36 </td><td>73%</td><td>41%</td><td>30%</td></tr><tr><td>POC-English-Amb</td><td>R=6_Weight=6:R_mst-weight=1:R</td><td>LW</td><td> + </td><td>none</td><td>dDRKd</td><td> 32 </td><td>75%</td><td>43%</td><td>32%</td></tr><tr><td>POC-English-Amb</td><td>R=6_Weight=6:R_mst-weight=1:R</td><td>LW</td><td> + </td><td>none</td><td>dDRKd</td><td> 32 </td><td>75%</td><td>43%</td><td>32%</td></tr><tr><td>POC-English-Amb</td><td>R=6_Weight=6:R_mst-weight=1:R</td><td> -- </td><td> -- </td><td>none</td><td>dDRKd</td><td> 3 </td><td>95%</td><td>61%</td><td>58%</td></tr><tr><td>POC-English-Amb</td><td>R=6_Weight=6:R_mst-weight=1:R</td><td> -- </td><td> -- </td><td>none</td><td>dDRKd</td><td> 3 </td><td>95%</td><td>61%</td><td>58%</td></tr><tr><td>POC-English-Amb</td><td>R=6_Weight=6:R_mst-weight=1:R</td><td> -- </td><td> -- </td><td>none</td><td>dDRKd</td><td> 3 </td><td>95%</td><td>61%</td><td>58%</td></tr><tr><td>POC-English-Amb</td><td>R=6_Weight=6:R_mst-weight=1:R</td><td> -- </td><td> -- </td><td>none</td><td>dDRKd</td><td> 3 </td><td>95%</td><td>61%</td><td>58%</td></tr><tr><td>POC-English-Amb</td><td>R=6_Weight=6:R_mst-weight=1:R</td><td> -- </td><td> -- </td><td>none</td><td>dDRKd</td><td> 3 </td><td>95%</td><td>65%</td><td>62%</td></tr><tr><td>POC-English-Amb</td><td>R=6_Weight=6:R_mst-weight=1:R</td><td> -- </td><td> -- </td><td>none</td><td>dDRKd</td><td> 3 </td><td>95%</td><td>65%</td><td>62%</td></tr><tr><td>POC-English-Amb</td><td>R=6_Weight=6:R_mst-weight=1:R</td><td> -- </td><td> -- </td><td>none</td><td>dDRKd</td><td> 3 </td><td>95%</td><td>65%</td><td>62%</td></tr><tr><td>POC-English-Amb</td><td>R=6_Weight=6:R_mst-weight=1:R</td><td> -- </td><td> -- </td><td>none</td><td>dDRKd</td><td> 3 </td><td>95%</td><td>65%</td><td>62%</td></tr><tr><td>POC-English-Amb</td><td>R=6_Weight=6:R_mst-weight=1:R</td><td> -- </td><td> -- </td><td>none</td><td>dDRKd</td><td> 3 </td><td>95%</td><td>61%</td><td>58%</td></tr><tr><td>POC-English-Amb</td><td>R=6_Weight=6:R_mst-weight=1:R</td><td> -- </td><td> -- </td><td>none</td><td>dDRKd</td><td> 3 </td><td>95%</td><td>61%</td><td>58%</td></tr><tr><td>POC-English-Amb</td><td>R=6_Weight=6:R_mst-weight=1:R</td><td> -- </td><td> -- </td><td>rules</td><td>dDRKd</td><td> 3 </td><td>93%</td><td>62%</td><td>58%</td></tr><tr><td>POC-English-Amb</td><td>R=6_Weight=6:R_mst-weight=1:R</td><td> -- </td><td> -- </td><td>rules</td><td>dDRKd</td><td> 3 </td><td>93%</td><td>62%</td><td>58%</td></tr><tr><td>POC-English-Amb</td><td>R=6_Weight=6:R_mst-weight=1:R</td><td> -- </td><td> -- </td><td>rules</td><td>dDRKd</td><td> 3 </td><td>95%</td><td>65%</td><td>62%</td></tr><tr><td>POC-English-Amb</td><td>R=6_Weight=6:R_mst-weight=1:R</td><td> -- </td><td> -- </td><td>rules</td><td>dDRKd</td><td> 3 </td><td>95%</td><td>65%</td><td>62%</td></tr><tr><td>POC-English-Amb</td><td>R=6_Weight=6:R_mst-weight=1:R</td><td> -- </td><td> -- </td><td>rules</td><td>dDRKd</td><td> 3 </td><td>95%</td><td>61%</td><td>58%</td></tr><tr><td>POC-English-Amb</td><td>R=6_Weight=6:R_mst-weight=1:R</td><td> -- </td><td> -- </td><td>rules</td><td>dDRKd</td><td> 3 </td><td>95%</td><td>61%</td><td>58%</td></tr><tr><td>POC-English-Amb</td><td>R=6_Weight=6:R_mst-weight=1:R</td><td> -- </td><td> -- </td><td>rules</td><td>dDRKd</td><td> 3 </td><td>95%</td><td>61%</td><td>58%</td></tr><tr><td>POC-English-Amb</td><td>R=6_Weight=6:R_mst-weight=1:R</td><td> -- </td><td> -- </td><td>rules</td><td>dDRKd</td><td> 3 </td><td>95%</td><td>61%</td><td>58%</td></tr><tr><td>POC-English-Amb</td><td>R=6_Weight=6:R_mst-weight=1:R</td><td> -- </td><td> -- </td><td>rules</td><td>dDRKd</td><td> 3 </td><td>95%</td><td>61%</td><td>58%</td></tr><tr><td>POC-English-Amb</td><td>R=6_Weight=6:R_mst-weight=1:R</td><td> -- </td><td> -- </td><td>rules</td><td>dDRKd</td><td> 3 </td><td>95%</td><td>61%</td><td>58%</td></tr><tr><td>POC-English-Amb</td><td>MST_fixed_manually</td><td>LW</td><td> + </td><td>none</td><td>dILEd</td><td> 39 </td><td>12%</td><td>6%</td><td>1%</td></tr><tr><td>POC-English-Amb</td><td>MST_fixed_manually</td><td>LW</td><td> + </td><td>none</td><td>dILEd</td><td> 39 </td><td>12%</td><td>6%</td><td>1%</td></tr><tr><td>POC-English-Amb</td><td>MST_fixed_manually</td><td>LW</td><td> + </td><td>none</td><td>dILEd</td><td> 39 </td><td>12%</td><td>6%</td><td>1%</td></tr><tr><td>POC-English-Amb</td><td>MST_fixed_manually</td><td>LW</td><td> + </td><td>none</td><td>dILEd</td><td> 39 </td><td>12%</td><td>6%</td><td>1%</td></tr><tr><td>POC-English-Amb</td><td>MST_fixed_manually</td><td>LW</td><td> + </td><td>none</td><td>dILEd</td><td> 39 </td><td>12%</td><td>6%</td><td>1%</td></tr><tr><td>POC-English-Amb</td><td>MST_fixed_manually</td><td>LW</td><td> + </td><td>none</td><td>dILEd</td><td> 39 </td><td>12%</td><td>6%</td><td>1%</td></tr><tr><td>POC-English-Amb</td><td>MST_fixed_manually</td><td>LW</td><td> + </td><td>none</td><td>dILEd</td><td> 39 </td><td>12%</td><td>6%</td><td>1%</td></tr><tr><td>POC-English-Amb</td><td>MST_fixed_manually</td><td>LW</td><td> + </td><td>none</td><td>dILEd</td><td> 39 </td><td>12%</td><td>6%</td><td>1%</td></tr><tr><td>POC-English-Amb</td><td>MST_fixed_manually</td><td>LW</td><td> + </td><td>none</td><td>dILEd</td><td> 39 </td><td>12%</td><td>6%</td><td>1%</td></tr><tr><td>POC-English-Amb</td><td>MST_fixed_manually</td><td>LW</td><td> + </td><td>none</td><td>dILEd</td><td> 39 </td><td>12%</td><td>6%</td><td>1%</td></tr><tr><td>POC-English-Amb</td><td>MST_fixed_manually</td><td> -- </td><td> -- </td><td>none</td><td>dILEd</td><td> 37 </td><td>36%</td><td>33%</td><td>12%</td></tr><tr><td>POC-English-Amb</td><td>MST_fixed_manually</td><td> -- </td><td> -- </td><td>none</td><td>dILEd</td><td> 37 </td><td>36%</td><td>33%</td><td>12%</td></tr><tr><td>POC-English-Amb</td><td>MST_fixed_manually</td><td> -- </td><td> -- </td><td>none</td><td>dILEd</td><td> 37 </td><td>36%</td><td>33%</td><td>12%</td></tr><tr><td>POC-English-Amb</td><td>MST_fixed_manually</td><td> -- </td><td> -- </td><td>none</td><td>dILEd</td><td> 37 </td><td>36%</td><td>33%</td><td>12%</td></tr><tr><td>POC-English-Amb</td><td>MST_fixed_manually</td><td> -- </td><td> -- </td><td>none</td><td>dILEd</td><td> 37 </td><td>36%</td><td>33%</td><td>12%</td></tr><tr><td>POC-English-Amb</td><td>MST_fixed_manually</td><td> -- </td><td> -- </td><td>none</td><td>dILEd</td><td> 37 </td><td>36%</td><td>33%</td><td>12%</td></tr><tr><td>POC-English-Amb</td><td>MST_fixed_manually</td><td> -- </td><td> -- </td><td>none</td><td>dILEd</td><td> 37 </td><td>36%</td><td>33%</td><td>12%</td></tr><tr><td>POC-English-Amb</td><td>MST_fixed_manually</td><td> -- </td><td> -- </td><td>none</td><td>dILEd</td><td> 37 </td><td>36%</td><td>33%</td><td>12%</td></tr><tr><td>POC-English-Amb</td><td>MST_fixed_manually</td><td> -- </td><td> -- </td><td>none</td><td>dILEd</td><td> 37 </td><td>36%</td><td>33%</td><td>12%</td></tr><tr><td>POC-English-Amb</td><td>MST_fixed_manually</td><td> -- </td><td> -- </td><td>none</td><td>dILEd</td><td> 37 </td><td>36%</td><td>33%</td><td>12%</td></tr><tr><td>POC-English-Amb</td><td>MST_fixed_manually</td><td> -- </td><td> -- </td><td>rules</td><td>dILEd</td><td> 28 </td><td>2%</td><td>2%</td><td>0%</td></tr><tr><td>POC-English-Amb</td><td>MST_fixed_manually</td><td> -- </td><td> -- </td><td>rules</td><td>dILEd</td><td> 28 </td><td>2%</td><td>2%</td><td>0%</td></tr><tr><td>POC-English-Amb</td><td>MST_fixed_manually</td><td> -- </td><td> -- </td><td>rules</td><td>dILEd</td><td> 28 </td><td>2%</td><td>2%</td><td>0%</td></tr><tr><td>POC-English-Amb</td><td>MST_fixed_manually</td><td> -- </td><td> -- </td><td>rules</td><td>dILEd</td><td> 28 </td><td>2%</td><td>2%</td><td>0%</td></tr><tr><td>POC-English-Amb</td><td>MST_fixed_manually</td><td> -- </td><td> -- </td><td>rules</td><td>dILEd</td><td> 28 </td><td>2%</td><td>2%</td><td>0%</td></tr><tr><td>POC-English-Amb</td><td>MST_fixed_manually</td><td> -- </td><td> -- </td><td>rules</td><td>dILEd</td><td> 28 </td><td>2%</td><td>2%</td><td>0%</td></tr><tr><td>POC-English-Amb</td><td>MST_fixed_manually</td><td> -- </td><td> -- </td><td>rules</td><td>dILEd</td><td> 28 </td><td>2%</td><td>2%</td><td>0%</td></tr><tr><td>POC-English-Amb</td><td>MST_fixed_manually</td><td> -- </td><td> -- </td><td>rules</td><td>dILEd</td><td> 28 </td><td>2%</td><td>2%</td><td>0%</td></tr><tr><td>POC-English-Amb</td><td>MST_fixed_manually</td><td> -- </td><td> -- </td><td>rules</td><td>dILEd</td><td> 28 </td><td>2%</td><td>2%</td><td>0%</td></tr><tr><td>POC-English-Amb</td><td>MST_fixed_manually</td><td> -- </td><td> -- </td><td>rules</td><td>dILEd</td><td> 28 </td><td>2%</td><td>2%</td><td>0%</td></tr><tr><td>POC-English-Amb</td><td>MST_fixed_manually</td><td> -- </td><td> -- </td><td>both</td><td>dILEd</td><td> 28 </td><td>42%</td><td>38%</td><td>16%</td></tr><tr><td>POC-English-Amb</td><td>MST_fixed_manually</td><td> -- </td><td> -- </td><td>both</td><td>dILEd</td><td> 28 </td><td>42%</td><td>38%</td><td>16%</td></tr><tr><td>POC-English-Amb</td><td>MST_fixed_manually</td><td> -- </td><td> -- </td><td>both</td><td>dILEd</td><td> 28 </td><td>42%</td><td>38%</td><td>16%</td></tr><tr><td>POC-English-Amb</td><td>MST_fixed_manually</td><td> -- </td><td> -- </td><td>both</td><td>dILEd</td><td> 28 </td><td>42%</td><td>38%</td><td>16%</td></tr><tr><td>POC-English-Amb</td><td>MST_fixed_manually</td><td> -- </td><td> -- </td><td>both</td><td>dILEd</td><td> 28 </td><td>42%</td><td>38%</td><td>16%</td></tr><tr><td>POC-English-Amb</td><td>MST_fixed_manually</td><td> -- </td><td> -- </td><td>both</td><td>dILEd</td><td> 28 </td><td>42%</td><td>38%</td><td>16%</td></tr><tr><td>POC-English-Amb</td><td>MST_fixed_manually</td><td> -- </td><td> -- </td><td>both</td><td>dILEd</td><td> 28 </td><td>42%</td><td>38%</td><td>16%</td></tr><tr><td>POC-English-Amb</td><td>MST_fixed_manually</td><td> -- </td><td> -- </td><td>both</td><td>dILEd</td><td> 28 </td><td>42%</td><td>38%</td><td>16%</td></tr><tr><td>POC-English-Amb</td><td>MST_fixed_manually</td><td> -- </td><td> -- </td><td>both</td><td>dILEd</td><td> 28 </td><td>42%</td><td>38%</td><td>16%</td></tr><tr><td>POC-English-Amb</td><td>MST_fixed_manually</td><td> -- </td><td> -- </td><td>both</td><td>dILEd</td><td> 28 </td><td>42%</td><td>38%</td><td>16%</td></tr><tr><td>POC-English-Amb</td><td>LG_English</td><td>LW</td><td> + </td><td>none</td><td>dILEd</td><td> 39 </td><td>6%</td><td>3%</td><td>0%</td></tr><tr><td>POC-English-Amb</td><td>LG_English</td><td>LW</td><td> + </td><td>none</td><td>dILEd</td><td> 39 </td><td>6%</td><td>3%</td><td>0%</td></tr><tr><td>POC-English-Amb</td><td>LG_English</td><td>LW</td><td> + </td><td>none</td><td>dILEd</td><td> 39 </td><td>6%</td><td>3%</td><td>0%</td></tr><tr><td>POC-English-Amb</td><td>LG_English</td><td>LW</td><td> + </td><td>none</td><td>dILEd</td><td> 39 </td><td>6%</td><td>3%</td><td>0%</td></tr><tr><td>POC-English-Amb</td><td>LG_English</td><td>LW</td><td> + </td><td>none</td><td>dILEd</td><td> 39 </td><td>6%</td><td>3%</td><td>0%</td></tr><tr><td>POC-English-Amb</td><td>LG_English</td><td>LW</td><td> + </td><td>none</td><td>dILEd</td><td> 39 </td><td>6%</td><td>3%</td><td>0%</td></tr><tr><td>POC-English-Amb</td><td>LG_English</td><td>LW</td><td> + </td><td>none</td><td>dILEd</td><td> 39 </td><td>6%</td><td>3%</td><td>0%</td></tr><tr><td>POC-English-Amb</td><td>LG_English</td><td>LW</td><td> + </td><td>none</td><td>dILEd</td><td> 39 </td><td>6%</td><td>3%</td><td>0%</td></tr><tr><td>POC-English-Amb</td><td>LG_English</td><td>LW</td><td> + </td><td>none</td><td>dILEd</td><td> 39 </td><td>6%</td><td>3%</td><td>0%</td></tr><tr><td>POC-English-Amb</td><td>LG_English</td><td>LW</td><td> + </td><td>none</td><td>dILEd</td><td> 39 </td><td>6%</td><td>3%</td><td>0%</td></tr><tr><td>POC-English-Amb</td><td>LG_English</td><td> -- </td><td> -- </td><td>none</td><td>dILEd</td><td> 37 </td><td>27%</td><td>23%</td><td>6%</td></tr><tr><td>POC-English-Amb</td><td>LG_English</td><td> -- </td><td> -- </td><td>none</td><td>dILEd</td><td> 37 </td><td>27%</td><td>23%</td><td>6%</td></tr><tr><td>POC-English-Amb</td><td>LG_English</td><td> -- </td><td> -- </td><td>none</td><td>dILEd</td><td> 37 </td><td>27%</td><td>23%</td><td>6%</td></tr><tr><td>POC-English-Amb</td><td>LG_English</td><td> -- </td><td> -- </td><td>none</td><td>dILEd</td><td> 37 </td><td>27%</td><td>23%</td><td>6%</td></tr><tr><td>POC-English-Amb</td><td>LG_English</td><td> -- </td><td> -- </td><td>none</td><td>dILEd</td><td> 37 </td><td>27%</td><td>23%</td><td>6%</td></tr><tr><td>POC-English-Amb</td><td>LG_English</td><td> -- </td><td> -- </td><td>none</td><td>dILEd</td><td> 37 </td><td>27%</td><td>23%</td><td>6%</td></tr><tr><td>POC-English-Amb</td><td>LG_English</td><td> -- </td><td> -- </td><td>none</td><td>dILEd</td><td> 37 </td><td>27%</td><td>23%</td><td>6%</td></tr><tr><td>POC-English-Amb</td><td>LG_English</td><td> -- </td><td> -- </td><td>none</td><td>dILEd</td><td> 37 </td><td>27%</td><td>23%</td><td>6%</td></tr><tr><td>POC-English-Amb</td><td>LG_English</td><td> -- </td><td> -- </td><td>none</td><td>dILEd</td><td> 37 </td><td>27%</td><td>23%</td><td>6%</td></tr><tr><td>POC-English-Amb</td><td>LG_English</td><td> -- </td><td> -- </td><td>none</td><td>dILEd</td><td> 37 </td><td>27%</td><td>23%</td><td>6%</td></tr><tr><td>POC-English-Amb</td><td>LG_English</td><td> -- </td><td> -- </td><td>rules</td><td>dILEd</td><td> 31 </td><td>0%</td><td>0%</td><td>0%</td></tr><tr><td>POC-English-Amb</td><td>LG_English</td><td> -- </td><td> -- </td><td>rules</td><td>dILEd</td><td> 31 </td><td>0%</td><td>0%</td><td>0%</td></tr><tr><td>POC-English-Amb</td><td>LG_English</td><td> -- </td><td> -- </td><td>rules</td><td>dILEd</td><td> 31 </td><td>0%</td><td>0%</td><td>0%</td></tr><tr><td>POC-English-Amb</td><td>LG_English</td><td> -- </td><td> -- </td><td>rules</td><td>dILEd</td><td> 31 </td><td>0%</td><td>0%</td><td>0%</td></tr><tr><td>POC-English-Amb</td><td>LG_English</td><td> -- </td><td> -- </td><td>rules</td><td>dILEd</td><td> 31 </td><td>0%</td><td>0%</td><td>0%</td></tr><tr><td>POC-English-Amb</td><td>LG_English</td><td> -- </td><td> -- </td><td>rules</td><td>dILEd</td><td> 31 </td><td>0%</td><td>0%</td><td>0%</td></tr><tr><td>POC-English-Amb</td><td>LG_English</td><td> -- </td><td> -- </td><td>rules</td><td>dILEd</td><td> 31 </td><td>0%</td><td>0%</td><td>0%</td></tr><tr><td>POC-English-Amb</td><td>LG_English</td><td> -- </td><td> -- </td><td>rules</td><td>dILEd</td><td> 31 </td><td>0%</td><td>0%</td><td>0%</td></tr><tr><td>POC-English-Amb</td><td>LG_English</td><td> -- </td><td> -- </td><td>rules</td><td>dILEd</td><td> 31 </td><td>0%</td><td>0%</td><td>0%</td></tr><tr><td>POC-English-Amb</td><td>LG_English</td><td> -- </td><td> -- </td><td>rules</td><td>dILEd</td><td> 31 </td><td>0%</td><td>0%</td><td>0%</td></tr><tr><td>POC-English-Amb</td><td>LG_English</td><td> -- </td><td> -- </td><td>both</td><td>dILEd</td><td> 31 </td><td>28%</td><td>24%</td><td>7%</td></tr><tr><td>POC-English-Amb</td><td>LG_English</td><td> -- </td><td> -- </td><td>both</td><td>dILEd</td><td> 31 </td><td>28%</td><td>24%</td><td>7%</td></tr><tr><td>POC-English-Amb</td><td>LG_English</td><td> -- </td><td> -- </td><td>both</td><td>dILEd</td><td> 31 </td><td>28%</td><td>24%</td><td>7%</td></tr><tr><td>POC-English-Amb</td><td>LG_English</td><td> -- </td><td> -- </td><td>both</td><td>dILEd</td><td> 31 </td><td>28%</td><td>24%</td><td>7%</td></tr><tr><td>POC-English-Amb</td><td>LG_English</td><td> -- </td><td> -- </td><td>both</td><td>dILEd</td><td> 31 </td><td>28%</td><td>24%</td><td>7%</td></tr><tr><td>POC-English-Amb</td><td>LG_English</td><td> -- </td><td> -- </td><td>both</td><td>dILEd</td><td> 31 </td><td>28%</td><td>24%</td><td>7%</td></tr><tr><td>POC-English-Amb</td><td>LG_English</td><td> -- </td><td> -- </td><td>both</td><td>dILEd</td><td> 31 </td><td>28%</td><td>24%</td><td>7%</td></tr><tr><td>POC-English-Amb</td><td>LG_English</td><td> -- </td><td> -- </td><td>both</td><td>dILEd</td><td> 31 </td><td>28%</td><td>24%</td><td>7%</td></tr><tr><td>POC-English-Amb</td><td>LG_English</td><td> -- </td><td> -- </td><td>both</td><td>dILEd</td><td> 31 </td><td>28%</td><td>24%</td><td>7%</td></tr><tr><td>POC-English-Amb</td><td>LG_English</td><td> -- </td><td> -- </td><td>both</td><td>dILEd</td><td> 31 </td><td>28%</td><td>24%</td><td>7%</td></tr><tr><td>POC-English-Amb</td><td>R=6_Weight=6:R_mst-weight=1:R</td><td>LW</td><td> + </td><td>none</td><td>dILEd</td><td> 40 </td><td>65%</td><td>35%</td><td>23%</td></tr><tr><td>POC-English-Amb</td><td>R=6_Weight=6:R_mst-weight=1:R</td><td>LW</td><td> + </td><td>none</td><td>dILEd</td><td> 40 </td><td>65%</td><td>35%</td><td>23%</td></tr><tr><td>POC-English-Amb</td><td>R=6_Weight=6:R_mst-weight=1:R</td><td>LW</td><td> + </td><td>none</td><td>dILEd</td><td> 40 </td><td>65%</td><td>35%</td><td>23%</td></tr><tr><td>POC-English-Amb</td><td>R=6_Weight=6:R_mst-weight=1:R</td><td>LW</td><td> + </td><td>none</td><td>dILEd</td><td> 40 </td><td>65%</td><td>35%</td><td>23%</td></tr><tr><td>POC-English-Amb</td><td>R=6_Weight=6:R_mst-weight=1:R</td><td>LW</td><td> + </td><td>none</td><td>dILEd</td><td> 40 </td><td>65%</td><td>35%</td><td>23%</td></tr><tr><td>POC-English-Amb</td><td>R=6_Weight=6:R_mst-weight=1:R</td><td>LW</td><td> + </td><td>none</td><td>dILEd</td><td> 40 </td><td>65%</td><td>35%</td><td>23%</td></tr><tr><td>POC-English-Amb</td><td>R=6_Weight=6:R_mst-weight=1:R</td><td>LW</td><td> + </td><td>none</td><td>dILEd</td><td> 40 </td><td>65%</td><td>35%</td><td>23%</td></tr><tr><td>POC-English-Amb</td><td>R=6_Weight=6:R_mst-weight=1:R</td><td>LW</td><td> + </td><td>none</td><td>dILEd</td><td> 40 </td><td>65%</td><td>35%</td><td>23%</td></tr><tr><td>POC-English-Amb</td><td>R=6_Weight=6:R_mst-weight=1:R</td><td>LW</td><td> + </td><td>none</td><td>dILEd</td><td> 40 </td><td>65%</td><td>35%</td><td>23%</td></tr><tr><td>POC-English-Amb</td><td>R=6_Weight=6:R_mst-weight=1:R</td><td>LW</td><td> + </td><td>none</td><td>dILEd</td><td> 40 </td><td>65%</td><td>35%</td><td>23%</td></tr><tr><td>POC-English-Amb</td><td>R=6_Weight=6:R_mst-weight=1:R</td><td> -- </td><td> -- </td><td>none</td><td>dILEd</td><td> 38 </td><td>54%</td><td>33%</td><td>18%</td></tr><tr><td>POC-English-Amb</td><td>R=6_Weight=6:R_mst-weight=1:R</td><td> -- </td><td> -- </td><td>none</td><td>dILEd</td><td> 38 </td><td>54%</td><td>33%</td><td>18%</td></tr><tr><td>POC-English-Amb</td><td>R=6_Weight=6:R_mst-weight=1:R</td><td> -- </td><td> -- </td><td>none</td><td>dILEd</td><td> 38 </td><td>54%</td><td>33%</td><td>18%</td></tr><tr><td>POC-English-Amb</td><td>R=6_Weight=6:R_mst-weight=1:R</td><td> -- </td><td> -- </td><td>none</td><td>dILEd</td><td> 38 </td><td>54%</td><td>33%</td><td>18%</td></tr><tr><td>POC-English-Amb</td><td>R=6_Weight=6:R_mst-weight=1:R</td><td> -- </td><td> -- </td><td>none</td><td>dILEd</td><td> 38 </td><td>54%</td><td>33%</td><td>18%</td></tr><tr><td>POC-English-Amb</td><td>R=6_Weight=6:R_mst-weight=1:R</td><td> -- </td><td> -- </td><td>none</td><td>dILEd</td><td> 38 </td><td>54%</td><td>33%</td><td>18%</td></tr><tr><td>POC-English-Amb</td><td>R=6_Weight=6:R_mst-weight=1:R</td><td> -- </td><td> -- </td><td>none</td><td>dILEd</td><td> 38 </td><td>54%</td><td>33%</td><td>18%</td></tr><tr><td>POC-English-Amb</td><td>R=6_Weight=6:R_mst-weight=1:R</td><td> -- </td><td> -- </td><td>none</td><td>dILEd</td><td> 38 </td><td>54%</td><td>33%</td><td>18%</td></tr><tr><td>POC-English-Amb</td><td>R=6_Weight=6:R_mst-weight=1:R</td><td> -- </td><td> -- </td><td>none</td><td>dILEd</td><td> 38 </td><td>54%</td><td>33%</td><td>18%</td></tr><tr><td>POC-English-Amb</td><td>R=6_Weight=6:R_mst-weight=1:R</td><td> -- </td><td> -- </td><td>none</td><td>dILEd</td><td> 38 </td><td>54%</td><td>33%</td><td>18%</td></tr><tr><td>POC-English-Amb</td><td>R=6_Weight=6:R_mst-weight=1:R</td><td> -- </td><td> -- </td><td>rules</td><td>dILEd</td><td> 34 </td><td>16%</td><td>9%</td><td>1%</td></tr><tr><td>POC-English-Amb</td><td>R=6_Weight=6:R_mst-weight=1:R</td><td> -- </td><td> -- </td><td>rules</td><td>dILEd</td><td> 34 </td><td>16%</td><td>9%</td><td>1%</td></tr><tr><td>POC-English-Amb</td><td>R=6_Weight=6:R_mst-weight=1:R</td><td> -- </td><td> -- </td><td>rules</td><td>dILEd</td><td> 34 </td><td>16%</td><td>9%</td><td>1%</td></tr><tr><td>POC-English-Amb</td><td>R=6_Weight=6:R_mst-weight=1:R</td><td> -- </td><td> -- </td><td>rules</td><td>dILEd</td><td> 34 </td><td>16%</td><td>9%</td><td>1%</td></tr><tr><td>POC-English-Amb</td><td>R=6_Weight=6:R_mst-weight=1:R</td><td> -- </td><td> -- </td><td>rules</td><td>dILEd</td><td> 34 </td><td>16%</td><td>9%</td><td>1%</td></tr><tr><td>POC-English-Amb</td><td>R=6_Weight=6:R_mst-weight=1:R</td><td> -- </td><td> -- </td><td>rules</td><td>dILEd</td><td> 34 </td><td>16%</td><td>9%</td><td>1%</td></tr><tr><td>POC-English-Amb</td><td>R=6_Weight=6:R_mst-weight=1:R</td><td> -- </td><td> -- </td><td>rules</td><td>dILEd</td><td> 34 </td><td>16%</td><td>9%</td><td>1%</td></tr><tr><td>POC-English-Amb</td><td>R=6_Weight=6:R_mst-weight=1:R</td><td> -- </td><td> -- </td><td>rules</td><td>dILEd</td><td> 34 </td><td>16%</td><td>9%</td><td>1%</td></tr><tr><td>POC-English-Amb</td><td>R=6_Weight=6:R_mst-weight=1:R</td><td> -- </td><td> -- </td><td>rules</td><td>dILEd</td><td> 34 </td><td>16%</td><td>9%</td><td>1%</td></tr><tr><td>POC-English-Amb</td><td>R=6_Weight=6:R_mst-weight=1:R</td><td> -- </td><td> -- </td><td>rules</td><td>dILEd</td><td> 34 </td><td>16%</td><td>9%</td><td>1%</td></tr><tr><td>POC-English-Amb</td><td>R=6_Weight=6:R_mst-weight=1:R</td><td> -- </td><td> -- </td><td>both</td><td>dILEd</td><td> 34 </td><td>71%</td><td>43%</td><td>31%</td></tr><tr><td>POC-English-Amb</td><td>R=6_Weight=6:R_mst-weight=1:R</td><td> -- </td><td> -- </td><td>both</td><td>dILEd</td><td> 34 </td><td>71%</td><td>43%</td><td>31%</td></tr><tr><td>POC-English-Amb</td><td>R=6_Weight=6:R_mst-weight=1:R</td><td> -- </td><td> -- </td><td>both</td><td>dILEd</td><td> 34 </td><td>71%</td><td>43%</td><td>31%</td></tr><tr><td>POC-English-Amb</td><td>R=6_Weight=6:R_mst-weight=1:R</td><td> -- </td><td> -- </td><td>both</td><td>dILEd</td><td> 34 </td><td>71%</td><td>43%</td><td>31%</td></tr><tr><td>POC-English-Amb</td><td>R=6_Weight=6:R_mst-weight=1:R</td><td> -- </td><td> -- </td><td>both</td><td>dILEd</td><td> 34 </td><td>71%</td><td>43%</td><td>31%</td></tr><tr><td>POC-English-Amb</td><td>R=6_Weight=6:R_mst-weight=1:R</td><td> -- </td><td> -- </td><td>both</td><td>dILEd</td><td> 34 </td><td>71%</td><td>43%</td><td>31%</td></tr><tr><td>POC-English-Amb</td><td>R=6_Weight=6:R_mst-weight=1:R</td><td> -- </td><td> -- </td><td>both</td><td>dILEd</td><td> 34 </td><td>71%</td><td>43%</td><td>31%</td></tr><tr><td>POC-English-Amb</td><td>R=6_Weight=6:R_mst-weight=1:R</td><td> -- </td><td> -- </td><td>both</td><td>dILEd</td><td> 34 </td><td>71%</td><td>43%</td><td>31%</td></tr><tr><td>POC-English-Amb</td><td>R=6_Weight=6:R_mst-weight=1:R</td><td> -- </td><td> -- </td><td>both</td><td>dILEd</td><td> 34 </td><td>71%</td><td>43%</td><td>31%</td></tr><tr><td>POC-English-Amb</td><td>R=6_Weight=6:R_mst-weight=1:R</td><td> -- </td><td> -- </td><td>both</td><td>dILEd</td><td> 34 </td><td>71%</td><td>43%</td><td>31%</td></tr></table>"
      ],
      "text/plain": [
       "<IPython.core.display.HTML object>"
      ]
     },
     "metadata": {},
     "output_type": "display_data"
    }
   ],
   "source": [
    "display(html_table([header]+long_table))"
   ]
  },
  {
   "cell_type": "code",
   "execution_count": 15,
   "metadata": {},
   "outputs": [],
   "source": [
    "from src.utl.write_files import list2file\n",
    "table_str = list2file(table, out_dir+'/short_table.txt')\n",
    "long_table_str = list2file(long_table, out_dir+'/long_table.txt')"
   ]
  },
  {
   "cell_type": "code",
   "execution_count": 16,
   "metadata": {},
   "outputs": [
    {
     "name": "stdout",
     "output_type": "stream",
     "text": [
      "2018-06-27 06:30:20 UTC :: finished, elapsed 4 min\n"
     ]
    }
   ],
   "source": [
    "print(UTC(), ':: finished, elapsed', str(int(round((time.time()-start)/60, 0))), 'min')"
   ]
  },
  {
   "cell_type": "code",
   "execution_count": null,
   "metadata": {},
   "outputs": [],
   "source": []
  }
 ],
 "metadata": {
  "kernelspec": {
   "display_name": "Python [conda env:ull4]",
   "language": "python",
   "name": "conda-env-ull4-py"
  },
  "language_info": {
   "codemirror_mode": {
    "name": "ipython",
    "version": 3
   },
   "file_extension": ".py",
   "mimetype": "text/x-python",
   "name": "python",
   "nbconvert_exporter": "python",
   "pygments_lexer": "ipython3",
   "version": "3.6.4"
  },
  "toc": {
   "base_numbering": 1,
   "nav_menu": {},
   "number_sections": true,
   "sideBar": true,
   "skip_h1_title": false,
   "title_cell": "Table of Contents",
   "title_sidebar": "Contents",
   "toc_cell": false,
   "toc_position": {},
   "toc_section_display": true,
   "toc_window_display": false
  }
 },
 "nbformat": 4,
 "nbformat_minor": 2
}
